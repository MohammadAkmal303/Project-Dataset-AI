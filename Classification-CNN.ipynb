{
 "cells": [
  {
   "cell_type": "markdown",
   "metadata": {},
   "source": [
    "<h1>Import Module</h1>"
   ]
  },
  {
   "cell_type": "code",
   "execution_count": 14,
   "metadata": {},
   "outputs": [],
   "source": [
    "from sklearn.model_selection import train_test_split\n",
    "from sklearn.preprocessing import LabelEncoder\n",
    "from sklearn.metrics import classification_report\n",
    "from tensorflow.keras.models import Sequential\n",
    "from tensorflow.keras.layers import InputLayer, Flatten, Dense, Conv2D, MaxPool2D, Dropout\n",
    "from tensorflow.keras.optimizers import Adam\n",
    "import numpy as np\n",
    "import cv2\n",
    "import glob\n",
    "import matplotlib.pyplot as plt"
   ]
  },
  {
   "cell_type": "markdown",
   "metadata": {},
   "source": [
    "<h1> Load Dataset<h1\\>"
   ]
  },
  {
   "cell_type": "code",
   "execution_count": 15,
   "metadata": {},
   "outputs": [],
   "source": [
    "imagePaths = 'Dataset\\\\'\n",
    "label_list = ['jeruknipis', 'Seledri']\n",
    "data = []\n",
    "labels = []"
   ]
  },
  {
   "cell_type": "code",
   "execution_count": 16,
   "metadata": {},
   "outputs": [],
   "source": [
    "for label in label_list:\n",
    "    for imagePath in glob.glob(imagePaths+label+'\\\\*.jpg'):\n",
    "        #print(imagePath)\n",
    "        image = cv2.imread(imagePath)\n",
    "        image = cv2.resize(image, (32, 32))\n",
    "        data.append(image)\n",
    "        labels.append(label)"
   ]
  },
  {
   "cell_type": "code",
   "execution_count": 17,
   "metadata": {},
   "outputs": [
    {
     "data": {
      "text/plain": [
       "(100, 32, 32, 3)"
      ]
     },
     "execution_count": 17,
     "metadata": {},
     "output_type": "execute_result"
    }
   ],
   "source": [
    "np.array(data).shape"
   ]
  },
  {
   "cell_type": "markdown",
   "metadata": {},
   "source": [
    "<h1>Data Preprocessing</h1>"
   ]
  },
  {
   "cell_type": "code",
   "execution_count": 18,
   "metadata": {},
   "outputs": [],
   "source": [
    "data = np.array(data, dtype='float') / 255.0\n",
    "labels = np.array(labels)"
   ]
  },
  {
   "cell_type": "code",
   "execution_count": 19,
   "metadata": {},
   "outputs": [
    {
     "name": "stdout",
     "output_type": "stream",
     "text": [
      "['jeruknipis' 'jeruknipis' 'jeruknipis' 'jeruknipis' 'jeruknipis'\n",
      " 'jeruknipis' 'jeruknipis' 'jeruknipis' 'jeruknipis' 'jeruknipis'\n",
      " 'jeruknipis' 'jeruknipis' 'jeruknipis' 'jeruknipis' 'jeruknipis'\n",
      " 'jeruknipis' 'jeruknipis' 'jeruknipis' 'jeruknipis' 'jeruknipis'\n",
      " 'jeruknipis' 'jeruknipis' 'jeruknipis' 'jeruknipis' 'jeruknipis'\n",
      " 'jeruknipis' 'jeruknipis' 'jeruknipis' 'jeruknipis' 'jeruknipis'\n",
      " 'jeruknipis' 'jeruknipis' 'jeruknipis' 'jeruknipis' 'jeruknipis'\n",
      " 'jeruknipis' 'jeruknipis' 'jeruknipis' 'jeruknipis' 'jeruknipis'\n",
      " 'jeruknipis' 'jeruknipis' 'jeruknipis' 'jeruknipis' 'jeruknipis'\n",
      " 'jeruknipis' 'jeruknipis' 'jeruknipis' 'jeruknipis' 'jeruknipis'\n",
      " 'Seledri' 'Seledri' 'Seledri' 'Seledri' 'Seledri' 'Seledri' 'Seledri'\n",
      " 'Seledri' 'Seledri' 'Seledri' 'Seledri' 'Seledri' 'Seledri' 'Seledri'\n",
      " 'Seledri' 'Seledri' 'Seledri' 'Seledri' 'Seledri' 'Seledri' 'Seledri'\n",
      " 'Seledri' 'Seledri' 'Seledri' 'Seledri' 'Seledri' 'Seledri' 'Seledri'\n",
      " 'Seledri' 'Seledri' 'Seledri' 'Seledri' 'Seledri' 'Seledri' 'Seledri'\n",
      " 'Seledri' 'Seledri' 'Seledri' 'Seledri' 'Seledri' 'Seledri' 'Seledri'\n",
      " 'Seledri' 'Seledri' 'Seledri' 'Seledri' 'Seledri' 'Seledri' 'Seledri'\n",
      " 'Seledri']\n"
     ]
    }
   ],
   "source": [
    "print(labels)"
   ]
  },
  {
   "cell_type": "code",
   "execution_count": 20,
   "metadata": {},
   "outputs": [
    {
     "name": "stdout",
     "output_type": "stream",
     "text": [
      "[1 1 1 1 1 1 1 1 1 1 1 1 1 1 1 1 1 1 1 1 1 1 1 1 1 1 1 1 1 1 1 1 1 1 1 1 1\n",
      " 1 1 1 1 1 1 1 1 1 1 1 1 1 0 0 0 0 0 0 0 0 0 0 0 0 0 0 0 0 0 0 0 0 0 0 0 0\n",
      " 0 0 0 0 0 0 0 0 0 0 0 0 0 0 0 0 0 0 0 0 0 0 0 0 0 0]\n"
     ]
    }
   ],
   "source": [
    "# ubah nilai dari labels menjadi binary\n",
    "lb = LabelEncoder()\n",
    "labels = lb.fit_transform(labels)\n",
    "print(labels)"
   ]
  },
  {
   "cell_type": "markdown",
   "metadata": {},
   "source": [
    "<h1> Split Dataset <h1\\>"
   ]
  },
  {
   "cell_type": "code",
   "execution_count": 21,
   "metadata": {},
   "outputs": [],
   "source": [
    "x_train, x_test, y_train, y_test = train_test_split(data, labels, test_size=0.2, random_state=42)"
   ]
  },
  {
   "cell_type": "code",
   "execution_count": 22,
   "metadata": {},
   "outputs": [
    {
     "name": "stdout",
     "output_type": "stream",
     "text": [
      "Ukuran data train = (80, 32, 32, 3)\n",
      "Ukuran data test = (20, 32, 32, 3)\n"
     ]
    }
   ],
   "source": [
    "print('Ukuran data train =', x_train.shape)\n",
    "print('Ukuran data test =', x_test.shape)"
   ]
  },
  {
   "cell_type": "markdown",
   "metadata": {},
   "source": [
    "<h1>Build CNN Architecture</h1>"
   ]
  },
  {
   "cell_type": "code",
   "execution_count": 23,
   "metadata": {},
   "outputs": [],
   "source": [
    "model = Sequential()\n",
    "# Extracted Feature Layer\n",
    "model.add(InputLayer(input_shape=[32,32,3]))\n",
    "model.add(Conv2D(filters=32, kernel_size=2, strides=1, padding='same', activation='relu'))\n",
    "model.add(MaxPool2D(pool_size=2, padding='same'))\n",
    "model.add(Conv2D(filters=50, kernel_size=2, strides=1, padding='same', activation='relu'))\n",
    "model.add(MaxPool2D(pool_size=2, padding='same'))\n",
    "model.add(Dropout(0.25))\n",
    "model.add(Flatten())\n",
    "# Fully Connected Layer\n",
    "model.add(Dense(512, activation='relu'))\n",
    "model.add(Dropout(0.5))\n",
    "model.add(Dense(1, activation='sigmoid'))"
   ]
  },
  {
   "cell_type": "code",
   "execution_count": 24,
   "metadata": {},
   "outputs": [
    {
     "name": "stdout",
     "output_type": "stream",
     "text": [
      "Model: \"sequential\"\n",
      "_________________________________________________________________\n",
      " Layer (type)                Output Shape              Param #   \n",
      "=================================================================\n",
      " conv2d (Conv2D)             (None, 32, 32, 32)        416       \n",
      "                                                                 \n",
      " max_pooling2d (MaxPooling2D  (None, 16, 16, 32)       0         \n",
      " )                                                               \n",
      "                                                                 \n",
      " conv2d_1 (Conv2D)           (None, 16, 16, 50)        6450      \n",
      "                                                                 \n",
      " max_pooling2d_1 (MaxPooling  (None, 8, 8, 50)         0         \n",
      " 2D)                                                             \n",
      "                                                                 \n",
      " dropout (Dropout)           (None, 8, 8, 50)          0         \n",
      "                                                                 \n",
      " flatten (Flatten)           (None, 3200)              0         \n",
      "                                                                 \n",
      " dense (Dense)               (None, 512)               1638912   \n",
      "                                                                 \n",
      " dropout_1 (Dropout)         (None, 512)               0         \n",
      "                                                                 \n",
      " dense_1 (Dense)             (None, 1)                 513       \n",
      "                                                                 \n",
      "=================================================================\n",
      "Total params: 1,646,291\n",
      "Trainable params: 1,646,291\n",
      "Non-trainable params: 0\n",
      "_________________________________________________________________\n"
     ]
    }
   ],
   "source": [
    "model.summary()"
   ]
  },
  {
   "cell_type": "code",
   "execution_count": 25,
   "metadata": {},
   "outputs": [],
   "source": [
    "lr = 0.001\n",
    "max_epochs = 100\n",
    "opt_funct = Adam(learning_rate=lr)"
   ]
  },
  {
   "cell_type": "code",
   "execution_count": 26,
   "metadata": {},
   "outputs": [],
   "source": [
    "model.compile(loss = 'binary_crossentropy', \n",
    "              optimizer = opt_funct, \n",
    "              metrics = ['accuracy'])"
   ]
  },
  {
   "cell_type": "markdown",
   "metadata": {},
   "source": [
    "<h1> Train Model <h1\\>"
   ]
  },
  {
   "cell_type": "code",
   "execution_count": 27,
   "metadata": {},
   "outputs": [
    {
     "name": "stdout",
     "output_type": "stream",
     "text": [
      "Epoch 1/100\n",
      "3/3 [==============================] - 2s 384ms/step - loss: 0.8083 - accuracy: 0.4625 - val_loss: 0.9713 - val_accuracy: 0.4000\n",
      "Epoch 2/100\n",
      "3/3 [==============================] - 0s 76ms/step - loss: 0.8527 - accuracy: 0.4250 - val_loss: 0.6515 - val_accuracy: 0.6000\n",
      "Epoch 3/100\n",
      "3/3 [==============================] - 0s 75ms/step - loss: 0.7029 - accuracy: 0.4875 - val_loss: 0.7115 - val_accuracy: 0.4000\n",
      "Epoch 4/100\n",
      "3/3 [==============================] - 0s 72ms/step - loss: 0.6768 - accuracy: 0.6000 - val_loss: 0.7245 - val_accuracy: 0.4000\n",
      "Epoch 5/100\n",
      "3/3 [==============================] - 0s 78ms/step - loss: 0.6779 - accuracy: 0.5500 - val_loss: 0.6785 - val_accuracy: 0.4000\n",
      "Epoch 6/100\n",
      "3/3 [==============================] - 0s 85ms/step - loss: 0.6487 - accuracy: 0.6625 - val_loss: 0.6429 - val_accuracy: 0.8000\n",
      "Epoch 7/100\n",
      "3/3 [==============================] - 0s 78ms/step - loss: 0.6324 - accuracy: 0.7000 - val_loss: 0.6242 - val_accuracy: 0.8000\n",
      "Epoch 8/100\n",
      "3/3 [==============================] - 0s 78ms/step - loss: 0.6000 - accuracy: 0.7875 - val_loss: 0.6167 - val_accuracy: 0.9000\n",
      "Epoch 9/100\n",
      "3/3 [==============================] - 0s 76ms/step - loss: 0.5828 - accuracy: 0.8000 - val_loss: 0.5805 - val_accuracy: 0.8500\n",
      "Epoch 10/100\n",
      "3/3 [==============================] - 0s 79ms/step - loss: 0.5449 - accuracy: 0.7750 - val_loss: 0.5445 - val_accuracy: 0.8500\n",
      "Epoch 11/100\n",
      "3/3 [==============================] - 0s 76ms/step - loss: 0.5212 - accuracy: 0.8500 - val_loss: 0.4965 - val_accuracy: 0.9000\n",
      "Epoch 12/100\n",
      "3/3 [==============================] - 0s 81ms/step - loss: 0.4540 - accuracy: 0.9125 - val_loss: 0.5068 - val_accuracy: 0.9000\n",
      "Epoch 13/100\n",
      "3/3 [==============================] - 0s 74ms/step - loss: 0.4476 - accuracy: 0.8375 - val_loss: 0.4205 - val_accuracy: 0.8000\n",
      "Epoch 14/100\n",
      "3/3 [==============================] - 0s 76ms/step - loss: 0.4236 - accuracy: 0.8875 - val_loss: 0.4332 - val_accuracy: 0.9000\n",
      "Epoch 15/100\n",
      "3/3 [==============================] - 0s 76ms/step - loss: 0.3931 - accuracy: 0.8625 - val_loss: 0.3627 - val_accuracy: 0.8500\n",
      "Epoch 16/100\n",
      "3/3 [==============================] - 0s 82ms/step - loss: 0.3622 - accuracy: 0.8750 - val_loss: 0.3333 - val_accuracy: 0.9000\n",
      "Epoch 17/100\n",
      "3/3 [==============================] - 0s 89ms/step - loss: 0.2998 - accuracy: 0.9500 - val_loss: 0.3179 - val_accuracy: 0.9000\n",
      "Epoch 18/100\n",
      "3/3 [==============================] - 0s 76ms/step - loss: 0.2732 - accuracy: 0.9750 - val_loss: 0.2784 - val_accuracy: 0.9500\n",
      "Epoch 19/100\n",
      "3/3 [==============================] - 0s 95ms/step - loss: 0.2136 - accuracy: 0.9500 - val_loss: 0.2737 - val_accuracy: 0.9500\n",
      "Epoch 20/100\n",
      "3/3 [==============================] - 0s 82ms/step - loss: 0.2190 - accuracy: 0.9750 - val_loss: 0.2550 - val_accuracy: 0.9000\n",
      "Epoch 21/100\n",
      "3/3 [==============================] - 0s 76ms/step - loss: 0.2495 - accuracy: 0.9250 - val_loss: 0.2128 - val_accuracy: 0.9500\n",
      "Epoch 22/100\n",
      "3/3 [==============================] - 0s 79ms/step - loss: 0.2213 - accuracy: 0.9375 - val_loss: 0.1993 - val_accuracy: 1.0000\n",
      "Epoch 23/100\n",
      "3/3 [==============================] - 0s 80ms/step - loss: 0.1719 - accuracy: 0.9500 - val_loss: 0.2053 - val_accuracy: 0.9000\n",
      "Epoch 24/100\n",
      "3/3 [==============================] - 0s 74ms/step - loss: 0.1633 - accuracy: 0.9625 - val_loss: 0.2017 - val_accuracy: 0.9500\n",
      "Epoch 25/100\n",
      "3/3 [==============================] - 0s 81ms/step - loss: 0.1600 - accuracy: 0.9625 - val_loss: 0.1696 - val_accuracy: 0.9500\n",
      "Epoch 26/100\n",
      "3/3 [==============================] - 0s 80ms/step - loss: 0.1351 - accuracy: 0.9500 - val_loss: 0.1669 - val_accuracy: 0.9500\n",
      "Epoch 27/100\n",
      "3/3 [==============================] - 0s 80ms/step - loss: 0.1269 - accuracy: 0.9750 - val_loss: 0.1484 - val_accuracy: 0.9500\n",
      "Epoch 28/100\n",
      "3/3 [==============================] - 0s 75ms/step - loss: 0.1150 - accuracy: 0.9625 - val_loss: 0.1416 - val_accuracy: 0.9500\n",
      "Epoch 29/100\n",
      "3/3 [==============================] - 0s 87ms/step - loss: 0.1072 - accuracy: 0.9875 - val_loss: 0.1297 - val_accuracy: 0.9500\n",
      "Epoch 30/100\n",
      "3/3 [==============================] - 0s 73ms/step - loss: 0.0827 - accuracy: 0.9875 - val_loss: 0.1298 - val_accuracy: 0.9500\n",
      "Epoch 31/100\n",
      "3/3 [==============================] - 0s 85ms/step - loss: 0.0789 - accuracy: 0.9875 - val_loss: 0.1257 - val_accuracy: 0.9500\n",
      "Epoch 32/100\n",
      "3/3 [==============================] - 0s 81ms/step - loss: 0.0725 - accuracy: 0.9875 - val_loss: 0.1251 - val_accuracy: 0.9500\n",
      "Epoch 33/100\n",
      "3/3 [==============================] - 0s 78ms/step - loss: 0.1071 - accuracy: 0.9500 - val_loss: 0.1149 - val_accuracy: 0.9500\n",
      "Epoch 34/100\n",
      "3/3 [==============================] - 0s 81ms/step - loss: 0.0904 - accuracy: 0.9750 - val_loss: 0.1176 - val_accuracy: 1.0000\n",
      "Epoch 35/100\n",
      "3/3 [==============================] - 0s 90ms/step - loss: 0.1088 - accuracy: 0.9500 - val_loss: 0.2293 - val_accuracy: 0.9000\n",
      "Epoch 36/100\n",
      "3/3 [==============================] - 0s 80ms/step - loss: 0.1279 - accuracy: 0.9375 - val_loss: 0.0991 - val_accuracy: 1.0000\n",
      "Epoch 37/100\n",
      "3/3 [==============================] - 0s 83ms/step - loss: 0.1224 - accuracy: 0.9500 - val_loss: 0.0873 - val_accuracy: 1.0000\n",
      "Epoch 38/100\n",
      "3/3 [==============================] - 0s 75ms/step - loss: 0.0517 - accuracy: 1.0000 - val_loss: 0.1210 - val_accuracy: 0.9500\n",
      "Epoch 39/100\n",
      "3/3 [==============================] - 0s 80ms/step - loss: 0.0705 - accuracy: 0.9750 - val_loss: 0.0958 - val_accuracy: 0.9500\n",
      "Epoch 40/100\n",
      "3/3 [==============================] - 0s 79ms/step - loss: 0.0626 - accuracy: 0.9750 - val_loss: 0.0787 - val_accuracy: 1.0000\n",
      "Epoch 41/100\n",
      "3/3 [==============================] - 0s 81ms/step - loss: 0.0689 - accuracy: 0.9625 - val_loss: 0.0779 - val_accuracy: 1.0000\n",
      "Epoch 42/100\n",
      "3/3 [==============================] - 0s 83ms/step - loss: 0.0620 - accuracy: 0.9875 - val_loss: 0.0749 - val_accuracy: 1.0000\n",
      "Epoch 43/100\n",
      "3/3 [==============================] - 0s 73ms/step - loss: 0.0444 - accuracy: 1.0000 - val_loss: 0.0746 - val_accuracy: 1.0000\n",
      "Epoch 44/100\n",
      "3/3 [==============================] - 0s 82ms/step - loss: 0.0434 - accuracy: 1.0000 - val_loss: 0.0689 - val_accuracy: 1.0000\n",
      "Epoch 45/100\n",
      "3/3 [==============================] - 0s 79ms/step - loss: 0.0382 - accuracy: 1.0000 - val_loss: 0.0759 - val_accuracy: 0.9500\n",
      "Epoch 46/100\n",
      "3/3 [==============================] - 0s 80ms/step - loss: 0.0561 - accuracy: 1.0000 - val_loss: 0.0767 - val_accuracy: 0.9500\n",
      "Epoch 47/100\n",
      "3/3 [==============================] - 0s 90ms/step - loss: 0.0394 - accuracy: 0.9875 - val_loss: 0.0668 - val_accuracy: 1.0000\n",
      "Epoch 48/100\n",
      "3/3 [==============================] - 0s 72ms/step - loss: 0.0298 - accuracy: 1.0000 - val_loss: 0.0625 - val_accuracy: 1.0000\n",
      "Epoch 49/100\n",
      "3/3 [==============================] - 0s 86ms/step - loss: 0.0381 - accuracy: 0.9875 - val_loss: 0.0982 - val_accuracy: 0.9500\n",
      "Epoch 50/100\n",
      "3/3 [==============================] - 0s 80ms/step - loss: 0.0409 - accuracy: 0.9875 - val_loss: 0.0979 - val_accuracy: 0.9500\n",
      "Epoch 51/100\n",
      "3/3 [==============================] - 0s 75ms/step - loss: 0.0277 - accuracy: 0.9875 - val_loss: 0.0571 - val_accuracy: 1.0000\n",
      "Epoch 52/100\n",
      "3/3 [==============================] - 0s 86ms/step - loss: 0.0441 - accuracy: 0.9750 - val_loss: 0.0493 - val_accuracy: 1.0000\n",
      "Epoch 53/100\n",
      "3/3 [==============================] - 0s 76ms/step - loss: 0.0222 - accuracy: 1.0000 - val_loss: 0.0821 - val_accuracy: 0.9500\n",
      "Epoch 54/100\n",
      "3/3 [==============================] - 0s 85ms/step - loss: 0.0178 - accuracy: 1.0000 - val_loss: 0.0882 - val_accuracy: 0.9500\n",
      "Epoch 55/100\n",
      "3/3 [==============================] - 0s 78ms/step - loss: 0.0222 - accuracy: 1.0000 - val_loss: 0.0643 - val_accuracy: 0.9500\n",
      "Epoch 56/100\n",
      "3/3 [==============================] - 0s 77ms/step - loss: 0.0253 - accuracy: 0.9875 - val_loss: 0.0579 - val_accuracy: 1.0000\n",
      "Epoch 57/100\n",
      "3/3 [==============================] - 0s 86ms/step - loss: 0.0199 - accuracy: 1.0000 - val_loss: 0.0605 - val_accuracy: 0.9500\n",
      "Epoch 58/100\n",
      "3/3 [==============================] - 0s 77ms/step - loss: 0.0334 - accuracy: 0.9875 - val_loss: 0.0533 - val_accuracy: 1.0000\n",
      "Epoch 59/100\n",
      "3/3 [==============================] - 0s 81ms/step - loss: 0.0182 - accuracy: 1.0000 - val_loss: 0.0593 - val_accuracy: 0.9500\n",
      "Epoch 60/100\n",
      "3/3 [==============================] - 0s 77ms/step - loss: 0.0210 - accuracy: 1.0000 - val_loss: 0.0509 - val_accuracy: 1.0000\n",
      "Epoch 61/100\n",
      "3/3 [==============================] - 0s 76ms/step - loss: 0.0646 - accuracy: 0.9875 - val_loss: 0.0582 - val_accuracy: 0.9500\n",
      "Epoch 62/100\n",
      "3/3 [==============================] - 0s 74ms/step - loss: 0.0178 - accuracy: 1.0000 - val_loss: 0.0709 - val_accuracy: 0.9500\n",
      "Epoch 63/100\n",
      "3/3 [==============================] - 0s 83ms/step - loss: 0.0284 - accuracy: 1.0000 - val_loss: 0.0441 - val_accuracy: 1.0000\n",
      "Epoch 64/100\n",
      "3/3 [==============================] - 0s 85ms/step - loss: 0.0299 - accuracy: 0.9875 - val_loss: 0.0446 - val_accuracy: 1.0000\n",
      "Epoch 65/100\n",
      "3/3 [==============================] - 0s 77ms/step - loss: 0.0305 - accuracy: 0.9750 - val_loss: 0.0792 - val_accuracy: 0.9500\n",
      "Epoch 66/100\n",
      "3/3 [==============================] - 0s 76ms/step - loss: 0.0250 - accuracy: 0.9875 - val_loss: 0.0462 - val_accuracy: 1.0000\n",
      "Epoch 67/100\n",
      "3/3 [==============================] - 0s 74ms/step - loss: 0.0189 - accuracy: 1.0000 - val_loss: 0.0470 - val_accuracy: 1.0000\n",
      "Epoch 68/100\n",
      "3/3 [==============================] - 0s 82ms/step - loss: 0.0171 - accuracy: 1.0000 - val_loss: 0.0559 - val_accuracy: 1.0000\n",
      "Epoch 69/100\n",
      "3/3 [==============================] - 0s 118ms/step - loss: 0.0113 - accuracy: 1.0000 - val_loss: 0.0676 - val_accuracy: 0.9500\n",
      "Epoch 70/100\n",
      "3/3 [==============================] - 0s 76ms/step - loss: 0.0170 - accuracy: 1.0000 - val_loss: 0.0558 - val_accuracy: 1.0000\n",
      "Epoch 71/100\n",
      "3/3 [==============================] - 0s 81ms/step - loss: 0.0198 - accuracy: 0.9875 - val_loss: 0.0575 - val_accuracy: 0.9500\n",
      "Epoch 72/100\n",
      "3/3 [==============================] - 0s 77ms/step - loss: 0.0169 - accuracy: 1.0000 - val_loss: 0.0514 - val_accuracy: 1.0000\n",
      "Epoch 73/100\n",
      "3/3 [==============================] - 0s 84ms/step - loss: 0.0225 - accuracy: 1.0000 - val_loss: 0.0471 - val_accuracy: 1.0000\n",
      "Epoch 74/100\n",
      "3/3 [==============================] - 0s 80ms/step - loss: 0.0151 - accuracy: 1.0000 - val_loss: 0.0560 - val_accuracy: 0.9500\n",
      "Epoch 75/100\n",
      "3/3 [==============================] - 0s 76ms/step - loss: 0.0161 - accuracy: 1.0000 - val_loss: 0.0521 - val_accuracy: 1.0000\n",
      "Epoch 76/100\n",
      "3/3 [==============================] - 0s 85ms/step - loss: 0.0155 - accuracy: 1.0000 - val_loss: 0.0406 - val_accuracy: 1.0000\n",
      "Epoch 77/100\n",
      "3/3 [==============================] - 0s 81ms/step - loss: 0.0111 - accuracy: 1.0000 - val_loss: 0.0389 - val_accuracy: 1.0000\n",
      "Epoch 78/100\n",
      "3/3 [==============================] - 0s 79ms/step - loss: 0.0129 - accuracy: 1.0000 - val_loss: 0.0420 - val_accuracy: 1.0000\n",
      "Epoch 79/100\n",
      "3/3 [==============================] - 0s 81ms/step - loss: 0.0104 - accuracy: 1.0000 - val_loss: 0.0581 - val_accuracy: 0.9500\n",
      "Epoch 80/100\n",
      "3/3 [==============================] - 0s 76ms/step - loss: 0.0124 - accuracy: 1.0000 - val_loss: 0.0545 - val_accuracy: 0.9500\n",
      "Epoch 81/100\n",
      "3/3 [==============================] - 0s 81ms/step - loss: 0.0097 - accuracy: 1.0000 - val_loss: 0.0417 - val_accuracy: 1.0000\n",
      "Epoch 82/100\n",
      "3/3 [==============================] - 0s 80ms/step - loss: 0.0094 - accuracy: 1.0000 - val_loss: 0.0369 - val_accuracy: 1.0000\n",
      "Epoch 83/100\n",
      "3/3 [==============================] - 0s 81ms/step - loss: 0.0078 - accuracy: 1.0000 - val_loss: 0.0358 - val_accuracy: 1.0000\n",
      "Epoch 84/100\n",
      "3/3 [==============================] - 0s 79ms/step - loss: 0.0073 - accuracy: 1.0000 - val_loss: 0.0434 - val_accuracy: 1.0000\n",
      "Epoch 85/100\n",
      "3/3 [==============================] - 0s 85ms/step - loss: 0.0151 - accuracy: 1.0000 - val_loss: 0.0326 - val_accuracy: 1.0000\n",
      "Epoch 86/100\n",
      "3/3 [==============================] - 0s 83ms/step - loss: 0.0113 - accuracy: 1.0000 - val_loss: 0.0329 - val_accuracy: 1.0000\n",
      "Epoch 87/100\n",
      "3/3 [==============================] - 0s 87ms/step - loss: 0.0103 - accuracy: 1.0000 - val_loss: 0.0427 - val_accuracy: 1.0000\n",
      "Epoch 88/100\n",
      "3/3 [==============================] - 0s 81ms/step - loss: 0.0084 - accuracy: 1.0000 - val_loss: 0.0973 - val_accuracy: 0.9500\n",
      "Epoch 89/100\n",
      "3/3 [==============================] - 0s 79ms/step - loss: 0.0272 - accuracy: 0.9875 - val_loss: 0.0654 - val_accuracy: 0.9500\n",
      "Epoch 90/100\n",
      "3/3 [==============================] - 0s 75ms/step - loss: 0.0119 - accuracy: 1.0000 - val_loss: 0.0332 - val_accuracy: 1.0000\n",
      "Epoch 91/100\n",
      "3/3 [==============================] - 0s 77ms/step - loss: 0.0042 - accuracy: 1.0000 - val_loss: 0.0316 - val_accuracy: 1.0000\n",
      "Epoch 92/100\n",
      "3/3 [==============================] - 0s 83ms/step - loss: 0.0123 - accuracy: 1.0000 - val_loss: 0.0294 - val_accuracy: 1.0000\n",
      "Epoch 93/100\n",
      "3/3 [==============================] - 0s 73ms/step - loss: 0.0064 - accuracy: 1.0000 - val_loss: 0.0425 - val_accuracy: 1.0000\n",
      "Epoch 94/100\n",
      "3/3 [==============================] - 0s 82ms/step - loss: 0.0051 - accuracy: 1.0000 - val_loss: 0.0709 - val_accuracy: 0.9500\n",
      "Epoch 95/100\n",
      "3/3 [==============================] - 0s 58ms/step - loss: 0.0080 - accuracy: 1.0000 - val_loss: 0.0666 - val_accuracy: 0.9500\n",
      "Epoch 96/100\n",
      "3/3 [==============================] - 0s 58ms/step - loss: 0.0062 - accuracy: 1.0000 - val_loss: 0.0524 - val_accuracy: 0.9500\n",
      "Epoch 97/100\n",
      "3/3 [==============================] - 0s 73ms/step - loss: 0.0066 - accuracy: 1.0000 - val_loss: 0.0413 - val_accuracy: 1.0000\n",
      "Epoch 98/100\n",
      "3/3 [==============================] - 0s 60ms/step - loss: 0.0044 - accuracy: 1.0000 - val_loss: 0.0388 - val_accuracy: 1.0000\n",
      "Epoch 99/100\n",
      "3/3 [==============================] - 0s 57ms/step - loss: 0.0088 - accuracy: 1.0000 - val_loss: 0.0492 - val_accuracy: 0.9500\n",
      "Epoch 100/100\n",
      "3/3 [==============================] - 0s 58ms/step - loss: 0.0061 - accuracy: 1.0000 - val_loss: 0.0433 - val_accuracy: 0.9500\n"
     ]
    }
   ],
   "source": [
    "H = model.fit(x_train, y_train, validation_data=(x_test, y_test), \n",
    "          epochs=max_epochs, batch_size=32)"
   ]
  },
  {
   "cell_type": "code",
   "execution_count": 28,
   "metadata": {},
   "outputs": [
    {
     "data": {
      "image/png": "[encoded data removed]",
      "text/plain": [
       "<Figure size 432x288 with 1 Axes>"
      ]
     },
     "metadata": {},
     "output_type": "display_data"
    }
   ],
   "source": [
    "N = np.arange(0, max_epochs)\n",
    "plt.style.use(\"ggplot\")\n",
    "plt.figure()\n",
    "plt.plot(N, H.history[\"loss\"], label=\"train_loss\")\n",
    "plt.plot(N, H.history[\"val_loss\"], label=\"val_loss\")\n",
    "#plt.plot(N, H.history[\"accuracy\"], label=\"train_acc\")\n",
    "#plt.plot(N, H.history[\"val_accuracy\"], label=\"val_acc\")\n",
    "plt.xlabel(\"Epoch #\")\n",
    "plt.legend()\n",
    "plt.show()"
   ]
  }
 ],
 "metadata": {
  "interpreter": {
   "hash": "8b03d4cd05d71d535371b426da57de743181e37d8974a9636efe6e78873daaed"
  },
  "kernelspec": {
   "display_name": "Python 3.9.5 64-bit",
   "language": "python",
   "name": "python3"
  },
  "language_info": {
   "codemirror_mode": {
    "name": "ipython",
    "version": 3
   },
   "file_extension": ".py",
   "mimetype": "text/x-python",
   "name": "python",
   "nbconvert_exporter": "python",
   "pygments_lexer": "ipython3",
   "version": "3.9.5"
  },
  "orig_nbformat": 4
 },
 "nbformat": 4,
 "nbformat_minor": 2
}
