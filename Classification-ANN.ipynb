{
 "cells": [
  {
   "cell_type": "markdown",
   "metadata": {},
   "source": [
    "<h1>Tugas Pertemuan 5</h1>\n",
    "<h1>Mencoba ANN</h1>"
   ]
  },
  {
   "cell_type": "code",
   "execution_count": 73,
   "metadata": {},
   "outputs": [],
   "source": [
    "from sklearn.model_selection import train_test_split\n",
    "from sklearn.preprocessing import LabelEncoder\n",
    "from sklearn.metrics import classification_report\n",
    "from tensorflow.keras.models import Sequential\n",
    "from tensorflow.keras.layers import Flatten, Dense\n",
    "from tensorflow.keras.optimizers import SGD\n",
    "import numpy as np\n",
    "import cv2\n",
    "import glob\n",
    "import matplotlib.pyplot as plt"
   ]
  },
  {
   "cell_type": "markdown",
   "metadata": {},
   "source": [
    "<h1> Load Data </h1> "
   ]
  },
  {
   "cell_type": "code",
   "execution_count": 74,
   "metadata": {},
   "outputs": [],
   "source": [
    "imagePaths = 'Dataset\\\\'\n",
    "label_list = ['jeruknipis', 'Seledri']\n",
    "data = []\n",
    "labels = []"
   ]
  },
  {
   "cell_type": "code",
   "execution_count": 75,
   "metadata": {},
   "outputs": [],
   "source": [
    "for label in label_list:\n",
    "    for imagePath in glob.glob(imagePaths+label+'\\\\*.jpg'):\n",
    "        #print(imagePath)\n",
    "        image = cv2.imread(imagePath)\n",
    "        image = cv2.resize(image, (32, 32))\n",
    "        data.append(image)\n",
    "        labels.append(label)"
   ]
  },
  {
   "cell_type": "code",
   "execution_count": 76,
   "metadata": {},
   "outputs": [
    {
     "data": {
      "text/plain": [
       "(100, 32, 32, 3)"
      ]
     },
     "execution_count": 76,
     "metadata": {},
     "output_type": "execute_result"
    }
   ],
   "source": [
    "np.array(data).shape"
   ]
  },
  {
   "cell_type": "markdown",
   "metadata": {},
   "source": [
    "<h1>Proses Data</h1>"
   ]
  },
  {
   "cell_type": "code",
   "execution_count": 77,
   "metadata": {},
   "outputs": [],
   "source": [
    "# ubah type data dari list menjadi array\n",
    "# ubah nilai dari tiap pixel menjadi range [0..1]\n",
    "data = np.array(data, dtype='float') / 255.0\n",
    "labels = np.array(labels)"
   ]
  },
  {
   "cell_type": "code",
   "execution_count": 78,
   "metadata": {},
   "outputs": [
    {
     "name": "stdout",
     "output_type": "stream",
     "text": [
      "['jeruknipis' 'jeruknipis' 'jeruknipis' 'jeruknipis' 'jeruknipis'\n",
      " 'jeruknipis' 'jeruknipis' 'jeruknipis' 'jeruknipis' 'jeruknipis'\n",
      " 'jeruknipis' 'jeruknipis' 'jeruknipis' 'jeruknipis' 'jeruknipis'\n",
      " 'jeruknipis' 'jeruknipis' 'jeruknipis' 'jeruknipis' 'jeruknipis'\n",
      " 'jeruknipis' 'jeruknipis' 'jeruknipis' 'jeruknipis' 'jeruknipis'\n",
      " 'jeruknipis' 'jeruknipis' 'jeruknipis' 'jeruknipis' 'jeruknipis'\n",
      " 'jeruknipis' 'jeruknipis' 'jeruknipis' 'jeruknipis' 'jeruknipis'\n",
      " 'jeruknipis' 'jeruknipis' 'jeruknipis' 'jeruknipis' 'jeruknipis'\n",
      " 'jeruknipis' 'jeruknipis' 'jeruknipis' 'jeruknipis' 'jeruknipis'\n",
      " 'jeruknipis' 'jeruknipis' 'jeruknipis' 'jeruknipis' 'jeruknipis'\n",
      " 'Seledri' 'Seledri' 'Seledri' 'Seledri' 'Seledri' 'Seledri' 'Seledri'\n",
      " 'Seledri' 'Seledri' 'Seledri' 'Seledri' 'Seledri' 'Seledri' 'Seledri'\n",
      " 'Seledri' 'Seledri' 'Seledri' 'Seledri' 'Seledri' 'Seledri' 'Seledri'\n",
      " 'Seledri' 'Seledri' 'Seledri' 'Seledri' 'Seledri' 'Seledri' 'Seledri'\n",
      " 'Seledri' 'Seledri' 'Seledri' 'Seledri' 'Seledri' 'Seledri' 'Seledri'\n",
      " 'Seledri' 'Seledri' 'Seledri' 'Seledri' 'Seledri' 'Seledri' 'Seledri'\n",
      " 'Seledri' 'Seledri' 'Seledri' 'Seledri' 'Seledri' 'Seledri' 'Seledri'\n",
      " 'Seledri']\n"
     ]
    }
   ],
   "source": [
    "print(labels)"
   ]
  },
  {
   "cell_type": "code",
   "execution_count": 79,
   "metadata": {},
   "outputs": [
    {
     "name": "stdout",
     "output_type": "stream",
     "text": [
      "[1 1 1 1 1 1 1 1 1 1 1 1 1 1 1 1 1 1 1 1 1 1 1 1 1 1 1 1 1 1 1 1 1 1 1 1 1\n",
      " 1 1 1 1 1 1 1 1 1 1 1 1 1 0 0 0 0 0 0 0 0 0 0 0 0 0 0 0 0 0 0 0 0 0 0 0 0\n",
      " 0 0 0 0 0 0 0 0 0 0 0 0 0 0 0 0 0 0 0 0 0 0 0 0 0 0]\n"
     ]
    }
   ],
   "source": [
    "lb = LabelEncoder()\n",
    "labels = lb.fit_transform(labels)\n",
    "print(labels)"
   ]
  },
  {
   "cell_type": "markdown",
   "metadata": {},
   "source": [
    "<h1> Split Data </h1>"
   ]
  },
  {
   "cell_type": "code",
   "execution_count": 80,
   "metadata": {},
   "outputs": [],
   "source": [
    "x_train, x_test, y_train, y_test = train_test_split(data, labels, test_size=0.2, random_state=42)"
   ]
  },
  {
   "cell_type": "code",
   "execution_count": 81,
   "metadata": {},
   "outputs": [
    {
     "name": "stdout",
     "output_type": "stream",
     "text": [
      "Ukuran data train = (80, 32, 32, 3)\n",
      "Ukuran data test = (20, 32, 32, 3)\n"
     ]
    }
   ],
   "source": [
    "print('Ukuran data train =', x_train.shape)\n",
    "print('Ukuran data test =', x_test.shape)"
   ]
  },
  {
   "cell_type": "markdown",
   "metadata": {},
   "source": [
    "<h1>Build ANN</h1>"
   ]
  },
  {
   "cell_type": "code",
   "execution_count": 82,
   "metadata": {},
   "outputs": [],
   "source": [
    "model = Sequential()\n",
    "model.add(Flatten(input_shape=(32,32,3)))\n",
    "model.add(Dense(1024, activation=\"relu\"))\n",
    "model.add(Dense(1024, activation=\"relu\"))\n",
    "model.add(Dense(1, activation=\"sigmoid\"))"
   ]
  },
  {
   "cell_type": "code",
   "execution_count": 83,
   "metadata": {},
   "outputs": [
    {
     "name": "stdout",
     "output_type": "stream",
     "text": [
      "Model: \"sequential_4\"\n",
      "_________________________________________________________________\n",
      " Layer (type)                Output Shape              Param #   \n",
      "=================================================================\n",
      " flatten_4 (Flatten)         (None, 3072)              0         \n",
      "                                                                 \n",
      " dense_12 (Dense)            (None, 1024)              3146752   \n",
      "                                                                 \n",
      " dense_13 (Dense)            (None, 1024)              1049600   \n",
      "                                                                 \n",
      " dense_14 (Dense)            (None, 1)                 1025      \n",
      "                                                                 \n",
      "=================================================================\n",
      "Total params: 4,197,377\n",
      "Trainable params: 4,197,377\n",
      "Non-trainable params: 0\n",
      "_________________________________________________________________\n"
     ]
    }
   ],
   "source": [
    "model.summary()"
   ]
  },
  {
   "cell_type": "code",
   "execution_count": 84,
   "metadata": {},
   "outputs": [],
   "source": [
    "lr = 0.01\n",
    "max_epochs = 100\n",
    "opt_funct = SGD(learning_rate=lr)"
   ]
  },
  {
   "cell_type": "code",
   "execution_count": 85,
   "metadata": {},
   "outputs": [],
   "source": [
    "model.compile(loss = 'binary_crossentropy', \n",
    "              optimizer = opt_funct, \n",
    "              metrics = ['accuracy'])"
   ]
  },
  {
   "cell_type": "markdown",
   "metadata": {},
   "source": [
    "<h1> Train Model </h1>"
   ]
  },
  {
   "cell_type": "code",
   "execution_count": 86,
   "metadata": {},
   "outputs": [
    {
     "name": "stdout",
     "output_type": "stream",
     "text": [
      "Epoch 1/100\n",
      "3/3 [==============================] - 1s 113ms/step - loss: 1.3855 - accuracy: 0.4500 - val_loss: 1.6879 - val_accuracy: 0.4000\n",
      "Epoch 2/100\n",
      "3/3 [==============================] - 0s 38ms/step - loss: 0.8701 - accuracy: 0.6000 - val_loss: 0.9284 - val_accuracy: 0.6000\n",
      "Epoch 3/100\n",
      "3/3 [==============================] - 0s 34ms/step - loss: 0.9710 - accuracy: 0.5500 - val_loss: 1.2459 - val_accuracy: 0.4000\n",
      "Epoch 4/100\n",
      "3/3 [==============================] - 0s 34ms/step - loss: 1.0830 - accuracy: 0.5000 - val_loss: 0.6467 - val_accuracy: 0.6000\n",
      "Epoch 5/100\n",
      "3/3 [==============================] - 0s 34ms/step - loss: 0.8803 - accuracy: 0.4125 - val_loss: 0.8274 - val_accuracy: 0.4000\n",
      "Epoch 6/100\n",
      "3/3 [==============================] - 0s 41ms/step - loss: 0.6422 - accuracy: 0.7500 - val_loss: 0.6265 - val_accuracy: 0.6000\n",
      "Epoch 7/100\n",
      "3/3 [==============================] - 0s 31ms/step - loss: 0.6330 - accuracy: 0.5250 - val_loss: 0.8255 - val_accuracy: 0.6000\n",
      "Epoch 8/100\n",
      "3/3 [==============================] - 0s 29ms/step - loss: 0.8000 - accuracy: 0.5250 - val_loss: 0.6348 - val_accuracy: 0.7000\n",
      "Epoch 9/100\n",
      "3/3 [==============================] - 0s 30ms/step - loss: 0.6064 - accuracy: 0.8375 - val_loss: 0.6474 - val_accuracy: 0.7000\n",
      "Epoch 10/100\n",
      "3/3 [==============================] - 0s 33ms/step - loss: 0.6137 - accuracy: 0.6875 - val_loss: 0.8331 - val_accuracy: 0.4000\n",
      "Epoch 11/100\n",
      "3/3 [==============================] - 0s 31ms/step - loss: 0.6096 - accuracy: 0.6500 - val_loss: 1.1132 - val_accuracy: 0.4000\n",
      "Epoch 12/100\n",
      "3/3 [==============================] - 0s 31ms/step - loss: 0.6879 - accuracy: 0.5500 - val_loss: 0.8684 - val_accuracy: 0.6000\n",
      "Epoch 13/100\n",
      "3/3 [==============================] - 0s 31ms/step - loss: 0.7285 - accuracy: 0.6375 - val_loss: 0.6024 - val_accuracy: 0.7500\n",
      "Epoch 14/100\n",
      "3/3 [==============================] - 0s 34ms/step - loss: 0.5750 - accuracy: 0.7500 - val_loss: 0.5916 - val_accuracy: 0.6000\n",
      "Epoch 15/100\n",
      "3/3 [==============================] - 0s 35ms/step - loss: 0.6925 - accuracy: 0.5125 - val_loss: 1.0548 - val_accuracy: 0.4000\n",
      "Epoch 16/100\n",
      "3/3 [==============================] - 0s 52ms/step - loss: 0.7516 - accuracy: 0.5000 - val_loss: 0.5954 - val_accuracy: 0.7500\n",
      "Epoch 17/100\n",
      "3/3 [==============================] - 0s 50ms/step - loss: 0.6287 - accuracy: 0.5875 - val_loss: 0.6323 - val_accuracy: 0.8000\n",
      "Epoch 18/100\n",
      "3/3 [==============================] - 0s 34ms/step - loss: 0.6345 - accuracy: 0.7500 - val_loss: 1.1929 - val_accuracy: 0.4000\n",
      "Epoch 19/100\n",
      "3/3 [==============================] - 0s 44ms/step - loss: 0.8526 - accuracy: 0.4250 - val_loss: 0.6702 - val_accuracy: 0.6000\n",
      "Epoch 20/100\n",
      "3/3 [==============================] - 0s 43ms/step - loss: 0.6160 - accuracy: 0.5875 - val_loss: 0.5962 - val_accuracy: 0.8000\n",
      "Epoch 21/100\n",
      "3/3 [==============================] - 0s 59ms/step - loss: 0.5550 - accuracy: 0.9125 - val_loss: 0.5762 - val_accuracy: 0.7500\n",
      "Epoch 22/100\n",
      "3/3 [==============================] - 0s 42ms/step - loss: 0.5506 - accuracy: 0.7875 - val_loss: 0.6261 - val_accuracy: 0.6000\n",
      "Epoch 23/100\n",
      "3/3 [==============================] - 0s 29ms/step - loss: 0.6335 - accuracy: 0.5375 - val_loss: 0.6272 - val_accuracy: 0.6500\n",
      "Epoch 24/100\n",
      "3/3 [==============================] - 0s 37ms/step - loss: 0.5834 - accuracy: 0.6750 - val_loss: 0.5723 - val_accuracy: 0.7500\n",
      "Epoch 25/100\n",
      "3/3 [==============================] - 0s 32ms/step - loss: 0.5161 - accuracy: 0.9250 - val_loss: 0.6222 - val_accuracy: 0.6500\n",
      "Epoch 26/100\n",
      "3/3 [==============================] - 0s 27ms/step - loss: 0.5972 - accuracy: 0.6250 - val_loss: 0.5652 - val_accuracy: 0.6500\n",
      "Epoch 27/100\n",
      "3/3 [==============================] - 0s 29ms/step - loss: 0.5826 - accuracy: 0.5375 - val_loss: 0.7657 - val_accuracy: 0.4000\n",
      "Epoch 28/100\n",
      "3/3 [==============================] - 0s 31ms/step - loss: 0.6888 - accuracy: 0.5000 - val_loss: 0.6783 - val_accuracy: 0.6000\n",
      "Epoch 29/100\n",
      "3/3 [==============================] - 0s 30ms/step - loss: 0.6866 - accuracy: 0.5250 - val_loss: 0.6271 - val_accuracy: 0.6000\n",
      "Epoch 30/100\n",
      "3/3 [==============================] - 0s 42ms/step - loss: 0.7609 - accuracy: 0.5125 - val_loss: 0.7551 - val_accuracy: 0.6000\n",
      "Epoch 31/100\n",
      "3/3 [==============================] - 0s 39ms/step - loss: 0.6476 - accuracy: 0.7875 - val_loss: 0.6106 - val_accuracy: 0.8000\n",
      "Epoch 32/100\n",
      "3/3 [==============================] - 0s 32ms/step - loss: 0.5415 - accuracy: 0.8250 - val_loss: 0.7070 - val_accuracy: 0.4000\n",
      "Epoch 33/100\n",
      "3/3 [==============================] - 0s 38ms/step - loss: 0.5663 - accuracy: 0.6250 - val_loss: 0.6339 - val_accuracy: 0.6000\n",
      "Epoch 34/100\n",
      "3/3 [==============================] - 0s 30ms/step - loss: 0.7123 - accuracy: 0.4750 - val_loss: 0.5479 - val_accuracy: 0.8000\n",
      "Epoch 35/100\n",
      "3/3 [==============================] - 0s 30ms/step - loss: 0.5541 - accuracy: 0.7750 - val_loss: 0.6365 - val_accuracy: 0.6000\n",
      "Epoch 36/100\n",
      "3/3 [==============================] - 0s 29ms/step - loss: 0.5474 - accuracy: 0.7750 - val_loss: 0.6149 - val_accuracy: 0.6500\n",
      "Epoch 37/100\n",
      "3/3 [==============================] - 0s 33ms/step - loss: 0.4913 - accuracy: 0.8125 - val_loss: 0.6264 - val_accuracy: 0.6500\n",
      "Epoch 38/100\n",
      "3/3 [==============================] - 0s 43ms/step - loss: 0.4648 - accuracy: 0.9125 - val_loss: 0.5388 - val_accuracy: 0.7000\n",
      "Epoch 39/100\n",
      "3/3 [==============================] - 0s 39ms/step - loss: 0.4679 - accuracy: 0.8000 - val_loss: 0.6685 - val_accuracy: 0.4500\n",
      "Epoch 40/100\n",
      "3/3 [==============================] - 0s 30ms/step - loss: 0.6853 - accuracy: 0.5250 - val_loss: 0.5303 - val_accuracy: 0.7500\n",
      "Epoch 41/100\n",
      "3/3 [==============================] - 0s 30ms/step - loss: 0.4785 - accuracy: 0.8375 - val_loss: 0.5292 - val_accuracy: 0.8500\n",
      "Epoch 42/100\n",
      "3/3 [==============================] - 0s 25ms/step - loss: 0.4859 - accuracy: 0.8375 - val_loss: 0.7083 - val_accuracy: 0.6000\n",
      "Epoch 43/100\n",
      "3/3 [==============================] - 0s 34ms/step - loss: 0.6269 - accuracy: 0.6125 - val_loss: 0.5118 - val_accuracy: 0.8000\n",
      "Epoch 44/100\n",
      "3/3 [==============================] - 0s 32ms/step - loss: 0.5198 - accuracy: 0.7125 - val_loss: 0.5160 - val_accuracy: 0.7500\n",
      "Epoch 45/100\n",
      "3/3 [==============================] - 0s 30ms/step - loss: 0.5084 - accuracy: 0.6750 - val_loss: 0.9215 - val_accuracy: 0.4000\n",
      "Epoch 46/100\n",
      "3/3 [==============================] - 0s 36ms/step - loss: 0.6161 - accuracy: 0.5625 - val_loss: 0.5172 - val_accuracy: 0.8000\n",
      "Epoch 47/100\n",
      "3/3 [==============================] - 0s 32ms/step - loss: 0.6392 - accuracy: 0.6125 - val_loss: 0.6410 - val_accuracy: 0.5000\n",
      "Epoch 48/100\n",
      "3/3 [==============================] - 0s 25ms/step - loss: 0.4556 - accuracy: 0.8750 - val_loss: 0.5194 - val_accuracy: 0.8500\n",
      "Epoch 49/100\n",
      "3/3 [==============================] - 0s 33ms/step - loss: 0.4266 - accuracy: 0.9500 - val_loss: 0.6490 - val_accuracy: 0.5000\n",
      "Epoch 50/100\n",
      "3/3 [==============================] - 0s 39ms/step - loss: 0.5937 - accuracy: 0.5875 - val_loss: 0.8088 - val_accuracy: 0.6000\n",
      "Epoch 51/100\n",
      "3/3 [==============================] - 0s 35ms/step - loss: 0.6983 - accuracy: 0.5625 - val_loss: 0.6621 - val_accuracy: 0.4000\n",
      "Epoch 52/100\n",
      "3/3 [==============================] - 0s 35ms/step - loss: 0.4835 - accuracy: 0.7375 - val_loss: 0.4954 - val_accuracy: 0.8000\n",
      "Epoch 53/100\n",
      "3/3 [==============================] - 0s 45ms/step - loss: 0.4222 - accuracy: 0.9000 - val_loss: 0.4869 - val_accuracy: 0.7500\n",
      "Epoch 54/100\n",
      "3/3 [==============================] - 0s 36ms/step - loss: 0.6580 - accuracy: 0.5625 - val_loss: 1.1292 - val_accuracy: 0.4000\n",
      "Epoch 55/100\n",
      "3/3 [==============================] - 0s 38ms/step - loss: 0.6756 - accuracy: 0.5750 - val_loss: 0.5123 - val_accuracy: 0.8500\n",
      "Epoch 56/100\n",
      "3/3 [==============================] - 0s 37ms/step - loss: 0.4418 - accuracy: 0.9250 - val_loss: 0.5350 - val_accuracy: 0.7000\n",
      "Epoch 57/100\n",
      "3/3 [==============================] - 0s 34ms/step - loss: 0.5633 - accuracy: 0.5750 - val_loss: 0.5900 - val_accuracy: 0.7000\n",
      "Epoch 58/100\n",
      "3/3 [==============================] - 0s 38ms/step - loss: 0.4610 - accuracy: 0.8125 - val_loss: 0.6810 - val_accuracy: 0.6000\n",
      "Epoch 59/100\n",
      "3/3 [==============================] - 0s 35ms/step - loss: 0.7355 - accuracy: 0.5250 - val_loss: 0.5046 - val_accuracy: 0.7500\n",
      "Epoch 60/100\n",
      "3/3 [==============================] - 0s 33ms/step - loss: 0.4361 - accuracy: 0.8375 - val_loss: 0.4807 - val_accuracy: 0.8000\n",
      "Epoch 61/100\n",
      "3/3 [==============================] - 0s 35ms/step - loss: 0.4496 - accuracy: 0.8125 - val_loss: 0.5332 - val_accuracy: 0.8500\n",
      "Epoch 62/100\n",
      "3/3 [==============================] - 0s 35ms/step - loss: 0.3956 - accuracy: 0.8750 - val_loss: 0.5306 - val_accuracy: 0.8000\n",
      "Epoch 63/100\n",
      "3/3 [==============================] - 0s 30ms/step - loss: 0.3866 - accuracy: 0.9250 - val_loss: 0.5353 - val_accuracy: 0.7000\n",
      "Epoch 64/100\n",
      "3/3 [==============================] - 0s 34ms/step - loss: 0.4052 - accuracy: 0.8000 - val_loss: 0.7753 - val_accuracy: 0.4000\n",
      "Epoch 65/100\n",
      "3/3 [==============================] - 0s 31ms/step - loss: 1.0382 - accuracy: 0.4625 - val_loss: 0.7650 - val_accuracy: 0.4000\n",
      "Epoch 66/100\n",
      "3/3 [==============================] - 0s 36ms/step - loss: 0.5556 - accuracy: 0.6500 - val_loss: 0.5032 - val_accuracy: 0.8000\n",
      "Epoch 67/100\n",
      "3/3 [==============================] - 0s 38ms/step - loss: 0.3964 - accuracy: 0.9500 - val_loss: 0.4859 - val_accuracy: 0.7500\n",
      "Epoch 68/100\n",
      "3/3 [==============================] - 0s 30ms/step - loss: 0.4590 - accuracy: 0.7250 - val_loss: 1.0376 - val_accuracy: 0.4000\n",
      "Epoch 69/100\n",
      "3/3 [==============================] - 0s 30ms/step - loss: 0.8240 - accuracy: 0.5000 - val_loss: 0.4897 - val_accuracy: 0.8000\n",
      "Epoch 70/100\n",
      "3/3 [==============================] - 0s 31ms/step - loss: 0.5732 - accuracy: 0.6375 - val_loss: 0.5276 - val_accuracy: 0.8500\n",
      "Epoch 71/100\n",
      "3/3 [==============================] - 0s 34ms/step - loss: 0.4388 - accuracy: 0.8875 - val_loss: 0.7257 - val_accuracy: 0.6000\n",
      "Epoch 72/100\n",
      "3/3 [==============================] - 0s 37ms/step - loss: 0.5379 - accuracy: 0.7875 - val_loss: 0.5069 - val_accuracy: 0.7000\n",
      "Epoch 73/100\n",
      "3/3 [==============================] - 0s 41ms/step - loss: 0.4577 - accuracy: 0.7250 - val_loss: 0.5048 - val_accuracy: 0.8500\n",
      "Epoch 74/100\n",
      "3/3 [==============================] - 0s 30ms/step - loss: 0.5111 - accuracy: 0.7500 - val_loss: 0.6756 - val_accuracy: 0.6000\n",
      "Epoch 75/100\n",
      "3/3 [==============================] - 0s 34ms/step - loss: 0.5871 - accuracy: 0.6875 - val_loss: 0.4713 - val_accuracy: 0.8500\n",
      "Epoch 76/100\n",
      "3/3 [==============================] - 0s 39ms/step - loss: 0.3629 - accuracy: 0.9625 - val_loss: 0.8209 - val_accuracy: 0.4000\n",
      "Epoch 77/100\n",
      "3/3 [==============================] - 0s 38ms/step - loss: 0.5850 - accuracy: 0.5625 - val_loss: 0.5590 - val_accuracy: 0.7000\n",
      "Epoch 78/100\n",
      "3/3 [==============================] - 0s 31ms/step - loss: 0.4084 - accuracy: 0.8625 - val_loss: 0.8876 - val_accuracy: 0.4000\n",
      "Epoch 79/100\n",
      "3/3 [==============================] - 0s 33ms/step - loss: 0.6257 - accuracy: 0.5750 - val_loss: 0.4631 - val_accuracy: 0.8000\n",
      "Epoch 80/100\n",
      "3/3 [==============================] - 0s 36ms/step - loss: 0.4688 - accuracy: 0.7500 - val_loss: 0.8006 - val_accuracy: 0.4000\n",
      "Epoch 81/100\n",
      "3/3 [==============================] - 0s 40ms/step - loss: 0.4725 - accuracy: 0.6500 - val_loss: 0.4572 - val_accuracy: 0.7500\n",
      "Epoch 82/100\n",
      "3/3 [==============================] - 0s 38ms/step - loss: 0.5986 - accuracy: 0.6125 - val_loss: 0.4945 - val_accuracy: 0.8500\n",
      "Epoch 83/100\n",
      "3/3 [==============================] - 0s 40ms/step - loss: 0.4429 - accuracy: 0.8500 - val_loss: 0.8844 - val_accuracy: 0.4000\n",
      "Epoch 84/100\n",
      "3/3 [==============================] - 0s 35ms/step - loss: 0.6858 - accuracy: 0.4750 - val_loss: 0.4936 - val_accuracy: 0.7500\n",
      "Epoch 85/100\n",
      "3/3 [==============================] - 0s 31ms/step - loss: 0.4525 - accuracy: 0.7875 - val_loss: 0.5253 - val_accuracy: 0.8000\n",
      "Epoch 86/100\n",
      "3/3 [==============================] - 0s 29ms/step - loss: 0.3599 - accuracy: 0.9000 - val_loss: 0.4804 - val_accuracy: 0.7500\n",
      "Epoch 87/100\n",
      "3/3 [==============================] - 0s 33ms/step - loss: 0.3526 - accuracy: 0.8500 - val_loss: 0.7504 - val_accuracy: 0.4500\n",
      "Epoch 88/100\n",
      "3/3 [==============================] - 0s 36ms/step - loss: 0.5616 - accuracy: 0.6250 - val_loss: 0.5677 - val_accuracy: 0.7000\n",
      "Epoch 89/100\n",
      "3/3 [==============================] - 0s 29ms/step - loss: 0.4958 - accuracy: 0.6625 - val_loss: 0.4292 - val_accuracy: 0.8000\n",
      "Epoch 90/100\n",
      "3/3 [==============================] - 0s 36ms/step - loss: 0.3660 - accuracy: 0.8875 - val_loss: 0.5224 - val_accuracy: 0.8000\n",
      "Epoch 91/100\n",
      "3/3 [==============================] - 0s 44ms/step - loss: 0.3752 - accuracy: 0.8625 - val_loss: 0.7434 - val_accuracy: 0.6000\n",
      "Epoch 92/100\n",
      "3/3 [==============================] - 0s 37ms/step - loss: 0.5524 - accuracy: 0.7000 - val_loss: 0.4450 - val_accuracy: 0.8000\n",
      "Epoch 93/100\n",
      "3/3 [==============================] - 0s 43ms/step - loss: 0.3453 - accuracy: 0.8375 - val_loss: 0.4408 - val_accuracy: 0.8500\n",
      "Epoch 94/100\n",
      "3/3 [==============================] - 0s 29ms/step - loss: 0.3351 - accuracy: 0.9000 - val_loss: 1.5076 - val_accuracy: 0.4000\n",
      "Epoch 95/100\n",
      "3/3 [==============================] - 0s 31ms/step - loss: 1.2278 - accuracy: 0.4625 - val_loss: 0.5063 - val_accuracy: 0.8500\n",
      "Epoch 96/100\n",
      "3/3 [==============================] - 0s 35ms/step - loss: 0.4480 - accuracy: 0.8500 - val_loss: 0.7577 - val_accuracy: 0.4000\n",
      "Epoch 97/100\n",
      "3/3 [==============================] - 0s 34ms/step - loss: 0.4111 - accuracy: 0.8000 - val_loss: 0.4675 - val_accuracy: 0.8000\n",
      "Epoch 98/100\n",
      "3/3 [==============================] - 0s 47ms/step - loss: 0.3576 - accuracy: 0.9125 - val_loss: 0.4978 - val_accuracy: 0.8500\n",
      "Epoch 99/100\n",
      "3/3 [==============================] - 0s 35ms/step - loss: 0.4463 - accuracy: 0.8125 - val_loss: 1.1203 - val_accuracy: 0.6000\n",
      "Epoch 100/100\n",
      "3/3 [==============================] - 0s 38ms/step - loss: 0.7342 - accuracy: 0.7125 - val_loss: 0.5474 - val_accuracy: 0.7500\n"
     ]
    }
   ],
   "source": [
    "H = model.fit(x_train, y_train, validation_data=(x_test, y_test), \n",
    "          epochs=max_epochs, batch_size=32)"
   ]
  },
  {
   "cell_type": "code",
   "execution_count": 87,
   "metadata": {},
   "outputs": [
    {
     "data": {
      "image/png": "[encoded data removed]",
      "text/plain": [
       "<Figure size 432x288 with 1 Axes>"
      ]
     },
     "metadata": {},
     "output_type": "display_data"
    }
   ],
   "source": [
    "N = np.arange(0, max_epochs)\n",
    "plt.style.use(\"ggplot\")\n",
    "plt.figure()\n",
    "plt.plot(N, H.history[\"loss\"], label=\"train_loss\")\n",
    "plt.plot(N, H.history[\"val_loss\"], label=\"val_loss\")\n",
    "#plt.plot(N, H.history[\"accuracy\"], label=\"train_acc\")\n",
    "#plt.plot(N, H.history[\"val_accuracy\"], label=\"val_acc\")\n",
    "plt.xlabel(\"Epoch #\")\n",
    "plt.legend()\n",
    "plt.show()"
   ]
  },
  {
   "cell_type": "markdown",
   "metadata": {},
   "source": [
    "<h1>Evaluasi</h1>"
   ]
  },
  {
   "cell_type": "code",
   "execution_count": 88,
   "metadata": {},
   "outputs": [
    {
     "name": "stdout",
     "output_type": "stream",
     "text": [
      "WARNING:tensorflow:5 out of the last 9 calls to <function Model.make_predict_function.<locals>.predict_function at 0x0000018197621430> triggered tf.function retracing. Tracing is expensive and the excessive number of tracings could be due to (1) creating @tf.function repeatedly in a loop, (2) passing tensors with different shapes, (3) passing Python objects instead of tensors. For (1), please define your @tf.function outside of the loop. For (2), @tf.function has experimental_relax_shapes=True option that relaxes argument shapes that can avoid unnecessary retracing. For (3), please refer to https://www.tensorflow.org/guide/function#controlling_retracing and https://www.tensorflow.org/api_docs/python/tf/function for  more details.\n",
      "              precision    recall  f1-score   support\n",
      "\n",
      "  jeruknipis       0.62      1.00      0.76         8\n",
      "     Seledri       1.00      0.58      0.74        12\n",
      "\n",
      "    accuracy                           0.75        20\n",
      "   macro avg       0.81      0.79      0.75        20\n",
      "weighted avg       0.85      0.75      0.75        20\n",
      "\n"
     ]
    }
   ],
   "source": [
    "predictions = model.predict(x_test, batch_size=32)\n",
    "target = (predictions > 0.5).astype(np.int64)\n",
    "print(classification_report(y_test, target, target_names=label_list))"
   ]
  },
  {
   "cell_type": "code",
   "execution_count": 89,
   "metadata": {},
   "outputs": [
    {
     "name": "stdout",
     "output_type": "stream",
     "text": [
      "[[0.5698293]]\n"
     ]
    }
   ],
   "source": [
    "# uji model menggunakan image lain\n",
    "queryPath = imagePaths+'tes.jpg'\n",
    "query = cv2.imread(queryPath)\n",
    "output = query.copy()\n",
    "query = cv2.resize(query, (32, 32))\n",
    "q = []\n",
    "q.append(query)\n",
    "q = np.array(q, dtype='float') / 255.0\n",
    "\n",
    "q_pred = model.predict(q)\n",
    "print(q_pred)"
   ]
  },
  {
   "cell_type": "code",
   "execution_count": 90,
   "metadata": {},
   "outputs": [],
   "source": [
    "if q_pred<=0.5 :\n",
    "    target = \"Foto = Seledri\"\n",
    "else :\n",
    "    target = \"Foto = Jeruk Nipis\"\n",
    "text = \"{}\".format(target)\n",
    "cv2.putText(output, text, (10, 30), cv2.FONT_HERSHEY_SIMPLEX, 0.7, (0, 0, 255), 2)\n",
    " \n",
    "# menampilkan output image\n",
    "cv2.imshow('Output', output)\n",
    "cv2.waitKey() # image tidak akan diclose,sebelum user menekan sembarang tombol\n",
    "cv2.destroyWindow('Output') # image akan diclose"
   ]
  }
 ],
 "metadata": {
  "interpreter": {
   "hash": "8da01e5a71448ea74f54d88afa8911010d1d12e23bc7e103d40d5def4a09152c"
  },
  "kernelspec": {
   "display_name": "Python 3.9.5 64-bit",
   "language": "python",
   "name": "python3"
  },
  "language_info": {
   "codemirror_mode": {
    "name": "ipython",
    "version": 3
   },
   "file_extension": ".py",
   "mimetype": "text/x-python",
   "name": "python",
   "nbconvert_exporter": "python",
   "pygments_lexer": "ipython3",
   "version": "3.9.5"
  },
  "orig_nbformat": 4
 },
 "nbformat": 4,
 "nbformat_minor": 2
}
