{
 "cells": [
  {
   "cell_type": "markdown",
   "metadata": {},
   "source": [
    "<h1>Tugas Pertemuan 5</h1>\n",
    "<h1>Mencoba ANN</h1>"
   ]
  },
  {
   "cell_type": "code",
   "execution_count": 37,
   "metadata": {},
   "outputs": [],
   "source": [
    "from sklearn.model_selection import train_test_split\n",
    "from sklearn.preprocessing import LabelEncoder\n",
    "from sklearn.metrics import classification_report\n",
    "from tensorflow.keras.models import Sequential\n",
    "from tensorflow.keras.layers import Flatten, Dense\n",
    "from tensorflow.keras.optimizers import SGD\n",
    "import numpy as np\n",
    "import cv2\n",
    "import glob\n",
    "import matplotlib.pyplot as plt"
   ]
  },
  {
   "cell_type": "markdown",
   "metadata": {},
   "source": [
    "<h1> Load Data </h1> "
   ]
  },
  {
   "cell_type": "code",
   "execution_count": 38,
   "metadata": {},
   "outputs": [],
   "source": [
    "imagePaths = 'Dataset\\\\'\n",
    "label_list = ['jeruknipis', 'Seledri']\n",
    "data = []\n",
    "labels = []"
   ]
  },
  {
   "cell_type": "code",
   "execution_count": 39,
   "metadata": {},
   "outputs": [],
   "source": [
    "for label in label_list:\n",
    "    for imagePath in glob.glob(imagePaths+label+'\\\\*.jpg'):\n",
    "        #print(imagePath)\n",
    "        image = cv2.imread(imagePath)\n",
    "        image = cv2.resize(image, (32, 32))\n",
    "        data.append(image)\n",
    "        labels.append(label)"
   ]
  },
  {
   "cell_type": "code",
   "execution_count": 40,
   "metadata": {},
   "outputs": [
    {
     "data": {
      "text/plain": [
       "(100, 32, 32, 3)"
      ]
     },
     "execution_count": 40,
     "metadata": {},
     "output_type": "execute_result"
    }
   ],
   "source": [
    "np.array(data).shape"
   ]
  },
  {
   "cell_type": "markdown",
   "metadata": {},
   "source": [
    "<h1>Proses Data</h1>"
   ]
  },
  {
   "cell_type": "code",
   "execution_count": 41,
   "metadata": {},
   "outputs": [],
   "source": [
    "# ubah type data dari list menjadi array\n",
    "# ubah nilai dari tiap pixel menjadi range [0..1]\n",
    "data = np.array(data, dtype='float') / 255.0\n",
    "labels = np.array(labels)"
   ]
  },
  {
   "cell_type": "code",
   "execution_count": 42,
   "metadata": {},
   "outputs": [
    {
     "name": "stdout",
     "output_type": "stream",
     "text": [
      "['jeruknipis' 'jeruknipis' 'jeruknipis' 'jeruknipis' 'jeruknipis'\n",
      " 'jeruknipis' 'jeruknipis' 'jeruknipis' 'jeruknipis' 'jeruknipis'\n",
      " 'jeruknipis' 'jeruknipis' 'jeruknipis' 'jeruknipis' 'jeruknipis'\n",
      " 'jeruknipis' 'jeruknipis' 'jeruknipis' 'jeruknipis' 'jeruknipis'\n",
      " 'jeruknipis' 'jeruknipis' 'jeruknipis' 'jeruknipis' 'jeruknipis'\n",
      " 'jeruknipis' 'jeruknipis' 'jeruknipis' 'jeruknipis' 'jeruknipis'\n",
      " 'jeruknipis' 'jeruknipis' 'jeruknipis' 'jeruknipis' 'jeruknipis'\n",
      " 'jeruknipis' 'jeruknipis' 'jeruknipis' 'jeruknipis' 'jeruknipis'\n",
      " 'jeruknipis' 'jeruknipis' 'jeruknipis' 'jeruknipis' 'jeruknipis'\n",
      " 'jeruknipis' 'jeruknipis' 'jeruknipis' 'jeruknipis' 'jeruknipis'\n",
      " 'Seledri' 'Seledri' 'Seledri' 'Seledri' 'Seledri' 'Seledri' 'Seledri'\n",
      " 'Seledri' 'Seledri' 'Seledri' 'Seledri' 'Seledri' 'Seledri' 'Seledri'\n",
      " 'Seledri' 'Seledri' 'Seledri' 'Seledri' 'Seledri' 'Seledri' 'Seledri'\n",
      " 'Seledri' 'Seledri' 'Seledri' 'Seledri' 'Seledri' 'Seledri' 'Seledri'\n",
      " 'Seledri' 'Seledri' 'Seledri' 'Seledri' 'Seledri' 'Seledri' 'Seledri'\n",
      " 'Seledri' 'Seledri' 'Seledri' 'Seledri' 'Seledri' 'Seledri' 'Seledri'\n",
      " 'Seledri' 'Seledri' 'Seledri' 'Seledri' 'Seledri' 'Seledri' 'Seledri'\n",
      " 'Seledri']\n"
     ]
    }
   ],
   "source": [
    "print(labels)"
   ]
  },
  {
   "cell_type": "code",
   "execution_count": 43,
   "metadata": {},
   "outputs": [
    {
     "name": "stdout",
     "output_type": "stream",
     "text": [
      "[1 1 1 1 1 1 1 1 1 1 1 1 1 1 1 1 1 1 1 1 1 1 1 1 1 1 1 1 1 1 1 1 1 1 1 1 1\n",
      " 1 1 1 1 1 1 1 1 1 1 1 1 1 0 0 0 0 0 0 0 0 0 0 0 0 0 0 0 0 0 0 0 0 0 0 0 0\n",
      " 0 0 0 0 0 0 0 0 0 0 0 0 0 0 0 0 0 0 0 0 0 0 0 0 0 0]\n"
     ]
    }
   ],
   "source": [
    "lb = LabelEncoder()\n",
    "labels = lb.fit_transform(labels)\n",
    "print(labels)"
   ]
  },
  {
   "cell_type": "markdown",
   "metadata": {},
   "source": [
    "<h1> Split Data </h1>"
   ]
  },
  {
   "cell_type": "code",
   "execution_count": 44,
   "metadata": {},
   "outputs": [],
   "source": [
    "x_train, x_test, y_train, y_test = train_test_split(data, labels, test_size=0.2, random_state=42)"
   ]
  },
  {
   "cell_type": "code",
   "execution_count": 45,
   "metadata": {},
   "outputs": [
    {
     "name": "stdout",
     "output_type": "stream",
     "text": [
      "Ukuran data train = (80, 32, 32, 3)\n",
      "Ukuran data test = (20, 32, 32, 3)\n"
     ]
    }
   ],
   "source": [
    "print('Ukuran data train =', x_train.shape)\n",
    "print('Ukuran data test =', x_test.shape)"
   ]
  },
  {
   "cell_type": "markdown",
   "metadata": {},
   "source": [
    "<h1>Build ANN</h1>"
   ]
  },
  {
   "cell_type": "code",
   "execution_count": 46,
   "metadata": {},
   "outputs": [],
   "source": [
    "model = Sequential()\n",
    "model.add(Flatten(input_shape=(32,32,3)))\n",
    "model.add(Dense(1024, activation=\"relu\"))\n",
    "model.add(Dense(1024, activation=\"relu\"))\n",
    "model.add(Dense(1, activation=\"sigmoid\"))"
   ]
  },
  {
   "cell_type": "code",
   "execution_count": 47,
   "metadata": {},
   "outputs": [
    {
     "name": "stdout",
     "output_type": "stream",
     "text": [
      "Model: \"sequential_2\"\n",
      "_________________________________________________________________\n",
      " Layer (type)                Output Shape              Param #   \n",
      "=================================================================\n",
      " flatten_2 (Flatten)         (None, 3072)              0         \n",
      "                                                                 \n",
      " dense_6 (Dense)             (None, 1024)              3146752   \n",
      "                                                                 \n",
      " dense_7 (Dense)             (None, 1024)              1049600   \n",
      "                                                                 \n",
      " dense_8 (Dense)             (None, 1)                 1025      \n",
      "                                                                 \n",
      "=================================================================\n",
      "Total params: 4,197,377\n",
      "Trainable params: 4,197,377\n",
      "Non-trainable params: 0\n",
      "_________________________________________________________________\n"
     ]
    }
   ],
   "source": [
    "model.summary()"
   ]
  },
  {
   "cell_type": "code",
   "execution_count": 48,
   "metadata": {},
   "outputs": [],
   "source": [
    "lr = 0.01\n",
    "max_epochs = 100\n",
    "opt_funct = SGD(learning_rate=lr)"
   ]
  },
  {
   "cell_type": "code",
   "execution_count": 49,
   "metadata": {},
   "outputs": [],
   "source": [
    "model.compile(loss = 'binary_crossentropy', \n",
    "              optimizer = opt_funct, \n",
    "              metrics = ['accuracy'])"
   ]
  },
  {
   "cell_type": "markdown",
   "metadata": {},
   "source": [
    "<h1> Train Model </h1>"
   ]
  },
  {
   "cell_type": "code",
   "execution_count": 50,
   "metadata": {},
   "outputs": [
    {
     "name": "stdout",
     "output_type": "stream",
     "text": [
      "Epoch 1/100\n",
      "3/3 [==============================] - 1s 102ms/step - loss: 0.6910 - accuracy: 0.5125 - val_loss: 1.6469 - val_accuracy: 0.4000\n",
      "Epoch 2/100\n",
      "3/3 [==============================] - 0s 41ms/step - loss: 1.8117 - accuracy: 0.5250 - val_loss: 0.9286 - val_accuracy: 0.6000\n",
      "Epoch 3/100\n",
      "3/3 [==============================] - 0s 36ms/step - loss: 1.1144 - accuracy: 0.5000 - val_loss: 1.2014 - val_accuracy: 0.4000\n",
      "Epoch 4/100\n",
      "3/3 [==============================] - 0s 40ms/step - loss: 1.1179 - accuracy: 0.4500 - val_loss: 0.6662 - val_accuracy: 0.8500\n",
      "Epoch 5/100\n",
      "3/3 [==============================] - 0s 46ms/step - loss: 0.6526 - accuracy: 0.7875 - val_loss: 0.6318 - val_accuracy: 0.7000\n",
      "Epoch 6/100\n",
      "3/3 [==============================] - 0s 34ms/step - loss: 0.7453 - accuracy: 0.4750 - val_loss: 1.2351 - val_accuracy: 0.4000\n",
      "Epoch 7/100\n",
      "3/3 [==============================] - 0s 35ms/step - loss: 0.8347 - accuracy: 0.4500 - val_loss: 1.0212 - val_accuracy: 0.4000\n",
      "Epoch 8/100\n",
      "3/3 [==============================] - 0s 31ms/step - loss: 0.7963 - accuracy: 0.5000 - val_loss: 0.8098 - val_accuracy: 0.4000\n",
      "Epoch 9/100\n",
      "3/3 [==============================] - 0s 30ms/step - loss: 0.7749 - accuracy: 0.4000 - val_loss: 0.6219 - val_accuracy: 0.6000\n",
      "Epoch 10/100\n",
      "3/3 [==============================] - 0s 30ms/step - loss: 0.6285 - accuracy: 0.7375 - val_loss: 0.8245 - val_accuracy: 0.4000\n",
      "Epoch 11/100\n",
      "3/3 [==============================] - 0s 34ms/step - loss: 0.6250 - accuracy: 0.6875 - val_loss: 0.6862 - val_accuracy: 0.6000\n",
      "Epoch 12/100\n",
      "3/3 [==============================] - 0s 31ms/step - loss: 0.7555 - accuracy: 0.4250 - val_loss: 0.8309 - val_accuracy: 0.4000\n",
      "Epoch 13/100\n",
      "3/3 [==============================] - 0s 33ms/step - loss: 0.7066 - accuracy: 0.4750 - val_loss: 0.6300 - val_accuracy: 0.7500\n",
      "Epoch 14/100\n",
      "3/3 [==============================] - 0s 40ms/step - loss: 0.5888 - accuracy: 0.9375 - val_loss: 0.6001 - val_accuracy: 0.7500\n",
      "Epoch 15/100\n",
      "3/3 [==============================] - 0s 40ms/step - loss: 0.5844 - accuracy: 0.7750 - val_loss: 0.8680 - val_accuracy: 0.4000\n",
      "Epoch 16/100\n",
      "3/3 [==============================] - 0s 42ms/step - loss: 0.6130 - accuracy: 0.6625 - val_loss: 0.6711 - val_accuracy: 0.4000\n",
      "Epoch 17/100\n",
      "3/3 [==============================] - 0s 30ms/step - loss: 0.6678 - accuracy: 0.5000 - val_loss: 0.6441 - val_accuracy: 0.6500\n",
      "Epoch 18/100\n",
      "3/3 [==============================] - 0s 35ms/step - loss: 0.7011 - accuracy: 0.6000 - val_loss: 0.6395 - val_accuracy: 0.8000\n",
      "Epoch 19/100\n",
      "3/3 [==============================] - 0s 34ms/step - loss: 0.5808 - accuracy: 0.7625 - val_loss: 0.6454 - val_accuracy: 0.5500\n",
      "Epoch 20/100\n",
      "3/3 [==============================] - 0s 35ms/step - loss: 0.5604 - accuracy: 0.8250 - val_loss: 0.6542 - val_accuracy: 0.5000\n",
      "Epoch 21/100\n",
      "3/3 [==============================] - 0s 35ms/step - loss: 0.5627 - accuracy: 0.7500 - val_loss: 0.8988 - val_accuracy: 0.4000\n",
      "Epoch 22/100\n",
      "3/3 [==============================] - 0s 30ms/step - loss: 0.7324 - accuracy: 0.4875 - val_loss: 0.5832 - val_accuracy: 0.7000\n",
      "Epoch 23/100\n",
      "3/3 [==============================] - 0s 27ms/step - loss: 0.6078 - accuracy: 0.6000 - val_loss: 1.0263 - val_accuracy: 0.4000\n",
      "Epoch 24/100\n",
      "3/3 [==============================] - 0s 35ms/step - loss: 0.6617 - accuracy: 0.5750 - val_loss: 0.6083 - val_accuracy: 0.6000\n",
      "Epoch 25/100\n",
      "3/3 [==============================] - 0s 36ms/step - loss: 0.6326 - accuracy: 0.5125 - val_loss: 0.6967 - val_accuracy: 0.4000\n",
      "Epoch 26/100\n",
      "3/3 [==============================] - 0s 31ms/step - loss: 0.7640 - accuracy: 0.3750 - val_loss: 0.5796 - val_accuracy: 0.7000\n",
      "Epoch 27/100\n",
      "3/3 [==============================] - 0s 27ms/step - loss: 0.5582 - accuracy: 0.7875 - val_loss: 0.5845 - val_accuracy: 0.8000\n",
      "Epoch 28/100\n",
      "3/3 [==============================] - 0s 26ms/step - loss: 0.5394 - accuracy: 0.8750 - val_loss: 0.8762 - val_accuracy: 0.4000\n",
      "Epoch 29/100\n",
      "3/3 [==============================] - 0s 29ms/step - loss: 0.6931 - accuracy: 0.4750 - val_loss: 0.5649 - val_accuracy: 0.7000\n",
      "Epoch 30/100\n",
      "3/3 [==============================] - 0s 29ms/step - loss: 0.6010 - accuracy: 0.6125 - val_loss: 0.5789 - val_accuracy: 0.6000\n",
      "Epoch 31/100\n",
      "3/3 [==============================] - 0s 41ms/step - loss: 0.5667 - accuracy: 0.6250 - val_loss: 0.6293 - val_accuracy: 0.6000\n",
      "Epoch 32/100\n",
      "3/3 [==============================] - 0s 37ms/step - loss: 0.5974 - accuracy: 0.6375 - val_loss: 0.5577 - val_accuracy: 0.8000\n",
      "Epoch 33/100\n",
      "3/3 [==============================] - 0s 42ms/step - loss: 0.5329 - accuracy: 0.7250 - val_loss: 0.5923 - val_accuracy: 0.8000\n",
      "Epoch 34/100\n",
      "3/3 [==============================] - 0s 41ms/step - loss: 0.5077 - accuracy: 0.9125 - val_loss: 0.5416 - val_accuracy: 0.7000\n",
      "Epoch 35/100\n",
      "3/3 [==============================] - 0s 45ms/step - loss: 0.5003 - accuracy: 0.8250 - val_loss: 1.0480 - val_accuracy: 0.4000\n",
      "Epoch 36/100\n",
      "3/3 [==============================] - 0s 34ms/step - loss: 0.7004 - accuracy: 0.5250 - val_loss: 0.5441 - val_accuracy: 0.7500\n",
      "Epoch 37/100\n",
      "3/3 [==============================] - 0s 28ms/step - loss: 0.5829 - accuracy: 0.6375 - val_loss: 0.5436 - val_accuracy: 0.7000\n",
      "Epoch 38/100\n",
      "3/3 [==============================] - 0s 33ms/step - loss: 0.5125 - accuracy: 0.7625 - val_loss: 0.5348 - val_accuracy: 0.8500\n",
      "Epoch 39/100\n",
      "3/3 [==============================] - 0s 34ms/step - loss: 0.4697 - accuracy: 0.9125 - val_loss: 0.5419 - val_accuracy: 0.7500\n",
      "Epoch 40/100\n",
      "3/3 [==============================] - 0s 36ms/step - loss: 0.5249 - accuracy: 0.7625 - val_loss: 0.7750 - val_accuracy: 0.6000\n",
      "Epoch 41/100\n",
      "3/3 [==============================] - 0s 35ms/step - loss: 0.6145 - accuracy: 0.6625 - val_loss: 0.5239 - val_accuracy: 0.8000\n",
      "Epoch 42/100\n",
      "3/3 [==============================] - 0s 29ms/step - loss: 0.4941 - accuracy: 0.7875 - val_loss: 0.6496 - val_accuracy: 0.5000\n",
      "Epoch 43/100\n",
      "3/3 [==============================] - 0s 25ms/step - loss: 0.5353 - accuracy: 0.6625 - val_loss: 0.5136 - val_accuracy: 0.8500\n",
      "Epoch 44/100\n",
      "3/3 [==============================] - 0s 32ms/step - loss: 0.4423 - accuracy: 0.9000 - val_loss: 0.6957 - val_accuracy: 0.4000\n",
      "Epoch 45/100\n",
      "3/3 [==============================] - 0s 32ms/step - loss: 0.5505 - accuracy: 0.6125 - val_loss: 0.6659 - val_accuracy: 0.6000\n",
      "Epoch 46/100\n",
      "3/3 [==============================] - 0s 34ms/step - loss: 0.7635 - accuracy: 0.4875 - val_loss: 0.7978 - val_accuracy: 0.4000\n",
      "Epoch 47/100\n",
      "3/3 [==============================] - 0s 49ms/step - loss: 0.5043 - accuracy: 0.7375 - val_loss: 0.5824 - val_accuracy: 0.6000\n",
      "Epoch 48/100\n",
      "3/3 [==============================] - 0s 33ms/step - loss: 0.5743 - accuracy: 0.5750 - val_loss: 0.5200 - val_accuracy: 0.8500\n",
      "Epoch 49/100\n",
      "3/3 [==============================] - 0s 38ms/step - loss: 0.4603 - accuracy: 0.8625 - val_loss: 0.6848 - val_accuracy: 0.6000\n",
      "Epoch 50/100\n",
      "3/3 [==============================] - 0s 48ms/step - loss: 0.8488 - accuracy: 0.4500 - val_loss: 0.9453 - val_accuracy: 0.4000\n",
      "Epoch 51/100\n",
      "3/3 [==============================] - 0s 42ms/step - loss: 0.5783 - accuracy: 0.7125 - val_loss: 0.8810 - val_accuracy: 0.4000\n",
      "Epoch 52/100\n",
      "3/3 [==============================] - 0s 35ms/step - loss: 0.5684 - accuracy: 0.6500 - val_loss: 0.5134 - val_accuracy: 0.8000\n",
      "Epoch 53/100\n",
      "3/3 [==============================] - 0s 38ms/step - loss: 0.4566 - accuracy: 0.8750 - val_loss: 0.4927 - val_accuracy: 0.8000\n",
      "Epoch 54/100\n",
      "3/3 [==============================] - 0s 31ms/step - loss: 0.4539 - accuracy: 0.7750 - val_loss: 0.5886 - val_accuracy: 0.7000\n",
      "Epoch 55/100\n",
      "3/3 [==============================] - 0s 33ms/step - loss: 0.4214 - accuracy: 0.9000 - val_loss: 0.6376 - val_accuracy: 0.5000\n",
      "Epoch 56/100\n",
      "3/3 [==============================] - 0s 39ms/step - loss: 0.6954 - accuracy: 0.6000 - val_loss: 0.5536 - val_accuracy: 0.6500\n",
      "Epoch 57/100\n",
      "3/3 [==============================] - 0s 37ms/step - loss: 0.5814 - accuracy: 0.5625 - val_loss: 0.5290 - val_accuracy: 0.7500\n",
      "Epoch 58/100\n",
      "3/3 [==============================] - 0s 38ms/step - loss: 0.4298 - accuracy: 0.9500 - val_loss: 0.7458 - val_accuracy: 0.4000\n",
      "Epoch 59/100\n",
      "3/3 [==============================] - 0s 34ms/step - loss: 0.6112 - accuracy: 0.5125 - val_loss: 0.5598 - val_accuracy: 0.6500\n",
      "Epoch 60/100\n",
      "3/3 [==============================] - 0s 35ms/step - loss: 0.5524 - accuracy: 0.5875 - val_loss: 0.5675 - val_accuracy: 0.8000\n",
      "Epoch 61/100\n",
      "3/3 [==============================] - 0s 29ms/step - loss: 0.4504 - accuracy: 0.8625 - val_loss: 0.5314 - val_accuracy: 0.7000\n",
      "Epoch 62/100\n",
      "3/3 [==============================] - 0s 34ms/step - loss: 0.5877 - accuracy: 0.5750 - val_loss: 0.5536 - val_accuracy: 0.8500\n",
      "Epoch 63/100\n",
      "3/3 [==============================] - 0s 42ms/step - loss: 0.4138 - accuracy: 0.9250 - val_loss: 0.5553 - val_accuracy: 0.8000\n",
      "Epoch 64/100\n",
      "3/3 [==============================] - 0s 37ms/step - loss: 0.5330 - accuracy: 0.6750 - val_loss: 0.4786 - val_accuracy: 0.8000\n",
      "Epoch 65/100\n",
      "3/3 [==============================] - 0s 29ms/step - loss: 0.5354 - accuracy: 0.7250 - val_loss: 0.7716 - val_accuracy: 0.4000\n",
      "Epoch 66/100\n",
      "3/3 [==============================] - 0s 28ms/step - loss: 0.4969 - accuracy: 0.6500 - val_loss: 0.5236 - val_accuracy: 0.8500\n",
      "Epoch 67/100\n",
      "3/3 [==============================] - 0s 35ms/step - loss: 0.3845 - accuracy: 0.9250 - val_loss: 0.5999 - val_accuracy: 0.6500\n",
      "Epoch 68/100\n",
      "3/3 [==============================] - 0s 46ms/step - loss: 0.5818 - accuracy: 0.6875 - val_loss: 0.9859 - val_accuracy: 0.6000\n",
      "Epoch 69/100\n",
      "3/3 [==============================] - 0s 43ms/step - loss: 0.9372 - accuracy: 0.5000 - val_loss: 0.5393 - val_accuracy: 0.7000\n",
      "Epoch 70/100\n",
      "3/3 [==============================] - 0s 38ms/step - loss: 0.4679 - accuracy: 0.8000 - val_loss: 0.5302 - val_accuracy: 0.8500\n",
      "Epoch 71/100\n",
      "3/3 [==============================] - 0s 28ms/step - loss: 0.4039 - accuracy: 0.9625 - val_loss: 0.5282 - val_accuracy: 0.8500\n",
      "Epoch 72/100\n",
      "3/3 [==============================] - 0s 32ms/step - loss: 0.3825 - accuracy: 0.9500 - val_loss: 0.4599 - val_accuracy: 0.8000\n",
      "Epoch 73/100\n",
      "3/3 [==============================] - 0s 32ms/step - loss: 0.3672 - accuracy: 0.9500 - val_loss: 0.4704 - val_accuracy: 0.7500\n",
      "Epoch 74/100\n",
      "3/3 [==============================] - 0s 37ms/step - loss: 0.3599 - accuracy: 0.9375 - val_loss: 0.4529 - val_accuracy: 0.8000\n",
      "Epoch 75/100\n",
      "3/3 [==============================] - 0s 35ms/step - loss: 0.3788 - accuracy: 0.9000 - val_loss: 1.2787 - val_accuracy: 0.4000\n",
      "Epoch 76/100\n",
      "3/3 [==============================] - 0s 28ms/step - loss: 0.7997 - accuracy: 0.5250 - val_loss: 0.5577 - val_accuracy: 0.6500\n",
      "Epoch 77/100\n",
      "3/3 [==============================] - 0s 34ms/step - loss: 0.4863 - accuracy: 0.7250 - val_loss: 0.7861 - val_accuracy: 0.6000\n",
      "Epoch 78/100\n",
      "3/3 [==============================] - 0s 39ms/step - loss: 0.6104 - accuracy: 0.7500 - val_loss: 0.4698 - val_accuracy: 0.8500\n",
      "Epoch 79/100\n",
      "3/3 [==============================] - 0s 48ms/step - loss: 0.3869 - accuracy: 0.8875 - val_loss: 0.5004 - val_accuracy: 0.8500\n",
      "Epoch 80/100\n",
      "3/3 [==============================] - 0s 39ms/step - loss: 0.3838 - accuracy: 0.9250 - val_loss: 0.8378 - val_accuracy: 0.6000\n",
      "Epoch 81/100\n",
      "3/3 [==============================] - 0s 40ms/step - loss: 0.6623 - accuracy: 0.6375 - val_loss: 1.2230 - val_accuracy: 0.4000\n",
      "Epoch 82/100\n",
      "3/3 [==============================] - 0s 27ms/step - loss: 0.6993 - accuracy: 0.5875 - val_loss: 0.4787 - val_accuracy: 0.8000\n",
      "Epoch 83/100\n",
      "3/3 [==============================] - 0s 30ms/step - loss: 0.4530 - accuracy: 0.7750 - val_loss: 0.6144 - val_accuracy: 0.6000\n",
      "Epoch 84/100\n",
      "3/3 [==============================] - 0s 28ms/step - loss: 0.3675 - accuracy: 0.9125 - val_loss: 0.4549 - val_accuracy: 0.8000\n",
      "Epoch 85/100\n",
      "3/3 [==============================] - 0s 37ms/step - loss: 0.3460 - accuracy: 0.9250 - val_loss: 0.5744 - val_accuracy: 0.7000\n",
      "Epoch 86/100\n",
      "3/3 [==============================] - 0s 41ms/step - loss: 0.3207 - accuracy: 0.9375 - val_loss: 0.4211 - val_accuracy: 0.9000\n",
      "Epoch 87/100\n",
      "3/3 [==============================] - 0s 37ms/step - loss: 0.3124 - accuracy: 0.9375 - val_loss: 0.5190 - val_accuracy: 0.8000\n",
      "Epoch 88/100\n",
      "3/3 [==============================] - 0s 34ms/step - loss: 0.6444 - accuracy: 0.6625 - val_loss: 0.5003 - val_accuracy: 0.7000\n",
      "Epoch 89/100\n",
      "3/3 [==============================] - 0s 36ms/step - loss: 0.4894 - accuracy: 0.6500 - val_loss: 0.4483 - val_accuracy: 0.8500\n",
      "Epoch 90/100\n",
      "3/3 [==============================] - 0s 42ms/step - loss: 0.3339 - accuracy: 0.9625 - val_loss: 0.4578 - val_accuracy: 0.8500\n",
      "Epoch 91/100\n",
      "3/3 [==============================] - 0s 40ms/step - loss: 0.4168 - accuracy: 0.8125 - val_loss: 0.8511 - val_accuracy: 0.6000\n",
      "Epoch 92/100\n",
      "3/3 [==============================] - 0s 32ms/step - loss: 0.5083 - accuracy: 0.8000 - val_loss: 0.4392 - val_accuracy: 0.8000\n",
      "Epoch 93/100\n",
      "3/3 [==============================] - 0s 36ms/step - loss: 0.3148 - accuracy: 0.9500 - val_loss: 0.5389 - val_accuracy: 0.7000\n",
      "Epoch 94/100\n",
      "3/3 [==============================] - 0s 30ms/step - loss: 0.3385 - accuracy: 0.9000 - val_loss: 0.7511 - val_accuracy: 0.6000\n",
      "Epoch 95/100\n",
      "3/3 [==============================] - 0s 26ms/step - loss: 0.6381 - accuracy: 0.6250 - val_loss: 1.4920 - val_accuracy: 0.4000\n",
      "Epoch 96/100\n",
      "3/3 [==============================] - 0s 37ms/step - loss: 0.8379 - accuracy: 0.5125 - val_loss: 0.6106 - val_accuracy: 0.6000\n",
      "Epoch 97/100\n",
      "3/3 [==============================] - 0s 46ms/step - loss: 0.6337 - accuracy: 0.5125 - val_loss: 0.4887 - val_accuracy: 0.8000\n",
      "Epoch 98/100\n",
      "3/3 [==============================] - 0s 42ms/step - loss: 0.3539 - accuracy: 0.9375 - val_loss: 0.6109 - val_accuracy: 0.6500\n",
      "Epoch 99/100\n",
      "3/3 [==============================] - 0s 39ms/step - loss: 0.7120 - accuracy: 0.5750 - val_loss: 0.6637 - val_accuracy: 0.6000\n",
      "Epoch 100/100\n",
      "3/3 [==============================] - 0s 45ms/step - loss: 0.4986 - accuracy: 0.8000 - val_loss: 0.4742 - val_accuracy: 0.8000\n"
     ]
    }
   ],
   "source": [
    "H = model.fit(x_train, y_train, validation_data=(x_test, y_test), \n",
    "          epochs=max_epochs, batch_size=32)"
   ]
  },
  {
   "cell_type": "code",
   "execution_count": 51,
   "metadata": {},
   "outputs": [
    {
     "data": {
      "image/png": "[encoded data removed]",
      "text/plain": [
       "<Figure size 432x288 with 1 Axes>"
      ]
     },
     "metadata": {},
     "output_type": "display_data"
    }
   ],
   "source": [
    "N = np.arange(0, max_epochs)\n",
    "plt.style.use(\"ggplot\")\n",
    "plt.figure()\n",
    "plt.plot(N, H.history[\"loss\"], label=\"train_loss\")\n",
    "plt.plot(N, H.history[\"val_loss\"], label=\"val_loss\")\n",
    "#plt.plot(N, H.history[\"accuracy\"], label=\"train_acc\")\n",
    "#plt.plot(N, H.history[\"val_accuracy\"], label=\"val_acc\")\n",
    "plt.xlabel(\"Epoch #\")\n",
    "plt.legend()\n",
    "plt.show()"
   ]
  },
  {
   "cell_type": "markdown",
   "metadata": {},
   "source": [
    "<h1>Evaluasi</h1>"
   ]
  },
  {
   "cell_type": "code",
   "execution_count": 52,
   "metadata": {},
   "outputs": [
    {
     "name": "stdout",
     "output_type": "stream",
     "text": [
      "              precision    recall  f1-score   support\n",
      "\n",
      "  jeruknipis       0.70      0.88      0.78         8\n",
      "     Seledri       0.90      0.75      0.82        12\n",
      "\n",
      "    accuracy                           0.80        20\n",
      "   macro avg       0.80      0.81      0.80        20\n",
      "weighted avg       0.82      0.80      0.80        20\n",
      "\n"
     ]
    }
   ],
   "source": [
    "predictions = model.predict(x_test, batch_size=32)\n",
    "target = (predictions > 0.5).astype(np.int64)\n",
    "print(classification_report(y_test, target, target_names=label_list))"
   ]
  },
  {
   "cell_type": "code",
   "execution_count": 53,
   "metadata": {},
   "outputs": [
    {
     "name": "stdout",
     "output_type": "stream",
     "text": [
      "[[0.6637011]]\n"
     ]
    }
   ],
   "source": [
    "# uji model menggunakan image lain\n",
    "queryPath = imagePaths+'tes.jpg'\n",
    "query = cv2.imread(queryPath)\n",
    "output = query.copy()\n",
    "query = cv2.resize(query, (32, 32))\n",
    "q = []\n",
    "q.append(query)\n",
    "q = np.array(q, dtype='float') / 255.0\n",
    "\n",
    "q_pred = model.predict(q)\n",
    "print(q_pred)"
   ]
  },
  {
   "cell_type": "code",
   "execution_count": 54,
   "metadata": {},
   "outputs": [],
   "source": [
    "if q_pred<=0.5 :\n",
    "    target = \"Seledri\"\n",
    "else :\n",
    "    target = \"Jeruk Nipis\"\n",
    "text = \"{}\".format(target)\n",
    "cv2.putText(output, text, (10, 30), cv2.FONT_HERSHEY_SIMPLEX, 0.7, (0, 0, 255), 2)\n",
    " \n",
    "# menampilkan output image\n",
    "cv2.imshow('Output', output)\n",
    "cv2.waitKey() # image tidak akan diclose,sebelum user menekan sembarang tombol\n",
    "cv2.destroyWindow('Output') # image akan diclose"
   ]
  }
 ],
 "metadata": {
  "interpreter": {
   "hash": "8da01e5a71448ea74f54d88afa8911010d1d12e23bc7e103d40d5def4a09152c"
  },
  "kernelspec": {
   "display_name": "Python 3.9.5 64-bit",
   "language": "python",
   "name": "python3"
  },
  "language_info": {
   "codemirror_mode": {
    "name": "ipython",
    "version": 3
   },
   "file_extension": ".py",
   "mimetype": "text/x-python",
   "name": "python",
   "nbconvert_exporter": "python",
   "pygments_lexer": "ipython3",
   "version": "3.9.5"
  },
  "orig_nbformat": 4
 },
 "nbformat": 4,
 "nbformat_minor": 2
}
