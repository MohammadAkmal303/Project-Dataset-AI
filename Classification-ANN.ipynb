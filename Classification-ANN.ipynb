{
 "cells": [
  {
   "cell_type": "markdown",
   "metadata": {},
   "source": [
    "<h1>Tugas Pertemuan 5</h1>\n",
    "<h1>Mencoba ANN</h1>"
   ]
  },
  {
   "cell_type": "code",
   "execution_count": 1,
   "metadata": {},
   "outputs": [],
   "source": [
    "from sklearn.model_selection import train_test_split\n",
    "from sklearn.preprocessing import LabelEncoder\n",
    "from sklearn.metrics import classification_report\n",
    "from tensorflow.keras.models import Sequential\n",
    "from tensorflow.keras.layers import Flatten, Dense\n",
    "from tensorflow.keras.optimizers import SGD\n",
    "import numpy as np\n",
    "import cv2\n",
    "import glob\n",
    "import matplotlib.pyplot as plt"
   ]
  },
  {
   "cell_type": "markdown",
   "metadata": {},
   "source": [
    "<h1> Load Data </h1> "
   ]
  },
  {
   "cell_type": "code",
   "execution_count": 2,
   "metadata": {},
   "outputs": [],
   "source": [
    "imagePaths = 'Dataset\\\\'\n",
    "label_list = ['jeruknipis', 'Seledri']\n",
    "data = []\n",
    "labels = []"
   ]
  },
  {
   "cell_type": "code",
   "execution_count": 3,
   "metadata": {},
   "outputs": [],
   "source": [
    "for label in label_list:\n",
    "    for imagePath in glob.glob(imagePaths+label+'\\\\*.jpg'):\n",
    "        #print(imagePath)\n",
    "        image = cv2.imread(imagePath)\n",
    "        image = cv2.resize(image, (32, 32))\n",
    "        data.append(image)\n",
    "        labels.append(label)"
   ]
  },
  {
   "cell_type": "code",
   "execution_count": 4,
   "metadata": {},
   "outputs": [
    {
     "data": {
      "text/plain": [
       "(100, 32, 32, 3)"
      ]
     },
     "execution_count": 4,
     "metadata": {},
     "output_type": "execute_result"
    }
   ],
   "source": [
    "np.array(data).shape"
   ]
  },
  {
   "cell_type": "markdown",
   "metadata": {},
   "source": [
    "<h1>Proses Data</h1>"
   ]
  },
  {
   "cell_type": "code",
   "execution_count": 5,
   "metadata": {},
   "outputs": [],
   "source": [
    "# ubah type data dari list menjadi array\n",
    "# ubah nilai dari tiap pixel menjadi range [0..1]\n",
    "data = np.array(data, dtype='float') / 255.0\n",
    "labels = np.array(labels)"
   ]
  },
  {
   "cell_type": "code",
   "execution_count": 6,
   "metadata": {},
   "outputs": [
    {
     "name": "stdout",
     "output_type": "stream",
     "text": [
      "['jeruknipis' 'jeruknipis' 'jeruknipis' 'jeruknipis' 'jeruknipis'\n",
      " 'jeruknipis' 'jeruknipis' 'jeruknipis' 'jeruknipis' 'jeruknipis'\n",
      " 'jeruknipis' 'jeruknipis' 'jeruknipis' 'jeruknipis' 'jeruknipis'\n",
      " 'jeruknipis' 'jeruknipis' 'jeruknipis' 'jeruknipis' 'jeruknipis'\n",
      " 'jeruknipis' 'jeruknipis' 'jeruknipis' 'jeruknipis' 'jeruknipis'\n",
      " 'jeruknipis' 'jeruknipis' 'jeruknipis' 'jeruknipis' 'jeruknipis'\n",
      " 'jeruknipis' 'jeruknipis' 'jeruknipis' 'jeruknipis' 'jeruknipis'\n",
      " 'jeruknipis' 'jeruknipis' 'jeruknipis' 'jeruknipis' 'jeruknipis'\n",
      " 'jeruknipis' 'jeruknipis' 'jeruknipis' 'jeruknipis' 'jeruknipis'\n",
      " 'jeruknipis' 'jeruknipis' 'jeruknipis' 'jeruknipis' 'jeruknipis'\n",
      " 'Seledri' 'Seledri' 'Seledri' 'Seledri' 'Seledri' 'Seledri' 'Seledri'\n",
      " 'Seledri' 'Seledri' 'Seledri' 'Seledri' 'Seledri' 'Seledri' 'Seledri'\n",
      " 'Seledri' 'Seledri' 'Seledri' 'Seledri' 'Seledri' 'Seledri' 'Seledri'\n",
      " 'Seledri' 'Seledri' 'Seledri' 'Seledri' 'Seledri' 'Seledri' 'Seledri'\n",
      " 'Seledri' 'Seledri' 'Seledri' 'Seledri' 'Seledri' 'Seledri' 'Seledri'\n",
      " 'Seledri' 'Seledri' 'Seledri' 'Seledri' 'Seledri' 'Seledri' 'Seledri'\n",
      " 'Seledri' 'Seledri' 'Seledri' 'Seledri' 'Seledri' 'Seledri' 'Seledri'\n",
      " 'Seledri']\n"
     ]
    }
   ],
   "source": [
    "print(labels)"
   ]
  },
  {
   "cell_type": "code",
   "execution_count": 7,
   "metadata": {},
   "outputs": [
    {
     "name": "stdout",
     "output_type": "stream",
     "text": [
      "[1 1 1 1 1 1 1 1 1 1 1 1 1 1 1 1 1 1 1 1 1 1 1 1 1 1 1 1 1 1 1 1 1 1 1 1 1\n",
      " 1 1 1 1 1 1 1 1 1 1 1 1 1 0 0 0 0 0 0 0 0 0 0 0 0 0 0 0 0 0 0 0 0 0 0 0 0\n",
      " 0 0 0 0 0 0 0 0 0 0 0 0 0 0 0 0 0 0 0 0 0 0 0 0 0 0]\n"
     ]
    }
   ],
   "source": [
    "lb = LabelEncoder()\n",
    "labels = lb.fit_transform(labels)\n",
    "print(labels)"
   ]
  },
  {
   "cell_type": "markdown",
   "metadata": {},
   "source": [
    "<h1> Split Data </h1>"
   ]
  },
  {
   "cell_type": "code",
   "execution_count": 8,
   "metadata": {},
   "outputs": [],
   "source": [
    "x_train, x_test, y_train, y_test = train_test_split(data, labels, test_size=0.2, random_state=42)"
   ]
  },
  {
   "cell_type": "code",
   "execution_count": 9,
   "metadata": {},
   "outputs": [
    {
     "name": "stdout",
     "output_type": "stream",
     "text": [
      "Ukuran data train = (80, 32, 32, 3)\n",
      "Ukuran data test = (20, 32, 32, 3)\n"
     ]
    }
   ],
   "source": [
    "print('Ukuran data train =', x_train.shape)\n",
    "print('Ukuran data test =', x_test.shape)"
   ]
  },
  {
   "cell_type": "markdown",
   "metadata": {},
   "source": [
    "<h1>Build ANN</h1>"
   ]
  },
  {
   "cell_type": "code",
   "execution_count": 10,
   "metadata": {},
   "outputs": [],
   "source": [
    "model = Sequential()\n",
    "model.add(Flatten(input_shape=(32,32,3)))\n",
    "model.add(Dense(1024, activation=\"relu\"))\n",
    "model.add(Dense(1024, activation=\"relu\"))\n",
    "model.add(Dense(1, activation=\"sigmoid\"))"
   ]
  },
  {
   "cell_type": "code",
   "execution_count": 11,
   "metadata": {},
   "outputs": [
    {
     "name": "stdout",
     "output_type": "stream",
     "text": [
      "Model: \"sequential\"\n",
      "_________________________________________________________________\n",
      " Layer (type)                Output Shape              Param #   \n",
      "=================================================================\n",
      " flatten (Flatten)           (None, 3072)              0         \n",
      "                                                                 \n",
      " dense (Dense)               (None, 1024)              3146752   \n",
      "                                                                 \n",
      " dense_1 (Dense)             (None, 1024)              1049600   \n",
      "                                                                 \n",
      " dense_2 (Dense)             (None, 1)                 1025      \n",
      "                                                                 \n",
      "=================================================================\n",
      "Total params: 4,197,377\n",
      "Trainable params: 4,197,377\n",
      "Non-trainable params: 0\n",
      "_________________________________________________________________\n"
     ]
    }
   ],
   "source": [
    "model.summary()"
   ]
  },
  {
   "cell_type": "code",
   "execution_count": 12,
   "metadata": {},
   "outputs": [],
   "source": [
    "lr = 0.01\n",
    "max_epochs = 100\n",
    "opt_funct = SGD(learning_rate=lr)"
   ]
  },
  {
   "cell_type": "code",
   "execution_count": 13,
   "metadata": {},
   "outputs": [],
   "source": [
    "model.compile(loss = 'binary_crossentropy', \n",
    "              optimizer = opt_funct, \n",
    "              metrics = ['accuracy'])"
   ]
  },
  {
   "cell_type": "markdown",
   "metadata": {},
   "source": [
    "<h1> Train Model </h1>"
   ]
  },
  {
   "cell_type": "code",
   "execution_count": 14,
   "metadata": {},
   "outputs": [
    {
     "name": "stdout",
     "output_type": "stream",
     "text": [
      "Epoch 1/100\n",
      "3/3 [==============================] - 2s 237ms/step - loss: 1.6986 - accuracy: 0.4500 - val_loss: 0.7995 - val_accuracy: 0.6000\n",
      "Epoch 2/100\n",
      "3/3 [==============================] - 0s 55ms/step - loss: 1.2285 - accuracy: 0.4250 - val_loss: 0.8091 - val_accuracy: 0.4000\n",
      "Epoch 3/100\n",
      "3/3 [==============================] - 0s 39ms/step - loss: 0.6696 - accuracy: 0.6000 - val_loss: 0.7699 - val_accuracy: 0.6000\n",
      "Epoch 4/100\n",
      "3/3 [==============================] - 0s 40ms/step - loss: 0.9023 - accuracy: 0.4500 - val_loss: 0.7197 - val_accuracy: 0.4000\n",
      "Epoch 5/100\n",
      "3/3 [==============================] - 0s 40ms/step - loss: 0.6764 - accuracy: 0.5000 - val_loss: 0.8120 - val_accuracy: 0.4000\n",
      "Epoch 6/100\n",
      "3/3 [==============================] - 0s 40ms/step - loss: 0.7881 - accuracy: 0.4250 - val_loss: 0.6436 - val_accuracy: 0.6000\n",
      "Epoch 7/100\n",
      "3/3 [==============================] - 0s 42ms/step - loss: 0.6322 - accuracy: 0.7875 - val_loss: 0.8762 - val_accuracy: 0.4000\n",
      "Epoch 8/100\n",
      "3/3 [==============================] - 0s 39ms/step - loss: 0.7192 - accuracy: 0.5000 - val_loss: 0.6928 - val_accuracy: 0.4000\n",
      "Epoch 9/100\n",
      "3/3 [==============================] - 0s 40ms/step - loss: 0.6170 - accuracy: 0.6500 - val_loss: 0.8619 - val_accuracy: 0.4000\n",
      "Epoch 10/100\n",
      "3/3 [==============================] - 0s 46ms/step - loss: 0.5985 - accuracy: 0.8000 - val_loss: 0.5829 - val_accuracy: 0.7500\n",
      "Epoch 11/100\n",
      "3/3 [==============================] - 0s 51ms/step - loss: 0.5799 - accuracy: 0.7625 - val_loss: 0.5789 - val_accuracy: 0.6500\n",
      "Epoch 12/100\n",
      "3/3 [==============================] - 0s 42ms/step - loss: 0.5841 - accuracy: 0.6625 - val_loss: 0.6055 - val_accuracy: 0.6000\n",
      "Epoch 13/100\n",
      "3/3 [==============================] - 0s 40ms/step - loss: 0.5907 - accuracy: 0.5875 - val_loss: 0.7855 - val_accuracy: 0.4000\n",
      "Epoch 14/100\n",
      "3/3 [==============================] - 0s 37ms/step - loss: 0.8509 - accuracy: 0.4250 - val_loss: 0.6797 - val_accuracy: 0.6000\n",
      "Epoch 15/100\n",
      "3/3 [==============================] - 0s 38ms/step - loss: 0.6262 - accuracy: 0.8125 - val_loss: 0.7557 - val_accuracy: 0.4000\n",
      "Epoch 16/100\n",
      "3/3 [==============================] - 0s 40ms/step - loss: 0.5840 - accuracy: 0.7000 - val_loss: 0.6213 - val_accuracy: 0.8000\n",
      "Epoch 17/100\n",
      "3/3 [==============================] - 0s 46ms/step - loss: 0.6202 - accuracy: 0.6500 - val_loss: 0.5855 - val_accuracy: 0.6000\n",
      "Epoch 18/100\n",
      "3/3 [==============================] - 0s 47ms/step - loss: 0.5685 - accuracy: 0.7000 - val_loss: 0.6001 - val_accuracy: 0.6000\n",
      "Epoch 19/100\n",
      "3/3 [==============================] - 0s 43ms/step - loss: 0.5439 - accuracy: 0.8000 - val_loss: 0.5881 - val_accuracy: 0.8500\n",
      "Epoch 20/100\n",
      "3/3 [==============================] - 0s 39ms/step - loss: 0.5848 - accuracy: 0.7625 - val_loss: 0.7384 - val_accuracy: 0.6000\n",
      "Epoch 21/100\n",
      "3/3 [==============================] - 0s 42ms/step - loss: 0.7573 - accuracy: 0.5375 - val_loss: 0.5614 - val_accuracy: 0.7000\n",
      "Epoch 22/100\n",
      "3/3 [==============================] - 0s 40ms/step - loss: 0.6103 - accuracy: 0.5625 - val_loss: 0.6410 - val_accuracy: 0.5000\n",
      "Epoch 23/100\n",
      "3/3 [==============================] - 0s 39ms/step - loss: 0.5280 - accuracy: 0.7375 - val_loss: 0.6175 - val_accuracy: 0.6500\n",
      "Epoch 24/100\n",
      "3/3 [==============================] - 0s 36ms/step - loss: 0.5989 - accuracy: 0.6250 - val_loss: 0.5768 - val_accuracy: 0.6000\n",
      "Epoch 25/100\n",
      "3/3 [==============================] - 0s 47ms/step - loss: 0.5176 - accuracy: 0.7750 - val_loss: 0.5607 - val_accuracy: 0.8000\n",
      "Epoch 26/100\n",
      "3/3 [==============================] - 0s 51ms/step - loss: 0.4933 - accuracy: 0.9125 - val_loss: 0.6804 - val_accuracy: 0.4000\n",
      "Epoch 27/100\n",
      "3/3 [==============================] - 0s 47ms/step - loss: 0.4814 - accuracy: 0.8250 - val_loss: 0.5346 - val_accuracy: 0.7500\n",
      "Epoch 28/100\n",
      "3/3 [==============================] - 0s 51ms/step - loss: 0.6356 - accuracy: 0.5375 - val_loss: 1.0383 - val_accuracy: 0.4000\n",
      "Epoch 29/100\n",
      "3/3 [==============================] - 0s 48ms/step - loss: 0.9803 - accuracy: 0.4000 - val_loss: 0.5991 - val_accuracy: 0.6000\n",
      "Epoch 30/100\n",
      "3/3 [==============================] - 0s 48ms/step - loss: 0.6538 - accuracy: 0.4750 - val_loss: 0.7155 - val_accuracy: 0.4000\n",
      "Epoch 31/100\n",
      "3/3 [==============================] - 0s 46ms/step - loss: 0.5550 - accuracy: 0.6375 - val_loss: 0.5767 - val_accuracy: 0.8000\n",
      "Epoch 32/100\n",
      "3/3 [==============================] - 0s 41ms/step - loss: 0.4953 - accuracy: 0.9750 - val_loss: 0.5505 - val_accuracy: 0.7000\n",
      "Epoch 33/100\n",
      "3/3 [==============================] - 0s 35ms/step - loss: 0.4828 - accuracy: 0.7875 - val_loss: 0.5256 - val_accuracy: 0.8000\n",
      "Epoch 34/100\n",
      "3/3 [==============================] - 0s 35ms/step - loss: 0.4704 - accuracy: 0.8500 - val_loss: 0.5663 - val_accuracy: 0.8000\n",
      "Epoch 35/100\n",
      "3/3 [==============================] - 0s 39ms/step - loss: 0.4634 - accuracy: 0.7875 - val_loss: 0.5159 - val_accuracy: 0.8000\n",
      "Epoch 36/100\n",
      "3/3 [==============================] - 0s 40ms/step - loss: 0.6203 - accuracy: 0.6375 - val_loss: 1.2298 - val_accuracy: 0.4000\n",
      "Epoch 37/100\n",
      "3/3 [==============================] - 0s 131ms/step - loss: 0.8021 - accuracy: 0.4875 - val_loss: 0.5420 - val_accuracy: 0.7500\n",
      "Epoch 38/100\n",
      "3/3 [==============================] - 0s 67ms/step - loss: 0.5124 - accuracy: 0.7000 - val_loss: 0.5200 - val_accuracy: 0.8000\n",
      "Epoch 39/100\n",
      "3/3 [==============================] - 0s 41ms/step - loss: 0.5248 - accuracy: 0.7000 - val_loss: 0.5191 - val_accuracy: 0.8500\n",
      "Epoch 40/100\n",
      "3/3 [==============================] - 0s 49ms/step - loss: 0.5999 - accuracy: 0.6500 - val_loss: 0.5247 - val_accuracy: 0.8500\n",
      "Epoch 41/100\n",
      "3/3 [==============================] - 0s 47ms/step - loss: 0.5878 - accuracy: 0.6375 - val_loss: 0.5564 - val_accuracy: 0.8500\n",
      "Epoch 42/100\n",
      "3/3 [==============================] - 0s 57ms/step - loss: 0.4567 - accuracy: 0.9000 - val_loss: 1.1068 - val_accuracy: 0.4000\n",
      "Epoch 43/100\n",
      "3/3 [==============================] - 0s 63ms/step - loss: 0.8758 - accuracy: 0.4500 - val_loss: 0.5406 - val_accuracy: 0.8000\n",
      "Epoch 44/100\n",
      "3/3 [==============================] - 0s 50ms/step - loss: 0.4719 - accuracy: 0.9125 - val_loss: 0.6150 - val_accuracy: 0.5500\n",
      "Epoch 45/100\n",
      "3/3 [==============================] - 0s 37ms/step - loss: 0.6081 - accuracy: 0.5875 - val_loss: 0.6560 - val_accuracy: 0.6000\n",
      "Epoch 46/100\n",
      "3/3 [==============================] - 0s 39ms/step - loss: 0.5700 - accuracy: 0.7375 - val_loss: 0.5735 - val_accuracy: 0.8000\n",
      "Epoch 47/100\n",
      "3/3 [==============================] - 0s 49ms/step - loss: 0.4971 - accuracy: 0.7500 - val_loss: 0.5901 - val_accuracy: 0.6000\n",
      "Epoch 48/100\n",
      "3/3 [==============================] - 0s 43ms/step - loss: 0.6428 - accuracy: 0.5500 - val_loss: 0.5375 - val_accuracy: 0.8000\n",
      "Epoch 49/100\n",
      "3/3 [==============================] - 0s 43ms/step - loss: 0.4401 - accuracy: 0.9250 - val_loss: 0.5013 - val_accuracy: 0.8000\n",
      "Epoch 50/100\n",
      "3/3 [==============================] - 0s 42ms/step - loss: 0.4121 - accuracy: 0.9375 - val_loss: 0.5933 - val_accuracy: 0.6000\n",
      "Epoch 51/100\n",
      "3/3 [==============================] - 0s 48ms/step - loss: 0.5392 - accuracy: 0.6125 - val_loss: 0.9723 - val_accuracy: 0.4000\n",
      "Epoch 52/100\n",
      "3/3 [==============================] - 0s 42ms/step - loss: 0.5175 - accuracy: 0.6625 - val_loss: 0.5664 - val_accuracy: 0.6500\n",
      "Epoch 53/100\n",
      "3/3 [==============================] - 0s 50ms/step - loss: 0.8316 - accuracy: 0.4500 - val_loss: 0.7548 - val_accuracy: 0.4000\n",
      "Epoch 54/100\n",
      "3/3 [==============================] - 0s 43ms/step - loss: 0.4862 - accuracy: 0.7500 - val_loss: 0.5143 - val_accuracy: 0.8000\n",
      "Epoch 55/100\n",
      "3/3 [==============================] - 0s 39ms/step - loss: 0.5565 - accuracy: 0.6750 - val_loss: 0.5763 - val_accuracy: 0.7500\n",
      "Epoch 56/100\n",
      "3/3 [==============================] - 0s 43ms/step - loss: 0.4488 - accuracy: 0.8500 - val_loss: 0.5658 - val_accuracy: 0.6000\n",
      "Epoch 57/100\n",
      "3/3 [==============================] - 0s 40ms/step - loss: 0.4643 - accuracy: 0.7875 - val_loss: 0.6103 - val_accuracy: 0.6000\n",
      "Epoch 58/100\n",
      "3/3 [==============================] - 0s 43ms/step - loss: 0.4901 - accuracy: 0.6750 - val_loss: 0.5584 - val_accuracy: 0.7000\n",
      "Epoch 59/100\n",
      "3/3 [==============================] - 0s 39ms/step - loss: 0.7195 - accuracy: 0.5375 - val_loss: 0.5257 - val_accuracy: 0.8500\n",
      "Epoch 60/100\n",
      "3/3 [==============================] - 0s 40ms/step - loss: 0.4180 - accuracy: 0.9125 - val_loss: 0.5175 - val_accuracy: 0.7000\n",
      "Epoch 61/100\n",
      "3/3 [==============================] - 0s 36ms/step - loss: 0.5154 - accuracy: 0.6125 - val_loss: 0.5613 - val_accuracy: 0.7500\n",
      "Epoch 62/100\n",
      "3/3 [==============================] - 0s 49ms/step - loss: 0.3868 - accuracy: 0.9250 - val_loss: 0.5122 - val_accuracy: 0.8500\n",
      "Epoch 63/100\n",
      "3/3 [==============================] - 0s 55ms/step - loss: 0.3660 - accuracy: 0.8750 - val_loss: 0.4587 - val_accuracy: 0.8000\n",
      "Epoch 64/100\n",
      "3/3 [==============================] - 0s 49ms/step - loss: 0.3840 - accuracy: 0.8750 - val_loss: 0.6469 - val_accuracy: 0.5500\n",
      "Epoch 65/100\n",
      "3/3 [==============================] - 0s 49ms/step - loss: 0.5973 - accuracy: 0.6125 - val_loss: 0.5227 - val_accuracy: 0.8500\n",
      "Epoch 66/100\n",
      "3/3 [==============================] - 0s 48ms/step - loss: 0.3888 - accuracy: 0.9125 - val_loss: 0.6357 - val_accuracy: 0.6000\n",
      "Epoch 67/100\n",
      "3/3 [==============================] - 0s 47ms/step - loss: 0.5444 - accuracy: 0.6375 - val_loss: 0.9353 - val_accuracy: 0.4000\n",
      "Epoch 68/100\n",
      "3/3 [==============================] - 0s 49ms/step - loss: 0.6873 - accuracy: 0.5250 - val_loss: 0.6458 - val_accuracy: 0.6000\n",
      "Epoch 69/100\n",
      "3/3 [==============================] - 0s 48ms/step - loss: 0.5298 - accuracy: 0.7375 - val_loss: 0.5229 - val_accuracy: 0.8500\n",
      "Epoch 70/100\n",
      "3/3 [==============================] - 0s 54ms/step - loss: 0.3739 - accuracy: 0.9125 - val_loss: 0.4461 - val_accuracy: 0.8500\n",
      "Epoch 71/100\n",
      "3/3 [==============================] - 0s 51ms/step - loss: 0.3828 - accuracy: 0.8750 - val_loss: 1.5019 - val_accuracy: 0.4000\n",
      "Epoch 72/100\n",
      "3/3 [==============================] - 0s 49ms/step - loss: 0.6736 - accuracy: 0.6750 - val_loss: 0.5699 - val_accuracy: 0.7000\n",
      "Epoch 73/100\n",
      "3/3 [==============================] - 0s 64ms/step - loss: 0.4526 - accuracy: 0.7625 - val_loss: 0.5767 - val_accuracy: 0.7000\n",
      "Epoch 74/100\n",
      "3/3 [==============================] - 0s 40ms/step - loss: 0.5335 - accuracy: 0.5875 - val_loss: 0.6535 - val_accuracy: 0.5500\n",
      "Epoch 75/100\n",
      "3/3 [==============================] - 0s 35ms/step - loss: 0.4032 - accuracy: 0.8125 - val_loss: 0.5206 - val_accuracy: 0.7000\n",
      "Epoch 76/100\n",
      "3/3 [==============================] - 0s 37ms/step - loss: 0.4169 - accuracy: 0.7500 - val_loss: 1.5237 - val_accuracy: 0.4000\n",
      "Epoch 77/100\n",
      "3/3 [==============================] - 0s 40ms/step - loss: 0.6801 - accuracy: 0.7000 - val_loss: 0.4800 - val_accuracy: 0.8000\n",
      "Epoch 78/100\n",
      "3/3 [==============================] - 0s 45ms/step - loss: 0.3630 - accuracy: 0.9250 - val_loss: 0.5132 - val_accuracy: 0.8000\n",
      "Epoch 79/100\n",
      "3/3 [==============================] - 0s 50ms/step - loss: 0.3788 - accuracy: 0.9000 - val_loss: 0.7523 - val_accuracy: 0.6000\n",
      "Epoch 80/100\n",
      "3/3 [==============================] - 0s 37ms/step - loss: 0.6773 - accuracy: 0.5750 - val_loss: 0.5413 - val_accuracy: 0.8000\n",
      "Epoch 81/100\n",
      "3/3 [==============================] - 0s 43ms/step - loss: 0.3344 - accuracy: 0.9625 - val_loss: 0.4249 - val_accuracy: 0.8000\n",
      "Epoch 82/100\n",
      "3/3 [==============================] - 0s 53ms/step - loss: 0.4215 - accuracy: 0.8250 - val_loss: 0.4726 - val_accuracy: 0.8500\n",
      "Epoch 83/100\n",
      "3/3 [==============================] - 0s 52ms/step - loss: 0.3663 - accuracy: 0.8250 - val_loss: 0.4576 - val_accuracy: 0.8500\n",
      "Epoch 84/100\n",
      "3/3 [==============================] - 0s 40ms/step - loss: 0.3194 - accuracy: 0.9625 - val_loss: 0.8516 - val_accuracy: 0.4000\n",
      "Epoch 85/100\n",
      "3/3 [==============================] - 0s 40ms/step - loss: 0.5183 - accuracy: 0.6750 - val_loss: 0.7331 - val_accuracy: 0.6000\n",
      "Epoch 86/100\n",
      "3/3 [==============================] - 0s 58ms/step - loss: 0.6591 - accuracy: 0.6000 - val_loss: 0.4596 - val_accuracy: 0.8000\n",
      "Epoch 87/100\n",
      "3/3 [==============================] - 0s 57ms/step - loss: 0.3988 - accuracy: 0.8500 - val_loss: 0.8895 - val_accuracy: 0.6000\n",
      "Epoch 88/100\n",
      "3/3 [==============================] - 0s 44ms/step - loss: 0.6749 - accuracy: 0.6375 - val_loss: 0.4598 - val_accuracy: 0.8000\n",
      "Epoch 89/100\n",
      "3/3 [==============================] - 0s 40ms/step - loss: 0.3690 - accuracy: 0.9125 - val_loss: 0.5909 - val_accuracy: 0.7000\n",
      "Epoch 90/100\n",
      "3/3 [==============================] - 0s 38ms/step - loss: 0.4389 - accuracy: 0.7000 - val_loss: 0.4432 - val_accuracy: 0.8000\n",
      "Epoch 91/100\n",
      "3/3 [==============================] - 0s 39ms/step - loss: 0.5462 - accuracy: 0.6625 - val_loss: 0.7177 - val_accuracy: 0.5000\n",
      "Epoch 92/100\n",
      "3/3 [==============================] - 0s 40ms/step - loss: 0.4827 - accuracy: 0.6875 - val_loss: 0.5614 - val_accuracy: 0.7000\n",
      "Epoch 93/100\n",
      "3/3 [==============================] - 0s 38ms/step - loss: 0.7576 - accuracy: 0.4875 - val_loss: 0.5221 - val_accuracy: 0.8000\n",
      "Epoch 94/100\n",
      "3/3 [==============================] - 0s 36ms/step - loss: 0.3877 - accuracy: 0.8625 - val_loss: 0.4256 - val_accuracy: 0.8000\n",
      "Epoch 95/100\n",
      "3/3 [==============================] - 0s 43ms/step - loss: 0.3273 - accuracy: 0.9375 - val_loss: 0.4237 - val_accuracy: 0.8000\n",
      "Epoch 96/100\n",
      "3/3 [==============================] - 0s 52ms/step - loss: 0.3479 - accuracy: 0.8625 - val_loss: 0.4876 - val_accuracy: 0.8000\n",
      "Epoch 97/100\n",
      "3/3 [==============================] - 0s 54ms/step - loss: 0.3608 - accuracy: 0.8000 - val_loss: 0.4483 - val_accuracy: 0.7500\n",
      "Epoch 98/100\n",
      "3/3 [==============================] - 0s 51ms/step - loss: 0.3147 - accuracy: 0.9000 - val_loss: 0.4577 - val_accuracy: 0.8500\n",
      "Epoch 99/100\n",
      "3/3 [==============================] - 0s 38ms/step - loss: 0.2720 - accuracy: 0.9625 - val_loss: 0.3789 - val_accuracy: 0.8500\n",
      "Epoch 100/100\n",
      "3/3 [==============================] - 0s 47ms/step - loss: 0.3760 - accuracy: 0.8625 - val_loss: 1.3945 - val_accuracy: 0.6000\n"
     ]
    }
   ],
   "source": [
    "H = model.fit(x_train, y_train, validation_data=(x_test, y_test), \n",
    "          epochs=max_epochs, batch_size=32)"
   ]
  },
  {
   "cell_type": "code",
   "execution_count": 15,
   "metadata": {},
   "outputs": [
    {
     "data": {
      "image/png": "[encoded data removed]",
      "text/plain": [
       "<Figure size 432x288 with 1 Axes>"
      ]
     },
     "metadata": {},
     "output_type": "display_data"
    }
   ],
   "source": [
    "N = np.arange(0, max_epochs)\n",
    "plt.style.use(\"ggplot\")\n",
    "plt.figure()\n",
    "plt.plot(N, H.history[\"loss\"], label=\"train_loss\")\n",
    "plt.plot(N, H.history[\"val_loss\"], label=\"val_loss\")\n",
    "#plt.plot(N, H.history[\"accuracy\"], label=\"train_acc\")\n",
    "#plt.plot(N, H.history[\"val_accuracy\"], label=\"val_acc\")\n",
    "plt.xlabel(\"Epoch #\")\n",
    "plt.legend()\n",
    "plt.show()"
   ]
  },
  {
   "cell_type": "markdown",
   "metadata": {},
   "source": [
    "<h1>Evaluasi</h1>"
   ]
  },
  {
   "cell_type": "code",
   "execution_count": 16,
   "metadata": {},
   "outputs": [
    {
     "name": "stdout",
     "output_type": "stream",
     "text": [
      "              precision    recall  f1-score   support\n",
      "\n",
      "  jeruknipis       0.00      0.00      0.00         8\n",
      "     Seledri       0.60      1.00      0.75        12\n",
      "\n",
      "    accuracy                           0.60        20\n",
      "   macro avg       0.30      0.50      0.37        20\n",
      "weighted avg       0.36      0.60      0.45        20\n",
      "\n"
     ]
    },
    {
     "name": "stderr",
     "output_type": "stream",
     "text": [
      "C:\\Users\\ASUS\\AppData\\Local\\Temp/ipykernel_9384/2175272745.py:2: DeprecationWarning: `np.int` is a deprecated alias for the builtin `int`. To silence this warning, use `int` by itself. Doing this will not modify any behavior and is safe. When replacing `np.int`, you may wish to use e.g. `np.int64` or `np.int32` to specify the precision. If you wish to review your current use, check the release note link for additional information.\n",
      "Deprecated in NumPy 1.20; for more details and guidance: https://numpy.org/devdocs/release/1.20.0-notes.html#deprecations\n",
      "  target = (predictions > 0.5).astype(np.int)\n",
      "C:\\Users\\ASUS\\AppData\\Local\\Programs\\Python\\Python39\\lib\\site-packages\\sklearn\\metrics\\_classification.py:1308: UndefinedMetricWarning: Precision and F-score are ill-defined and being set to 0.0 in labels with no predicted samples. Use `zero_division` parameter to control this behavior.\n",
      "  _warn_prf(average, modifier, msg_start, len(result))\n",
      "C:\\Users\\ASUS\\AppData\\Local\\Programs\\Python\\Python39\\lib\\site-packages\\sklearn\\metrics\\_classification.py:1308: UndefinedMetricWarning: Precision and F-score are ill-defined and being set to 0.0 in labels with no predicted samples. Use `zero_division` parameter to control this behavior.\n",
      "  _warn_prf(average, modifier, msg_start, len(result))\n",
      "C:\\Users\\ASUS\\AppData\\Local\\Programs\\Python\\Python39\\lib\\site-packages\\sklearn\\metrics\\_classification.py:1308: UndefinedMetricWarning: Precision and F-score are ill-defined and being set to 0.0 in labels with no predicted samples. Use `zero_division` parameter to control this behavior.\n",
      "  _warn_prf(average, modifier, msg_start, len(result))\n"
     ]
    }
   ],
   "source": [
    "predictions = model.predict(x_test, batch_size=32)\n",
    "target = (predictions > 0.5).astype(np.int)\n",
    "print(classification_report(y_test, target, target_names=label_list))"
   ]
  },
  {
   "cell_type": "code",
   "execution_count": 17,
   "metadata": {},
   "outputs": [
    {
     "name": "stdout",
     "output_type": "stream",
     "text": [
      "[[0.98863065]]\n"
     ]
    }
   ],
   "source": [
    "# uji model menggunakan image lain\n",
    "queryPath = imagePaths+'tes.jpg'\n",
    "query = cv2.imread(queryPath)\n",
    "output = query.copy()\n",
    "query = cv2.resize(query, (32, 32))\n",
    "q = []\n",
    "q.append(query)\n",
    "q = np.array(q, dtype='float') / 255.0\n",
    "\n",
    "q_pred = model.predict(q)\n",
    "print(q_pred)"
   ]
  },
  {
   "cell_type": "code",
   "execution_count": 18,
   "metadata": {},
   "outputs": [],
   "source": [
    "if q_pred<=0.5 :\n",
    "    target = \"Seledri\"\n",
    "    target = \"Jeruk Nipis\"\n",
    "text = \"{}\".format(target)\n",
    "cv2.putText(output, text, (10, 30), cv2.FONT_HERSHEY_SIMPLEX, 0.7, (0, 0, 255), 2)\n",
    " \n",
    "# menampilkan output image\n",
    "cv2.imshow('Output', output)\n",
    "cv2.waitKey() # image tidak akan diclose,sebelum user menekan sembarang tombol\n",
    "cv2.destroyWindow('Output') # image akan diclose"
   ]
  }
 ],
 "metadata": {
  "interpreter": {
   "hash": "8da01e5a71448ea74f54d88afa8911010d1d12e23bc7e103d40d5def4a09152c"
  },
  "kernelspec": {
   "display_name": "Python 3.9.5 64-bit",
   "language": "python",
   "name": "python3"
  },
  "language_info": {
   "codemirror_mode": {
    "name": "ipython",
    "version": 3
   },
   "file_extension": ".py",
   "mimetype": "text/x-python",
   "name": "python",
   "nbconvert_exporter": "python",
   "pygments_lexer": "ipython3",
   "version": "3.9.5"
  },
  "orig_nbformat": 4
 },
 "nbformat": 4,
 "nbformat_minor": 2
}
