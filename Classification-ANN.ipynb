{
 "cells": [
  {
   "cell_type": "markdown",
   "metadata": {},
   "source": [
    "<h1>Tugas Pertemuan 5</h1>\n",
    "<h1>Mencoba ANN</h1>"
   ]
  },
  {
   "cell_type": "code",
   "execution_count": 16,
   "metadata": {},
   "outputs": [],
   "source": [
    "from sklearn.model_selection import train_test_split\n",
    "from sklearn.preprocessing import LabelEncoder\n",
    "from sklearn.metrics import classification_report\n",
    "from tensorflow.keras.models import Sequential\n",
    "from tensorflow.keras.layers import Flatten, Dense\n",
    "from tensorflow.keras.optimizers import SGD\n",
    "import numpy as np\n",
    "import cv2\n",
    "import glob\n",
    "import matplotlib.pyplot as plt"
   ]
  },
  {
   "cell_type": "markdown",
   "metadata": {},
   "source": [
    "<h1> Load Data </h1> "
   ]
  },
  {
   "cell_type": "code",
   "execution_count": 17,
   "metadata": {},
   "outputs": [],
   "source": [
    "imagePaths = 'Dataset\\\\'\n",
    "label_list = ['jeruknipis', 'Seledri']\n",
    "data = []\n",
    "labels = []"
   ]
  },
  {
   "cell_type": "code",
   "execution_count": 18,
   "metadata": {},
   "outputs": [],
   "source": [
    "for label in label_list:\n",
    "    for imagePath in glob.glob(imagePaths+label+'\\\\*.jpg'):\n",
    "        #print(imagePath)\n",
    "        image = cv2.imread(imagePath)\n",
    "        image = cv2.resize(image, (32, 32))\n",
    "        data.append(image)\n",
    "        labels.append(label)"
   ]
  },
  {
   "cell_type": "code",
   "execution_count": 19,
   "metadata": {},
   "outputs": [
    {
     "data": {
      "text/plain": [
       "(100, 32, 32, 3)"
      ]
     },
     "execution_count": 19,
     "metadata": {},
     "output_type": "execute_result"
    }
   ],
   "source": [
    "np.array(data).shape"
   ]
  },
  {
   "cell_type": "markdown",
   "metadata": {},
   "source": [
    "<h1>Proses Data</h1>"
   ]
  },
  {
   "cell_type": "code",
   "execution_count": 20,
   "metadata": {},
   "outputs": [],
   "source": [
    "# ubah type data dari list menjadi array\n",
    "# ubah nilai dari tiap pixel menjadi range [0..1]\n",
    "data = np.array(data, dtype='float') / 255.0\n",
    "labels = np.array(labels)"
   ]
  },
  {
   "cell_type": "code",
   "execution_count": 21,
   "metadata": {},
   "outputs": [
    {
     "name": "stdout",
     "output_type": "stream",
     "text": [
      "['jeruknipis' 'jeruknipis' 'jeruknipis' 'jeruknipis' 'jeruknipis'\n",
      " 'jeruknipis' 'jeruknipis' 'jeruknipis' 'jeruknipis' 'jeruknipis'\n",
      " 'jeruknipis' 'jeruknipis' 'jeruknipis' 'jeruknipis' 'jeruknipis'\n",
      " 'jeruknipis' 'jeruknipis' 'jeruknipis' 'jeruknipis' 'jeruknipis'\n",
      " 'jeruknipis' 'jeruknipis' 'jeruknipis' 'jeruknipis' 'jeruknipis'\n",
      " 'jeruknipis' 'jeruknipis' 'jeruknipis' 'jeruknipis' 'jeruknipis'\n",
      " 'jeruknipis' 'jeruknipis' 'jeruknipis' 'jeruknipis' 'jeruknipis'\n",
      " 'jeruknipis' 'jeruknipis' 'jeruknipis' 'jeruknipis' 'jeruknipis'\n",
      " 'jeruknipis' 'jeruknipis' 'jeruknipis' 'jeruknipis' 'jeruknipis'\n",
      " 'jeruknipis' 'jeruknipis' 'jeruknipis' 'jeruknipis' 'jeruknipis'\n",
      " 'Seledri' 'Seledri' 'Seledri' 'Seledri' 'Seledri' 'Seledri' 'Seledri'\n",
      " 'Seledri' 'Seledri' 'Seledri' 'Seledri' 'Seledri' 'Seledri' 'Seledri'\n",
      " 'Seledri' 'Seledri' 'Seledri' 'Seledri' 'Seledri' 'Seledri' 'Seledri'\n",
      " 'Seledri' 'Seledri' 'Seledri' 'Seledri' 'Seledri' 'Seledri' 'Seledri'\n",
      " 'Seledri' 'Seledri' 'Seledri' 'Seledri' 'Seledri' 'Seledri' 'Seledri'\n",
      " 'Seledri' 'Seledri' 'Seledri' 'Seledri' 'Seledri' 'Seledri' 'Seledri'\n",
      " 'Seledri' 'Seledri' 'Seledri' 'Seledri' 'Seledri' 'Seledri' 'Seledri'\n",
      " 'Seledri']\n"
     ]
    }
   ],
   "source": [
    "print(labels)"
   ]
  },
  {
   "cell_type": "code",
   "execution_count": 22,
   "metadata": {},
   "outputs": [
    {
     "name": "stdout",
     "output_type": "stream",
     "text": [
      "[1 1 1 1 1 1 1 1 1 1 1 1 1 1 1 1 1 1 1 1 1 1 1 1 1 1 1 1 1 1 1 1 1 1 1 1 1\n",
      " 1 1 1 1 1 1 1 1 1 1 1 1 1 0 0 0 0 0 0 0 0 0 0 0 0 0 0 0 0 0 0 0 0 0 0 0 0\n",
      " 0 0 0 0 0 0 0 0 0 0 0 0 0 0 0 0 0 0 0 0 0 0 0 0 0 0]\n"
     ]
    }
   ],
   "source": [
    "lb = LabelEncoder()\n",
    "labels = lb.fit_transform(labels)\n",
    "print(labels)"
   ]
  },
  {
   "cell_type": "markdown",
   "metadata": {},
   "source": [
    "<h1> Split Data </h1>"
   ]
  },
  {
   "cell_type": "code",
   "execution_count": 23,
   "metadata": {},
   "outputs": [],
   "source": [
    "x_train, x_test, y_train, y_test = train_test_split(data, labels, test_size=0.2, random_state=42)"
   ]
  },
  {
   "cell_type": "code",
   "execution_count": 24,
   "metadata": {},
   "outputs": [
    {
     "name": "stdout",
     "output_type": "stream",
     "text": [
      "Ukuran data train = (80, 32, 32, 3)\n",
      "Ukuran data test = (20, 32, 32, 3)\n"
     ]
    }
   ],
   "source": [
    "print('Ukuran data train =', x_train.shape)\n",
    "print('Ukuran data test =', x_test.shape)"
   ]
  },
  {
   "cell_type": "markdown",
   "metadata": {},
   "source": [
    "<h1>Build ANN</h1>"
   ]
  },
  {
   "cell_type": "code",
   "execution_count": 25,
   "metadata": {},
   "outputs": [],
   "source": [
    "model = Sequential()\n",
    "model.add(Flatten(input_shape=(32,32,3)))\n",
    "model.add(Dense(1024, activation=\"relu\"))\n",
    "model.add(Dense(1024, activation=\"relu\"))\n",
    "model.add(Dense(1, activation=\"sigmoid\"))"
   ]
  },
  {
   "cell_type": "code",
   "execution_count": 26,
   "metadata": {},
   "outputs": [
    {
     "name": "stdout",
     "output_type": "stream",
     "text": [
      "Model: \"sequential_1\"\n",
      "_________________________________________________________________\n",
      " Layer (type)                Output Shape              Param #   \n",
      "=================================================================\n",
      " flatten_1 (Flatten)         (None, 3072)              0         \n",
      "                                                                 \n",
      " dense_3 (Dense)             (None, 1024)              3146752   \n",
      "                                                                 \n",
      " dense_4 (Dense)             (None, 1024)              1049600   \n",
      "                                                                 \n",
      " dense_5 (Dense)             (None, 1)                 1025      \n",
      "                                                                 \n",
      "=================================================================\n",
      "Total params: 4,197,377\n",
      "Trainable params: 4,197,377\n",
      "Non-trainable params: 0\n",
      "_________________________________________________________________\n"
     ]
    }
   ],
   "source": [
    "model.summary()"
   ]
  },
  {
   "cell_type": "code",
   "execution_count": 27,
   "metadata": {},
   "outputs": [],
   "source": [
    "lr = 0.01\n",
    "max_epochs = 100\n",
    "opt_funct = SGD(learning_rate=lr)"
   ]
  },
  {
   "cell_type": "code",
   "execution_count": 28,
   "metadata": {},
   "outputs": [],
   "source": [
    "model.compile(loss = 'binary_crossentropy', \n",
    "              optimizer = opt_funct, \n",
    "              metrics = ['accuracy'])"
   ]
  },
  {
   "cell_type": "markdown",
   "metadata": {},
   "source": [
    "<h1> Train Model </h1>"
   ]
  },
  {
   "cell_type": "code",
   "execution_count": 29,
   "metadata": {},
   "outputs": [
    {
     "name": "stdout",
     "output_type": "stream",
     "text": [
      "Epoch 1/100\n",
      "3/3 [==============================] - 1s 110ms/step - loss: 1.6489 - accuracy: 0.4500 - val_loss: 1.0762 - val_accuracy: 0.4000\n",
      "Epoch 2/100\n",
      "3/3 [==============================] - 0s 35ms/step - loss: 1.2488 - accuracy: 0.4250 - val_loss: 0.7847 - val_accuracy: 0.6000\n",
      "Epoch 3/100\n",
      "3/3 [==============================] - 0s 34ms/step - loss: 0.8788 - accuracy: 0.4750 - val_loss: 0.7040 - val_accuracy: 0.4000\n",
      "Epoch 4/100\n",
      "3/3 [==============================] - 0s 33ms/step - loss: 0.6476 - accuracy: 0.5500 - val_loss: 0.6383 - val_accuracy: 0.6000\n",
      "Epoch 5/100\n",
      "3/3 [==============================] - 0s 33ms/step - loss: 0.6602 - accuracy: 0.5250 - val_loss: 0.6274 - val_accuracy: 0.6000\n",
      "Epoch 6/100\n",
      "3/3 [==============================] - 0s 33ms/step - loss: 0.6435 - accuracy: 0.5500 - val_loss: 0.6196 - val_accuracy: 0.6000\n",
      "Epoch 7/100\n",
      "3/3 [==============================] - 0s 36ms/step - loss: 0.6654 - accuracy: 0.4875 - val_loss: 1.0388 - val_accuracy: 0.4000\n",
      "Epoch 8/100\n",
      "3/3 [==============================] - 0s 39ms/step - loss: 0.8590 - accuracy: 0.4500 - val_loss: 0.6221 - val_accuracy: 0.6000\n",
      "Epoch 9/100\n",
      "3/3 [==============================] - 0s 42ms/step - loss: 0.6314 - accuracy: 0.5750 - val_loss: 0.7155 - val_accuracy: 0.4000\n",
      "Epoch 10/100\n",
      "3/3 [==============================] - 0s 41ms/step - loss: 0.7083 - accuracy: 0.4500 - val_loss: 0.6394 - val_accuracy: 0.8000\n",
      "Epoch 11/100\n",
      "3/3 [==============================] - 0s 41ms/step - loss: 0.6434 - accuracy: 0.6625 - val_loss: 0.6425 - val_accuracy: 0.7000\n",
      "Epoch 12/100\n",
      "3/3 [==============================] - 0s 40ms/step - loss: 0.6877 - accuracy: 0.5750 - val_loss: 0.6190 - val_accuracy: 0.6000\n",
      "Epoch 13/100\n",
      "3/3 [==============================] - 0s 40ms/step - loss: 0.6906 - accuracy: 0.4375 - val_loss: 1.0068 - val_accuracy: 0.4000\n",
      "Epoch 14/100\n",
      "3/3 [==============================] - 0s 42ms/step - loss: 0.6744 - accuracy: 0.6500 - val_loss: 0.7567 - val_accuracy: 0.4000\n",
      "Epoch 15/100\n",
      "3/3 [==============================] - 0s 41ms/step - loss: 0.5968 - accuracy: 0.6500 - val_loss: 0.5971 - val_accuracy: 0.6000\n",
      "Epoch 16/100\n",
      "3/3 [==============================] - 0s 40ms/step - loss: 0.7815 - accuracy: 0.4125 - val_loss: 0.9581 - val_accuracy: 0.4000\n",
      "Epoch 17/100\n",
      "3/3 [==============================] - 0s 42ms/step - loss: 0.6999 - accuracy: 0.5625 - val_loss: 0.6857 - val_accuracy: 0.4000\n",
      "Epoch 18/100\n",
      "3/3 [==============================] - 0s 42ms/step - loss: 0.5803 - accuracy: 0.6875 - val_loss: 0.6652 - val_accuracy: 0.4500\n",
      "Epoch 19/100\n",
      "3/3 [==============================] - 0s 41ms/step - loss: 0.5629 - accuracy: 0.7625 - val_loss: 0.6828 - val_accuracy: 0.4000\n",
      "Epoch 20/100\n",
      "3/3 [==============================] - 0s 40ms/step - loss: 0.6004 - accuracy: 0.5500 - val_loss: 0.6222 - val_accuracy: 0.7500\n",
      "Epoch 21/100\n",
      "3/3 [==============================] - 0s 43ms/step - loss: 0.6161 - accuracy: 0.6750 - val_loss: 0.6833 - val_accuracy: 0.6000\n",
      "Epoch 22/100\n",
      "3/3 [==============================] - 0s 40ms/step - loss: 0.7142 - accuracy: 0.4875 - val_loss: 0.6284 - val_accuracy: 0.7000\n",
      "Epoch 23/100\n",
      "3/3 [==============================] - 0s 46ms/step - loss: 0.6355 - accuracy: 0.6000 - val_loss: 0.5879 - val_accuracy: 0.6000\n",
      "Epoch 24/100\n",
      "3/3 [==============================] - 0s 51ms/step - loss: 0.5554 - accuracy: 0.7125 - val_loss: 0.5814 - val_accuracy: 0.8000\n",
      "Epoch 25/100\n",
      "3/3 [==============================] - 0s 57ms/step - loss: 0.5381 - accuracy: 0.8375 - val_loss: 0.5631 - val_accuracy: 0.8000\n",
      "Epoch 26/100\n",
      "3/3 [==============================] - 0s 50ms/step - loss: 0.5283 - accuracy: 0.8375 - val_loss: 0.7296 - val_accuracy: 0.6000\n",
      "Epoch 27/100\n",
      "3/3 [==============================] - 0s 48ms/step - loss: 0.6884 - accuracy: 0.5375 - val_loss: 0.6029 - val_accuracy: 0.8000\n",
      "Epoch 28/100\n",
      "3/3 [==============================] - 0s 56ms/step - loss: 0.6480 - accuracy: 0.6250 - val_loss: 0.6704 - val_accuracy: 0.6000\n",
      "Epoch 29/100\n",
      "3/3 [==============================] - 0s 40ms/step - loss: 0.5623 - accuracy: 0.6375 - val_loss: 0.6027 - val_accuracy: 0.8500\n",
      "Epoch 30/100\n",
      "3/3 [==============================] - 0s 41ms/step - loss: 0.5128 - accuracy: 0.8875 - val_loss: 0.7465 - val_accuracy: 0.4000\n",
      "Epoch 31/100\n",
      "3/3 [==============================] - 0s 41ms/step - loss: 0.6688 - accuracy: 0.4750 - val_loss: 0.5782 - val_accuracy: 0.7500\n",
      "Epoch 32/100\n",
      "3/3 [==============================] - 0s 41ms/step - loss: 0.6839 - accuracy: 0.6125 - val_loss: 0.6686 - val_accuracy: 0.4500\n",
      "Epoch 33/100\n",
      "3/3 [==============================] - 0s 50ms/step - loss: 0.5121 - accuracy: 0.8125 - val_loss: 0.5590 - val_accuracy: 0.7000\n",
      "Epoch 34/100\n",
      "3/3 [==============================] - 0s 48ms/step - loss: 0.5461 - accuracy: 0.6875 - val_loss: 0.6924 - val_accuracy: 0.4000\n",
      "Epoch 35/100\n",
      "3/3 [==============================] - 0s 42ms/step - loss: 0.4754 - accuracy: 0.8000 - val_loss: 0.5945 - val_accuracy: 0.6000\n",
      "Epoch 36/100\n",
      "3/3 [==============================] - 0s 37ms/step - loss: 0.5239 - accuracy: 0.7125 - val_loss: 0.6424 - val_accuracy: 0.5000\n",
      "Epoch 37/100\n",
      "3/3 [==============================] - 0s 40ms/step - loss: 0.4730 - accuracy: 0.8375 - val_loss: 0.5243 - val_accuracy: 0.7000\n",
      "Epoch 38/100\n",
      "3/3 [==============================] - 0s 41ms/step - loss: 0.4907 - accuracy: 0.7500 - val_loss: 1.2220 - val_accuracy: 0.4000\n",
      "Epoch 39/100\n",
      "3/3 [==============================] - 0s 42ms/step - loss: 0.5816 - accuracy: 0.7000 - val_loss: 0.5167 - val_accuracy: 0.7500\n",
      "Epoch 40/100\n",
      "3/3 [==============================] - 0s 41ms/step - loss: 0.5502 - accuracy: 0.6250 - val_loss: 0.5393 - val_accuracy: 0.8000\n",
      "Epoch 41/100\n",
      "3/3 [==============================] - 0s 41ms/step - loss: 0.7107 - accuracy: 0.6625 - val_loss: 0.5361 - val_accuracy: 0.7000\n",
      "Epoch 42/100\n",
      "3/3 [==============================] - 0s 41ms/step - loss: 0.5704 - accuracy: 0.5875 - val_loss: 0.5511 - val_accuracy: 0.8500\n",
      "Epoch 43/100\n",
      "3/3 [==============================] - 0s 41ms/step - loss: 0.4637 - accuracy: 0.9625 - val_loss: 0.5276 - val_accuracy: 0.7500\n",
      "Epoch 44/100\n",
      "3/3 [==============================] - 0s 42ms/step - loss: 0.4417 - accuracy: 0.9500 - val_loss: 0.5205 - val_accuracy: 0.7500\n",
      "Epoch 45/100\n",
      "3/3 [==============================] - 0s 41ms/step - loss: 0.4277 - accuracy: 0.9500 - val_loss: 0.5306 - val_accuracy: 0.7000\n",
      "Epoch 46/100\n",
      "3/3 [==============================] - 0s 39ms/step - loss: 0.6747 - accuracy: 0.5500 - val_loss: 0.9697 - val_accuracy: 0.4000\n",
      "Epoch 47/100\n",
      "3/3 [==============================] - 0s 44ms/step - loss: 0.6861 - accuracy: 0.4875 - val_loss: 0.5459 - val_accuracy: 0.7000\n",
      "Epoch 48/100\n",
      "3/3 [==============================] - 0s 45ms/step - loss: 0.4810 - accuracy: 0.7750 - val_loss: 0.7043 - val_accuracy: 0.4500\n",
      "Epoch 49/100\n",
      "3/3 [==============================] - 0s 47ms/step - loss: 0.7548 - accuracy: 0.4875 - val_loss: 0.6344 - val_accuracy: 0.6000\n",
      "Epoch 50/100\n",
      "3/3 [==============================] - 0s 48ms/step - loss: 0.5706 - accuracy: 0.7500 - val_loss: 0.5609 - val_accuracy: 0.6000\n",
      "Epoch 51/100\n",
      "3/3 [==============================] - 0s 49ms/step - loss: 0.5914 - accuracy: 0.5750 - val_loss: 0.5099 - val_accuracy: 0.8000\n",
      "Epoch 52/100\n",
      "3/3 [==============================] - 0s 46ms/step - loss: 0.4561 - accuracy: 0.8750 - val_loss: 0.5626 - val_accuracy: 0.7500\n",
      "Epoch 53/100\n",
      "3/3 [==============================] - 0s 46ms/step - loss: 0.4458 - accuracy: 0.8375 - val_loss: 0.4935 - val_accuracy: 0.7500\n",
      "Epoch 54/100\n",
      "3/3 [==============================] - 0s 47ms/step - loss: 0.4073 - accuracy: 0.8875 - val_loss: 0.5113 - val_accuracy: 0.8500\n",
      "Epoch 55/100\n",
      "3/3 [==============================] - 0s 47ms/step - loss: 0.4040 - accuracy: 0.9125 - val_loss: 0.9395 - val_accuracy: 0.4000\n",
      "Epoch 56/100\n",
      "3/3 [==============================] - 0s 46ms/step - loss: 0.8716 - accuracy: 0.4500 - val_loss: 0.6644 - val_accuracy: 0.6000\n",
      "Epoch 57/100\n",
      "3/3 [==============================] - 0s 45ms/step - loss: 0.7441 - accuracy: 0.4125 - val_loss: 0.8498 - val_accuracy: 0.4000\n",
      "Epoch 58/100\n",
      "3/3 [==============================] - 0s 47ms/step - loss: 0.5585 - accuracy: 0.6125 - val_loss: 0.4994 - val_accuracy: 0.8000\n",
      "Epoch 59/100\n",
      "3/3 [==============================] - 0s 48ms/step - loss: 0.6812 - accuracy: 0.5750 - val_loss: 0.5957 - val_accuracy: 0.7000\n",
      "Epoch 60/100\n",
      "3/3 [==============================] - 0s 48ms/step - loss: 0.4564 - accuracy: 0.8750 - val_loss: 0.6001 - val_accuracy: 0.7000\n",
      "Epoch 61/100\n",
      "3/3 [==============================] - 0s 63ms/step - loss: 0.4340 - accuracy: 0.8625 - val_loss: 0.4794 - val_accuracy: 0.8000\n",
      "Epoch 62/100\n",
      "3/3 [==============================] - 0s 47ms/step - loss: 0.5056 - accuracy: 0.7250 - val_loss: 1.1022 - val_accuracy: 0.4000\n",
      "Epoch 63/100\n",
      "3/3 [==============================] - 0s 45ms/step - loss: 0.5510 - accuracy: 0.6875 - val_loss: 0.4751 - val_accuracy: 0.8000\n",
      "Epoch 64/100\n",
      "3/3 [==============================] - 0s 47ms/step - loss: 0.4918 - accuracy: 0.7250 - val_loss: 0.7626 - val_accuracy: 0.4000\n",
      "Epoch 65/100\n",
      "3/3 [==============================] - 0s 46ms/step - loss: 0.5169 - accuracy: 0.6500 - val_loss: 0.4742 - val_accuracy: 0.8000\n",
      "Epoch 66/100\n",
      "3/3 [==============================] - 0s 48ms/step - loss: 0.3983 - accuracy: 0.8625 - val_loss: 0.5117 - val_accuracy: 0.7000\n",
      "Epoch 67/100\n",
      "3/3 [==============================] - 0s 47ms/step - loss: 0.5546 - accuracy: 0.6000 - val_loss: 0.8874 - val_accuracy: 0.4000\n",
      "Epoch 68/100\n",
      "3/3 [==============================] - 0s 45ms/step - loss: 0.9118 - accuracy: 0.3875 - val_loss: 0.5297 - val_accuracy: 0.7000\n",
      "Epoch 69/100\n",
      "3/3 [==============================] - 0s 46ms/step - loss: 0.4267 - accuracy: 0.9375 - val_loss: 0.4973 - val_accuracy: 0.7500\n",
      "Epoch 70/100\n",
      "3/3 [==============================] - 0s 46ms/step - loss: 0.4205 - accuracy: 0.8875 - val_loss: 0.6664 - val_accuracy: 0.6000\n",
      "Epoch 71/100\n",
      "3/3 [==============================] - 0s 47ms/step - loss: 0.4960 - accuracy: 0.7500 - val_loss: 0.5689 - val_accuracy: 0.6500\n",
      "Epoch 72/100\n",
      "3/3 [==============================] - 0s 46ms/step - loss: 0.5895 - accuracy: 0.5625 - val_loss: 0.5029 - val_accuracy: 0.8500\n",
      "Epoch 73/100\n",
      "3/3 [==============================] - 0s 47ms/step - loss: 0.4110 - accuracy: 0.9250 - val_loss: 0.5669 - val_accuracy: 0.6500\n",
      "Epoch 74/100\n",
      "3/3 [==============================] - 0s 47ms/step - loss: 0.6300 - accuracy: 0.5500 - val_loss: 0.6499 - val_accuracy: 0.5000\n",
      "Epoch 75/100\n",
      "3/3 [==============================] - 0s 46ms/step - loss: 0.3948 - accuracy: 0.8750 - val_loss: 0.4481 - val_accuracy: 0.8500\n",
      "Epoch 76/100\n",
      "3/3 [==============================] - 0s 46ms/step - loss: 0.3685 - accuracy: 0.9250 - val_loss: 0.8478 - val_accuracy: 0.4000\n",
      "Epoch 77/100\n",
      "3/3 [==============================] - 0s 45ms/step - loss: 0.6539 - accuracy: 0.5625 - val_loss: 0.4934 - val_accuracy: 0.8500\n",
      "Epoch 78/100\n",
      "3/3 [==============================] - 0s 46ms/step - loss: 0.3791 - accuracy: 0.9375 - val_loss: 0.9456 - val_accuracy: 0.4000\n",
      "Epoch 79/100\n",
      "3/3 [==============================] - 0s 47ms/step - loss: 0.5691 - accuracy: 0.6125 - val_loss: 0.5607 - val_accuracy: 0.6500\n",
      "Epoch 80/100\n",
      "3/3 [==============================] - 0s 46ms/step - loss: 0.5860 - accuracy: 0.5500 - val_loss: 0.5737 - val_accuracy: 0.7000\n",
      "Epoch 81/100\n",
      "3/3 [==============================] - 0s 47ms/step - loss: 0.4053 - accuracy: 0.8125 - val_loss: 0.4615 - val_accuracy: 0.8000\n",
      "Epoch 82/100\n",
      "3/3 [==============================] - 0s 48ms/step - loss: 0.4013 - accuracy: 0.8125 - val_loss: 0.6025 - val_accuracy: 0.6500\n",
      "Epoch 83/100\n",
      "3/3 [==============================] - 0s 47ms/step - loss: 0.4665 - accuracy: 0.6875 - val_loss: 0.4567 - val_accuracy: 0.8000\n",
      "Epoch 84/100\n",
      "3/3 [==============================] - 0s 48ms/step - loss: 0.4098 - accuracy: 0.8000 - val_loss: 0.9566 - val_accuracy: 0.4000\n",
      "Epoch 85/100\n",
      "3/3 [==============================] - 0s 46ms/step - loss: 0.4692 - accuracy: 0.7375 - val_loss: 0.4313 - val_accuracy: 0.8500\n",
      "Epoch 86/100\n",
      "3/3 [==============================] - 0s 43ms/step - loss: 0.3496 - accuracy: 0.8500 - val_loss: 0.4220 - val_accuracy: 0.9000\n",
      "Epoch 87/100\n",
      "3/3 [==============================] - 0s 43ms/step - loss: 0.3236 - accuracy: 0.9500 - val_loss: 0.9238 - val_accuracy: 0.4000\n",
      "Epoch 88/100\n",
      "3/3 [==============================] - 0s 48ms/step - loss: 0.6603 - accuracy: 0.5625 - val_loss: 0.4647 - val_accuracy: 0.7500\n",
      "Epoch 89/100\n",
      "3/3 [==============================] - 0s 49ms/step - loss: 0.6315 - accuracy: 0.6875 - val_loss: 1.4645 - val_accuracy: 0.4000\n",
      "Epoch 90/100\n",
      "3/3 [==============================] - 0s 46ms/step - loss: 0.8043 - accuracy: 0.5875 - val_loss: 0.4997 - val_accuracy: 0.8000\n",
      "Epoch 91/100\n",
      "3/3 [==============================] - 0s 47ms/step - loss: 0.4225 - accuracy: 0.8375 - val_loss: 0.4598 - val_accuracy: 0.8000\n",
      "Epoch 92/100\n",
      "3/3 [==============================] - 0s 47ms/step - loss: 0.4047 - accuracy: 0.8375 - val_loss: 0.8080 - val_accuracy: 0.4000\n",
      "Epoch 93/100\n",
      "3/3 [==============================] - 0s 46ms/step - loss: 0.5159 - accuracy: 0.6125 - val_loss: 0.4711 - val_accuracy: 0.7500\n",
      "Epoch 94/100\n",
      "3/3 [==============================] - 0s 47ms/step - loss: 0.4829 - accuracy: 0.7000 - val_loss: 0.9808 - val_accuracy: 0.4000\n",
      "Epoch 95/100\n",
      "3/3 [==============================] - 0s 49ms/step - loss: 0.6016 - accuracy: 0.6125 - val_loss: 0.4943 - val_accuracy: 0.7000\n",
      "Epoch 96/100\n",
      "3/3 [==============================] - 0s 47ms/step - loss: 0.3699 - accuracy: 0.8625 - val_loss: 0.4564 - val_accuracy: 0.7500\n",
      "Epoch 97/100\n",
      "3/3 [==============================] - 0s 47ms/step - loss: 0.4119 - accuracy: 0.7875 - val_loss: 0.6417 - val_accuracy: 0.5500\n",
      "Epoch 98/100\n",
      "3/3 [==============================] - 0s 46ms/step - loss: 0.3497 - accuracy: 0.8625 - val_loss: 0.4286 - val_accuracy: 0.8000\n",
      "Epoch 99/100\n",
      "3/3 [==============================] - 0s 52ms/step - loss: 0.2998 - accuracy: 0.9500 - val_loss: 0.7986 - val_accuracy: 0.4500\n",
      "Epoch 100/100\n",
      "3/3 [==============================] - 0s 46ms/step - loss: 0.5429 - accuracy: 0.6500 - val_loss: 0.7824 - val_accuracy: 0.6000\n"
     ]
    }
   ],
   "source": [
    "H = model.fit(x_train, y_train, validation_data=(x_test, y_test), \n",
    "          epochs=max_epochs, batch_size=32)"
   ]
  },
  {
   "cell_type": "code",
   "execution_count": 30,
   "metadata": {},
   "outputs": [
    {
     "data": {
      "image/png": "[encoded data removed]",
      "text/plain": [
       "<Figure size 432x288 with 1 Axes>"
      ]
     },
     "metadata": {},
     "output_type": "display_data"
    }
   ],
   "source": [
    "N = np.arange(0, max_epochs)\n",
    "plt.style.use(\"ggplot\")\n",
    "plt.figure()\n",
    "plt.plot(N, H.history[\"loss\"], label=\"train_loss\")\n",
    "plt.plot(N, H.history[\"val_loss\"], label=\"val_loss\")\n",
    "#plt.plot(N, H.history[\"accuracy\"], label=\"train_acc\")\n",
    "#plt.plot(N, H.history[\"val_accuracy\"], label=\"val_acc\")\n",
    "plt.xlabel(\"Epoch #\")\n",
    "plt.legend()\n",
    "plt.show()"
   ]
  },
  {
   "cell_type": "markdown",
   "metadata": {},
   "source": [
    "<h1>Evaluasi</h1>"
   ]
  },
  {
   "cell_type": "code",
   "execution_count": 31,
   "metadata": {},
   "outputs": [
    {
     "name": "stdout",
     "output_type": "stream",
     "text": [
      "              precision    recall  f1-score   support\n",
      "\n",
      "  jeruknipis       0.00      0.00      0.00         8\n",
      "     Seledri       0.60      1.00      0.75        12\n",
      "\n",
      "    accuracy                           0.60        20\n",
      "   macro avg       0.30      0.50      0.37        20\n",
      "weighted avg       0.36      0.60      0.45        20\n",
      "\n"
     ]
    },
    {
     "name": "stderr",
     "output_type": "stream",
     "text": [
      "C:\\Users\\ASUS\\AppData\\Local\\Temp/ipykernel_7372/2175272745.py:2: DeprecationWarning: `np.int` is a deprecated alias for the builtin `int`. To silence this warning, use `int` by itself. Doing this will not modify any behavior and is safe. When replacing `np.int`, you may wish to use e.g. `np.int64` or `np.int32` to specify the precision. If you wish to review your current use, check the release note link for additional information.\n",
      "Deprecated in NumPy 1.20; for more details and guidance: https://numpy.org/devdocs/release/1.20.0-notes.html#deprecations\n",
      "  target = (predictions > 0.5).astype(np.int)\n",
      "C:\\Users\\ASUS\\AppData\\Local\\Programs\\Python\\Python39\\lib\\site-packages\\sklearn\\metrics\\_classification.py:1308: UndefinedMetricWarning: Precision and F-score are ill-defined and being set to 0.0 in labels with no predicted samples. Use `zero_division` parameter to control this behavior.\n",
      "  _warn_prf(average, modifier, msg_start, len(result))\n",
      "C:\\Users\\ASUS\\AppData\\Local\\Programs\\Python\\Python39\\lib\\site-packages\\sklearn\\metrics\\_classification.py:1308: UndefinedMetricWarning: Precision and F-score are ill-defined and being set to 0.0 in labels with no predicted samples. Use `zero_division` parameter to control this behavior.\n",
      "  _warn_prf(average, modifier, msg_start, len(result))\n",
      "C:\\Users\\ASUS\\AppData\\Local\\Programs\\Python\\Python39\\lib\\site-packages\\sklearn\\metrics\\_classification.py:1308: UndefinedMetricWarning: Precision and F-score are ill-defined and being set to 0.0 in labels with no predicted samples. Use `zero_division` parameter to control this behavior.\n",
      "  _warn_prf(average, modifier, msg_start, len(result))\n"
     ]
    }
   ],
   "source": [
    "predictions = model.predict(x_test, batch_size=32)\n",
    "target = (predictions > 0.5).astype(np.int)\n",
    "print(classification_report(y_test, target, target_names=label_list))"
   ]
  },
  {
   "cell_type": "code",
   "execution_count": 32,
   "metadata": {},
   "outputs": [
    {
     "name": "stdout",
     "output_type": "stream",
     "text": [
      "[[0.4009144]]\n"
     ]
    }
   ],
   "source": [
    "# uji model menggunakan image lain\n",
    "queryPath = imagePaths+'tes.jpg'\n",
    "query = cv2.imread(queryPath)\n",
    "output = query.copy()\n",
    "query = cv2.resize(query, (32, 32))\n",
    "q = []\n",
    "q.append(query)\n",
    "q = np.array(q, dtype='float') / 255.0\n",
    "\n",
    "q_pred = model.predict(q)\n",
    "print(q_pred)"
   ]
  },
  {
   "cell_type": "code",
   "execution_count": 33,
   "metadata": {},
   "outputs": [],
   "source": [
    "if q_pred<=0.5 :\n",
    "    target = \"Jeruk Nipis\"\n",
    "else :\n",
    "    target = \"Seledri\"\n",
    "text = \"{}\".format(target)\n",
    "cv2.putText(output, text, (10, 30), cv2.FONT_HERSHEY_SIMPLEX, 0.7, (0, 0, 255), 2)\n",
    " \n",
    "# menampilkan output image\n",
    "cv2.imshow('Output', output)\n",
    "cv2.waitKey() # image tidak akan diclose,sebelum user menekan sembarang tombol\n",
    "cv2.destroyWindow('Output') # image akan diclose"
   ]
  }
 ],
 "metadata": {
  "interpreter": {
   "hash": "8da01e5a71448ea74f54d88afa8911010d1d12e23bc7e103d40d5def4a09152c"
  },
  "kernelspec": {
   "display_name": "Python 3.9.5 64-bit",
   "language": "python",
   "name": "python3"
  },
  "language_info": {
   "codemirror_mode": {
    "name": "ipython",
    "version": 3
   },
   "file_extension": ".py",
   "mimetype": "text/x-python",
   "name": "python",
   "nbconvert_exporter": "python",
   "pygments_lexer": "ipython3",
   "version": "3.9.5"
  },
  "orig_nbformat": 4
 },
 "nbformat": 4,
 "nbformat_minor": 2
}
