{
 "cells": [
  {
   "cell_type": "markdown",
   "metadata": {},
   "source": [
    "<h1>Tugas Pertemuan 5</h1>\n",
    "<h1>Mencoba ANN</h1>"
   ]
  },
  {
   "cell_type": "code",
   "execution_count": 1,
   "metadata": {},
   "outputs": [],
   "source": [
    "from sklearn.model_selection import train_test_split\n",
    "from sklearn.preprocessing import LabelEncoder\n",
    "from sklearn.metrics import classification_report\n",
    "from tensorflow.keras.models import Sequential\n",
    "from tensorflow.keras.layers import Flatten, Dense\n",
    "from tensorflow.keras.optimizers import SGD\n",
    "import numpy as np\n",
    "import cv2\n",
    "import glob\n",
    "import matplotlib.pyplot as plt"
   ]
  },
  {
   "cell_type": "markdown",
   "metadata": {},
   "source": [
    "<h1> Load Data </h1> "
   ]
  },
  {
   "cell_type": "code",
   "execution_count": 2,
   "metadata": {},
   "outputs": [],
   "source": [
    "imagePaths = 'Dataset\\\\'\n",
    "label_list = ['jeruknipis', 'Seledri']\n",
    "data = []\n",
    "labels = []"
   ]
  },
  {
   "cell_type": "code",
   "execution_count": 3,
   "metadata": {},
   "outputs": [],
   "source": [
    "for label in label_list:\n",
    "    for imagePath in glob.glob(imagePaths+label+'\\\\*.jpg'):\n",
    "        #print(imagePath)\n",
    "        image = cv2.imread(imagePath)\n",
    "        image = cv2.resize(image, (32, 32))\n",
    "        data.append(image)\n",
    "        labels.append(label)"
   ]
  },
  {
   "cell_type": "code",
   "execution_count": 4,
   "metadata": {},
   "outputs": [
    {
     "data": {
      "text/plain": [
       "(100, 32, 32, 3)"
      ]
     },
     "execution_count": 4,
     "metadata": {},
     "output_type": "execute_result"
    }
   ],
   "source": [
    "np.array(data).shape"
   ]
  },
  {
   "cell_type": "markdown",
   "metadata": {},
   "source": [
    "<h1>Proses Data</h1>"
   ]
  },
  {
   "cell_type": "code",
   "execution_count": 5,
   "metadata": {},
   "outputs": [],
   "source": [
    "# ubah type data dari list menjadi array\n",
    "# ubah nilai dari tiap pixel menjadi range [0..1]\n",
    "data = np.array(data, dtype='float') / 255.0\n",
    "labels = np.array(labels)"
   ]
  },
  {
   "cell_type": "code",
   "execution_count": 6,
   "metadata": {},
   "outputs": [
    {
     "name": "stdout",
     "output_type": "stream",
     "text": [
      "['jeruknipis' 'jeruknipis' 'jeruknipis' 'jeruknipis' 'jeruknipis'\n",
      " 'jeruknipis' 'jeruknipis' 'jeruknipis' 'jeruknipis' 'jeruknipis'\n",
      " 'jeruknipis' 'jeruknipis' 'jeruknipis' 'jeruknipis' 'jeruknipis'\n",
      " 'jeruknipis' 'jeruknipis' 'jeruknipis' 'jeruknipis' 'jeruknipis'\n",
      " 'jeruknipis' 'jeruknipis' 'jeruknipis' 'jeruknipis' 'jeruknipis'\n",
      " 'jeruknipis' 'jeruknipis' 'jeruknipis' 'jeruknipis' 'jeruknipis'\n",
      " 'jeruknipis' 'jeruknipis' 'jeruknipis' 'jeruknipis' 'jeruknipis'\n",
      " 'jeruknipis' 'jeruknipis' 'jeruknipis' 'jeruknipis' 'jeruknipis'\n",
      " 'jeruknipis' 'jeruknipis' 'jeruknipis' 'jeruknipis' 'jeruknipis'\n",
      " 'jeruknipis' 'jeruknipis' 'jeruknipis' 'jeruknipis' 'jeruknipis'\n",
      " 'Seledri' 'Seledri' 'Seledri' 'Seledri' 'Seledri' 'Seledri' 'Seledri'\n",
      " 'Seledri' 'Seledri' 'Seledri' 'Seledri' 'Seledri' 'Seledri' 'Seledri'\n",
      " 'Seledri' 'Seledri' 'Seledri' 'Seledri' 'Seledri' 'Seledri' 'Seledri'\n",
      " 'Seledri' 'Seledri' 'Seledri' 'Seledri' 'Seledri' 'Seledri' 'Seledri'\n",
      " 'Seledri' 'Seledri' 'Seledri' 'Seledri' 'Seledri' 'Seledri' 'Seledri'\n",
      " 'Seledri' 'Seledri' 'Seledri' 'Seledri' 'Seledri' 'Seledri' 'Seledri'\n",
      " 'Seledri' 'Seledri' 'Seledri' 'Seledri' 'Seledri' 'Seledri' 'Seledri'\n",
      " 'Seledri']\n"
     ]
    }
   ],
   "source": [
    "print(labels)"
   ]
  },
  {
   "cell_type": "code",
   "execution_count": 7,
   "metadata": {},
   "outputs": [
    {
     "name": "stdout",
     "output_type": "stream",
     "text": [
      "[1 1 1 1 1 1 1 1 1 1 1 1 1 1 1 1 1 1 1 1 1 1 1 1 1 1 1 1 1 1 1 1 1 1 1 1 1\n",
      " 1 1 1 1 1 1 1 1 1 1 1 1 1 0 0 0 0 0 0 0 0 0 0 0 0 0 0 0 0 0 0 0 0 0 0 0 0\n",
      " 0 0 0 0 0 0 0 0 0 0 0 0 0 0 0 0 0 0 0 0 0 0 0 0 0 0]\n"
     ]
    }
   ],
   "source": [
    "lb = LabelEncoder()\n",
    "labels = lb.fit_transform(labels)\n",
    "print(labels)"
   ]
  },
  {
   "cell_type": "markdown",
   "metadata": {},
   "source": [
    "<h1> Split Data </h1>"
   ]
  },
  {
   "cell_type": "code",
   "execution_count": 8,
   "metadata": {},
   "outputs": [],
   "source": [
    "x_train, x_test, y_train, y_test = train_test_split(data, labels, test_size=0.2, random_state=42)"
   ]
  },
  {
   "cell_type": "code",
   "execution_count": 9,
   "metadata": {},
   "outputs": [
    {
     "name": "stdout",
     "output_type": "stream",
     "text": [
      "Ukuran data train = (80, 32, 32, 3)\n",
      "Ukuran data test = (20, 32, 32, 3)\n"
     ]
    }
   ],
   "source": [
    "print('Ukuran data train =', x_train.shape)\n",
    "print('Ukuran data test =', x_test.shape)"
   ]
  },
  {
   "cell_type": "markdown",
   "metadata": {},
   "source": [
    "<h1>Build ANN</h1>"
   ]
  },
  {
   "cell_type": "code",
   "execution_count": 10,
   "metadata": {},
   "outputs": [],
   "source": [
    "model = Sequential()\n",
    "model.add(Flatten(input_shape=(32,32,3)))\n",
    "model.add(Dense(1024, activation=\"relu\"))\n",
    "model.add(Dense(1024, activation=\"relu\"))\n",
    "model.add(Dense(1, activation=\"sigmoid\"))"
   ]
  },
  {
   "cell_type": "code",
   "execution_count": 11,
   "metadata": {},
   "outputs": [
    {
     "name": "stdout",
     "output_type": "stream",
     "text": [
      "Model: \"sequential\"\n",
      "_________________________________________________________________\n",
      " Layer (type)                Output Shape              Param #   \n",
      "=================================================================\n",
      " flatten (Flatten)           (None, 3072)              0         \n",
      "                                                                 \n",
      " dense (Dense)               (None, 1024)              3146752   \n",
      "                                                                 \n",
      " dense_1 (Dense)             (None, 1024)              1049600   \n",
      "                                                                 \n",
      " dense_2 (Dense)             (None, 1)                 1025      \n",
      "                                                                 \n",
      "=================================================================\n",
      "Total params: 4,197,377\n",
      "Trainable params: 4,197,377\n",
      "Non-trainable params: 0\n",
      "_________________________________________________________________\n"
     ]
    }
   ],
   "source": [
    "model.summary()"
   ]
  },
  {
   "cell_type": "code",
   "execution_count": 12,
   "metadata": {},
   "outputs": [],
   "source": [
    "lr = 0.01\n",
    "max_epochs = 100\n",
    "opt_funct = SGD(learning_rate=lr)"
   ]
  },
  {
   "cell_type": "code",
   "execution_count": 13,
   "metadata": {},
   "outputs": [],
   "source": [
    "model.compile(loss = 'binary_crossentropy', \n",
    "              optimizer = opt_funct, \n",
    "              metrics = ['accuracy'])"
   ]
  },
  {
   "cell_type": "markdown",
   "metadata": {},
   "source": [
    "<h1> Train Model </h1>"
   ]
  },
  {
   "cell_type": "code",
   "execution_count": 14,
   "metadata": {},
   "outputs": [
    {
     "name": "stdout",
     "output_type": "stream",
     "text": [
      "Epoch 1/100\n",
      "3/3 [==============================] - 1s 175ms/step - loss: 1.5173 - accuracy: 0.4500 - val_loss: 0.8143 - val_accuracy: 0.4000\n",
      "Epoch 2/100\n",
      "3/3 [==============================] - 0s 38ms/step - loss: 0.7057 - accuracy: 0.7000 - val_loss: 1.5804 - val_accuracy: 0.4000\n",
      "Epoch 3/100\n",
      "3/3 [==============================] - 0s 40ms/step - loss: 1.4980 - accuracy: 0.4500 - val_loss: 0.6661 - val_accuracy: 0.8000\n",
      "Epoch 4/100\n",
      "3/3 [==============================] - 0s 46ms/step - loss: 0.6519 - accuracy: 0.7125 - val_loss: 1.0792 - val_accuracy: 0.4000\n",
      "Epoch 5/100\n",
      "3/3 [==============================] - 0s 47ms/step - loss: 0.7076 - accuracy: 0.5250 - val_loss: 0.6362 - val_accuracy: 0.6000\n",
      "Epoch 6/100\n",
      "3/3 [==============================] - 0s 46ms/step - loss: 0.6059 - accuracy: 0.6250 - val_loss: 1.1830 - val_accuracy: 0.4000\n",
      "Epoch 7/100\n",
      "3/3 [==============================] - 0s 45ms/step - loss: 0.9349 - accuracy: 0.5000 - val_loss: 0.7646 - val_accuracy: 0.4000\n",
      "Epoch 8/100\n",
      "3/3 [==============================] - 0s 45ms/step - loss: 0.6372 - accuracy: 0.5750 - val_loss: 0.7299 - val_accuracy: 0.4000\n",
      "Epoch 9/100\n",
      "3/3 [==============================] - 0s 47ms/step - loss: 0.6308 - accuracy: 0.5250 - val_loss: 0.7405 - val_accuracy: 0.4000\n",
      "Epoch 10/100\n",
      "3/3 [==============================] - 0s 47ms/step - loss: 0.6074 - accuracy: 0.6375 - val_loss: 0.6641 - val_accuracy: 0.5000\n",
      "Epoch 11/100\n",
      "3/3 [==============================] - 0s 49ms/step - loss: 0.6113 - accuracy: 0.7125 - val_loss: 0.8892 - val_accuracy: 0.4000\n",
      "Epoch 12/100\n",
      "3/3 [==============================] - 0s 60ms/step - loss: 0.7355 - accuracy: 0.4750 - val_loss: 0.6944 - val_accuracy: 0.6000\n",
      "Epoch 13/100\n",
      "3/3 [==============================] - 0s 59ms/step - loss: 0.7115 - accuracy: 0.4875 - val_loss: 0.8657 - val_accuracy: 0.4000\n",
      "Epoch 14/100\n",
      "3/3 [==============================] - 0s 49ms/step - loss: 0.6629 - accuracy: 0.5500 - val_loss: 0.6828 - val_accuracy: 0.4000\n",
      "Epoch 15/100\n",
      "3/3 [==============================] - 0s 50ms/step - loss: 0.5883 - accuracy: 0.7125 - val_loss: 0.9865 - val_accuracy: 0.4000\n",
      "Epoch 16/100\n",
      "3/3 [==============================] - 0s 50ms/step - loss: 0.8557 - accuracy: 0.4750 - val_loss: 0.7433 - val_accuracy: 0.4000\n",
      "Epoch 17/100\n",
      "3/3 [==============================] - 0s 46ms/step - loss: 0.5946 - accuracy: 0.6500 - val_loss: 0.6235 - val_accuracy: 0.8500\n",
      "Epoch 18/100\n",
      "3/3 [==============================] - 0s 48ms/step - loss: 0.5629 - accuracy: 0.7875 - val_loss: 0.5749 - val_accuracy: 0.7000\n",
      "Epoch 19/100\n",
      "3/3 [==============================] - 0s 49ms/step - loss: 0.5528 - accuracy: 0.7250 - val_loss: 0.6015 - val_accuracy: 0.9000\n",
      "Epoch 20/100\n",
      "3/3 [==============================] - 0s 49ms/step - loss: 0.5563 - accuracy: 0.7750 - val_loss: 0.9021 - val_accuracy: 0.4000\n",
      "Epoch 21/100\n",
      "3/3 [==============================] - 0s 50ms/step - loss: 0.8056 - accuracy: 0.4500 - val_loss: 0.6061 - val_accuracy: 0.6000\n",
      "Epoch 22/100\n",
      "3/3 [==============================] - 0s 51ms/step - loss: 0.6045 - accuracy: 0.5625 - val_loss: 0.7442 - val_accuracy: 0.6000\n",
      "Epoch 23/100\n",
      "3/3 [==============================] - 0s 50ms/step - loss: 0.7436 - accuracy: 0.4625 - val_loss: 0.8097 - val_accuracy: 0.4000\n",
      "Epoch 24/100\n",
      "3/3 [==============================] - 0s 46ms/step - loss: 0.5974 - accuracy: 0.5500 - val_loss: 0.5789 - val_accuracy: 0.6000\n",
      "Epoch 25/100\n",
      "3/3 [==============================] - 0s 49ms/step - loss: 0.5647 - accuracy: 0.7500 - val_loss: 0.5980 - val_accuracy: 0.8500\n",
      "Epoch 26/100\n",
      "3/3 [==============================] - 0s 53ms/step - loss: 0.5228 - accuracy: 0.9125 - val_loss: 0.5587 - val_accuracy: 0.8500\n",
      "Epoch 27/100\n",
      "3/3 [==============================] - 0s 50ms/step - loss: 0.5590 - accuracy: 0.8250 - val_loss: 1.4601 - val_accuracy: 0.4000\n",
      "Epoch 28/100\n",
      "3/3 [==============================] - 0s 65ms/step - loss: 0.9445 - accuracy: 0.4500 - val_loss: 0.5922 - val_accuracy: 0.6000\n",
      "Epoch 29/100\n",
      "3/3 [==============================] - 0s 63ms/step - loss: 0.6372 - accuracy: 0.5125 - val_loss: 0.6954 - val_accuracy: 0.4000\n",
      "Epoch 30/100\n",
      "3/3 [==============================] - 0s 67ms/step - loss: 0.5855 - accuracy: 0.5750 - val_loss: 0.6898 - val_accuracy: 0.4000\n",
      "Epoch 31/100\n",
      "3/3 [==============================] - 0s 53ms/step - loss: 0.5119 - accuracy: 0.8500 - val_loss: 0.5402 - val_accuracy: 0.8000\n",
      "Epoch 32/100\n",
      "3/3 [==============================] - 0s 44ms/step - loss: 0.4951 - accuracy: 0.9500 - val_loss: 0.6598 - val_accuracy: 0.4500\n",
      "Epoch 33/100\n",
      "3/3 [==============================] - 0s 47ms/step - loss: 0.5914 - accuracy: 0.6375 - val_loss: 0.5542 - val_accuracy: 0.8000\n",
      "Epoch 34/100\n",
      "3/3 [==============================] - 0s 43ms/step - loss: 0.5064 - accuracy: 0.8750 - val_loss: 0.9052 - val_accuracy: 0.4000\n",
      "Epoch 35/100\n",
      "3/3 [==============================] - 0s 64ms/step - loss: 0.8135 - accuracy: 0.4125 - val_loss: 0.7840 - val_accuracy: 0.6000\n",
      "Epoch 36/100\n",
      "3/3 [==============================] - 0s 66ms/step - loss: 0.7265 - accuracy: 0.6875 - val_loss: 0.6069 - val_accuracy: 0.7500\n",
      "Epoch 37/100\n",
      "3/3 [==============================] - 0s 123ms/step - loss: 0.5203 - accuracy: 0.8625 - val_loss: 0.7479 - val_accuracy: 0.4000\n",
      "Epoch 38/100\n",
      "3/3 [==============================] - 0s 50ms/step - loss: 0.6294 - accuracy: 0.5250 - val_loss: 0.8241 - val_accuracy: 0.6000\n",
      "Epoch 39/100\n",
      "3/3 [==============================] - 0s 47ms/step - loss: 0.7425 - accuracy: 0.6625 - val_loss: 0.7398 - val_accuracy: 0.4000\n",
      "Epoch 40/100\n",
      "3/3 [==============================] - 0s 47ms/step - loss: 0.5277 - accuracy: 0.7500 - val_loss: 0.5541 - val_accuracy: 0.7000\n",
      "Epoch 41/100\n",
      "3/3 [==============================] - 0s 48ms/step - loss: 0.4938 - accuracy: 0.8625 - val_loss: 0.6745 - val_accuracy: 0.4000\n",
      "Epoch 42/100\n",
      "3/3 [==============================] - 0s 48ms/step - loss: 0.4838 - accuracy: 0.7750 - val_loss: 0.5807 - val_accuracy: 0.6000\n",
      "Epoch 43/100\n",
      "3/3 [==============================] - 0s 47ms/step - loss: 0.6273 - accuracy: 0.5500 - val_loss: 0.5212 - val_accuracy: 0.8000\n",
      "Epoch 44/100\n",
      "3/3 [==============================] - 0s 54ms/step - loss: 0.4699 - accuracy: 0.8875 - val_loss: 0.5787 - val_accuracy: 0.7500\n",
      "Epoch 45/100\n",
      "3/3 [==============================] - 0s 63ms/step - loss: 0.4798 - accuracy: 0.8125 - val_loss: 0.5955 - val_accuracy: 0.6000\n",
      "Epoch 46/100\n",
      "3/3 [==============================] - 0s 79ms/step - loss: 0.7585 - accuracy: 0.4875 - val_loss: 0.8239 - val_accuracy: 0.4000\n",
      "Epoch 47/100\n",
      "3/3 [==============================] - 0s 40ms/step - loss: 0.5165 - accuracy: 0.7875 - val_loss: 0.7245 - val_accuracy: 0.6000\n",
      "Epoch 48/100\n",
      "3/3 [==============================] - 0s 44ms/step - loss: 0.5426 - accuracy: 0.7375 - val_loss: 0.5274 - val_accuracy: 0.8000\n",
      "Epoch 49/100\n",
      "3/3 [==============================] - 0s 38ms/step - loss: 0.4500 - accuracy: 0.8875 - val_loss: 0.5316 - val_accuracy: 0.8500\n",
      "Epoch 50/100\n",
      "3/3 [==============================] - 0s 45ms/step - loss: 0.4448 - accuracy: 0.8875 - val_loss: 1.1183 - val_accuracy: 0.4000\n",
      "Epoch 51/100\n",
      "3/3 [==============================] - 0s 42ms/step - loss: 0.8492 - accuracy: 0.4500 - val_loss: 0.5245 - val_accuracy: 0.7000\n",
      "Epoch 52/100\n",
      "3/3 [==============================] - 0s 44ms/step - loss: 0.4593 - accuracy: 0.8250 - val_loss: 0.5053 - val_accuracy: 0.7500\n",
      "Epoch 53/100\n",
      "3/3 [==============================] - 0s 47ms/step - loss: 0.4939 - accuracy: 0.6750 - val_loss: 0.5243 - val_accuracy: 0.8500\n",
      "Epoch 54/100\n",
      "3/3 [==============================] - 0s 47ms/step - loss: 0.4475 - accuracy: 0.8250 - val_loss: 0.4875 - val_accuracy: 0.7500\n",
      "Epoch 55/100\n",
      "3/3 [==============================] - 0s 50ms/step - loss: 0.4290 - accuracy: 0.9000 - val_loss: 1.1217 - val_accuracy: 0.4000\n",
      "Epoch 56/100\n",
      "3/3 [==============================] - 0s 47ms/step - loss: 0.8551 - accuracy: 0.5000 - val_loss: 0.5044 - val_accuracy: 0.8500\n",
      "Epoch 57/100\n",
      "3/3 [==============================] - 0s 50ms/step - loss: 0.4490 - accuracy: 0.8750 - val_loss: 0.5492 - val_accuracy: 0.7000\n",
      "Epoch 58/100\n",
      "3/3 [==============================] - 0s 48ms/step - loss: 0.7549 - accuracy: 0.5000 - val_loss: 0.5189 - val_accuracy: 0.8000\n",
      "Epoch 59/100\n",
      "3/3 [==============================] - 0s 49ms/step - loss: 0.5062 - accuracy: 0.8000 - val_loss: 0.5893 - val_accuracy: 0.6000\n",
      "Epoch 60/100\n",
      "3/3 [==============================] - 0s 49ms/step - loss: 0.4615 - accuracy: 0.8250 - val_loss: 0.5115 - val_accuracy: 0.8000\n",
      "Epoch 61/100\n",
      "3/3 [==============================] - 0s 49ms/step - loss: 0.4462 - accuracy: 0.8625 - val_loss: 0.9343 - val_accuracy: 0.4000\n",
      "Epoch 62/100\n",
      "3/3 [==============================] - 0s 49ms/step - loss: 0.5141 - accuracy: 0.6625 - val_loss: 0.5074 - val_accuracy: 0.8500\n",
      "Epoch 63/100\n",
      "3/3 [==============================] - 0s 52ms/step - loss: 0.4656 - accuracy: 0.7750 - val_loss: 0.4989 - val_accuracy: 0.8500\n",
      "Epoch 64/100\n",
      "3/3 [==============================] - 0s 49ms/step - loss: 0.4282 - accuracy: 0.9000 - val_loss: 0.6167 - val_accuracy: 0.6000\n",
      "Epoch 65/100\n",
      "3/3 [==============================] - 0s 49ms/step - loss: 0.4722 - accuracy: 0.7875 - val_loss: 0.5352 - val_accuracy: 0.8000\n",
      "Epoch 66/100\n",
      "3/3 [==============================] - 0s 48ms/step - loss: 0.3746 - accuracy: 0.9500 - val_loss: 0.4761 - val_accuracy: 0.7500\n",
      "Epoch 67/100\n",
      "3/3 [==============================] - 0s 49ms/step - loss: 0.7955 - accuracy: 0.5625 - val_loss: 0.5046 - val_accuracy: 0.8500\n",
      "Epoch 68/100\n",
      "3/3 [==============================] - 0s 45ms/step - loss: 0.4376 - accuracy: 0.8500 - val_loss: 0.5057 - val_accuracy: 0.8500\n",
      "Epoch 69/100\n",
      "3/3 [==============================] - 0s 48ms/step - loss: 0.3813 - accuracy: 0.9750 - val_loss: 0.8228 - val_accuracy: 0.4000\n",
      "Epoch 70/100\n",
      "3/3 [==============================] - 0s 49ms/step - loss: 0.7616 - accuracy: 0.4750 - val_loss: 0.7125 - val_accuracy: 0.6000\n",
      "Epoch 71/100\n",
      "3/3 [==============================] - 0s 49ms/step - loss: 0.6128 - accuracy: 0.6625 - val_loss: 0.9883 - val_accuracy: 0.4000\n",
      "Epoch 72/100\n",
      "3/3 [==============================] - 0s 46ms/step - loss: 0.6326 - accuracy: 0.5250 - val_loss: 0.5845 - val_accuracy: 0.6000\n",
      "Epoch 73/100\n",
      "3/3 [==============================] - 0s 47ms/step - loss: 0.5560 - accuracy: 0.6625 - val_loss: 0.6613 - val_accuracy: 0.4500\n",
      "Epoch 74/100\n",
      "3/3 [==============================] - 0s 50ms/step - loss: 0.3975 - accuracy: 0.8250 - val_loss: 0.5499 - val_accuracy: 0.7500\n",
      "Epoch 75/100\n",
      "3/3 [==============================] - 0s 50ms/step - loss: 0.3718 - accuracy: 0.9000 - val_loss: 0.6498 - val_accuracy: 0.5500\n",
      "Epoch 76/100\n",
      "3/3 [==============================] - 0s 47ms/step - loss: 0.4270 - accuracy: 0.7625 - val_loss: 0.5678 - val_accuracy: 0.7000\n",
      "Epoch 77/100\n",
      "3/3 [==============================] - 0s 50ms/step - loss: 0.4622 - accuracy: 0.6625 - val_loss: 0.8252 - val_accuracy: 0.4000\n",
      "Epoch 78/100\n",
      "3/3 [==============================] - 0s 52ms/step - loss: 0.5506 - accuracy: 0.6500 - val_loss: 0.5549 - val_accuracy: 0.7500\n",
      "Epoch 79/100\n",
      "3/3 [==============================] - 0s 46ms/step - loss: 0.4335 - accuracy: 0.7500 - val_loss: 0.4561 - val_accuracy: 0.8000\n",
      "Epoch 80/100\n",
      "3/3 [==============================] - 0s 51ms/step - loss: 0.3876 - accuracy: 0.8500 - val_loss: 0.5027 - val_accuracy: 0.8000\n",
      "Epoch 81/100\n",
      "3/3 [==============================] - 0s 49ms/step - loss: 0.3372 - accuracy: 0.9250 - val_loss: 0.6212 - val_accuracy: 0.6000\n",
      "Epoch 82/100\n",
      "3/3 [==============================] - 0s 48ms/step - loss: 0.4766 - accuracy: 0.6875 - val_loss: 0.8852 - val_accuracy: 0.6000\n",
      "Epoch 83/100\n",
      "3/3 [==============================] - 0s 49ms/step - loss: 0.7773 - accuracy: 0.5000 - val_loss: 1.0209 - val_accuracy: 0.4000\n",
      "Epoch 84/100\n",
      "3/3 [==============================] - 0s 48ms/step - loss: 0.6297 - accuracy: 0.6000 - val_loss: 0.4725 - val_accuracy: 0.8000\n",
      "Epoch 85/100\n",
      "3/3 [==============================] - 0s 49ms/step - loss: 0.3770 - accuracy: 0.9375 - val_loss: 0.4488 - val_accuracy: 0.8000\n",
      "Epoch 86/100\n",
      "3/3 [==============================] - 0s 50ms/step - loss: 0.3421 - accuracy: 0.9625 - val_loss: 0.6106 - val_accuracy: 0.6000\n",
      "Epoch 87/100\n",
      "3/3 [==============================] - 0s 50ms/step - loss: 0.5408 - accuracy: 0.6500 - val_loss: 0.9872 - val_accuracy: 0.4000\n",
      "Epoch 88/100\n",
      "3/3 [==============================] - 0s 48ms/step - loss: 0.6185 - accuracy: 0.5875 - val_loss: 0.6171 - val_accuracy: 0.6000\n",
      "Epoch 89/100\n",
      "3/3 [==============================] - 0s 51ms/step - loss: 0.3516 - accuracy: 0.8875 - val_loss: 0.4638 - val_accuracy: 0.8500\n",
      "Epoch 90/100\n",
      "3/3 [==============================] - 0s 52ms/step - loss: 0.3816 - accuracy: 0.8625 - val_loss: 0.6265 - val_accuracy: 0.6000\n",
      "Epoch 91/100\n",
      "3/3 [==============================] - 0s 53ms/step - loss: 0.7029 - accuracy: 0.5750 - val_loss: 0.5235 - val_accuracy: 0.7000\n",
      "Epoch 92/100\n",
      "3/3 [==============================] - 0s 54ms/step - loss: 0.5191 - accuracy: 0.6250 - val_loss: 0.5597 - val_accuracy: 0.7000\n",
      "Epoch 93/100\n",
      "3/3 [==============================] - 0s 51ms/step - loss: 0.3622 - accuracy: 0.8875 - val_loss: 0.4781 - val_accuracy: 0.7500\n",
      "Epoch 94/100\n",
      "3/3 [==============================] - 0s 50ms/step - loss: 0.3908 - accuracy: 0.7625 - val_loss: 0.4161 - val_accuracy: 0.8500\n",
      "Epoch 95/100\n",
      "3/3 [==============================] - 0s 48ms/step - loss: 0.4007 - accuracy: 0.8500 - val_loss: 0.6995 - val_accuracy: 0.4500\n",
      "Epoch 96/100\n",
      "3/3 [==============================] - 0s 48ms/step - loss: 0.3519 - accuracy: 0.8875 - val_loss: 0.4591 - val_accuracy: 0.8500\n",
      "Epoch 97/100\n",
      "3/3 [==============================] - 0s 49ms/step - loss: 0.3123 - accuracy: 0.9250 - val_loss: 0.6712 - val_accuracy: 0.5500\n",
      "Epoch 98/100\n",
      "3/3 [==============================] - 0s 46ms/step - loss: 0.5573 - accuracy: 0.6375 - val_loss: 1.3353 - val_accuracy: 0.6000\n",
      "Epoch 99/100\n",
      "3/3 [==============================] - 0s 50ms/step - loss: 1.0644 - accuracy: 0.6375 - val_loss: 0.5144 - val_accuracy: 0.8000\n",
      "Epoch 100/100\n",
      "3/3 [==============================] - 0s 49ms/step - loss: 0.4128 - accuracy: 0.9625 - val_loss: 0.4995 - val_accuracy: 0.8500\n"
     ]
    }
   ],
   "source": [
    "H = model.fit(x_train, y_train, validation_data=(x_test, y_test), \n",
    "          epochs=max_epochs, batch_size=32)"
   ]
  },
  {
   "cell_type": "code",
   "execution_count": 15,
   "metadata": {},
   "outputs": [
    {
     "data": {
      "image/png": "[encoded data removed]",
      "text/plain": [
       "<Figure size 432x288 with 1 Axes>"
      ]
     },
     "metadata": {},
     "output_type": "display_data"
    }
   ],
   "source": [
    "N = np.arange(0, max_epochs)\n",
    "plt.style.use(\"ggplot\")\n",
    "plt.figure()\n",
    "plt.plot(N, H.history[\"loss\"], label=\"train_loss\")\n",
    "plt.plot(N, H.history[\"val_loss\"], label=\"val_loss\")\n",
    "#plt.plot(N, H.history[\"accuracy\"], label=\"train_acc\")\n",
    "#plt.plot(N, H.history[\"val_accuracy\"], label=\"val_acc\")\n",
    "plt.xlabel(\"Epoch #\")\n",
    "plt.legend()\n",
    "plt.show()"
   ]
  }
 ],
 "metadata": {
  "interpreter": {
   "hash": "8da01e5a71448ea74f54d88afa8911010d1d12e23bc7e103d40d5def4a09152c"
  },
  "kernelspec": {
   "display_name": "Python 3.9.5 64-bit",
   "language": "python",
   "name": "python3"
  },
  "language_info": {
   "codemirror_mode": {
    "name": "ipython",
    "version": 3
   },
   "file_extension": ".py",
   "mimetype": "text/x-python",
   "name": "python",
   "nbconvert_exporter": "python",
   "pygments_lexer": "ipython3",
   "version": "3.9.5"
  },
  "orig_nbformat": 4
 },
 "nbformat": 4,
 "nbformat_minor": 2
}
