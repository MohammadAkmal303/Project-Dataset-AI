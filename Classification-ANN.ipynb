{
 "cells": [
  {
   "cell_type": "markdown",
   "metadata": {},
   "source": [
    "<h1>Tugas Pertemuan 5</h1>\n",
    "<h1>Mencoba ANN</h1>"
   ]
  },
  {
   "cell_type": "code",
   "execution_count": 109,
   "metadata": {},
   "outputs": [],
   "source": [
    "from sklearn.model_selection import train_test_split\n",
    "from sklearn.preprocessing import LabelEncoder\n",
    "from sklearn.metrics import classification_report\n",
    "from tensorflow.keras.models import Sequential\n",
    "from tensorflow.keras.layers import Flatten, Dense\n",
    "from tensorflow.keras.optimizers import SGD\n",
    "import numpy as np\n",
    "import cv2\n",
    "import glob\n",
    "import matplotlib.pyplot as plt"
   ]
  },
  {
   "cell_type": "markdown",
   "metadata": {},
   "source": [
    "<h1> Load Data </h1> "
   ]
  },
  {
   "cell_type": "code",
   "execution_count": 110,
   "metadata": {},
   "outputs": [],
   "source": [
    "imagePaths = 'Dataset\\\\'\n",
    "label_list = ['jeruknipis', 'Seledri']\n",
    "data = []\n",
    "labels = []"
   ]
  },
  {
   "cell_type": "code",
   "execution_count": 111,
   "metadata": {},
   "outputs": [],
   "source": [
    "for label in label_list:\n",
    "    for imagePath in glob.glob(imagePaths+label+'\\\\*.jpg'):\n",
    "        #print(imagePath)\n",
    "        image = cv2.imread(imagePath)\n",
    "        image = cv2.resize(image, (32, 32))\n",
    "        data.append(image)\n",
    "        labels.append(label)"
   ]
  },
  {
   "cell_type": "code",
   "execution_count": 112,
   "metadata": {},
   "outputs": [
    {
     "data": {
      "text/plain": [
       "(100, 32, 32, 3)"
      ]
     },
     "execution_count": 112,
     "metadata": {},
     "output_type": "execute_result"
    }
   ],
   "source": [
    "np.array(data).shape"
   ]
  },
  {
   "cell_type": "markdown",
   "metadata": {},
   "source": [
    "<h1>Proses Data</h1>"
   ]
  },
  {
   "cell_type": "code",
   "execution_count": 113,
   "metadata": {},
   "outputs": [],
   "source": [
    "# ubah type data dari list menjadi array\n",
    "# ubah nilai dari tiap pixel menjadi range [0..1]\n",
    "data = np.array(data, dtype='float') / 255.0\n",
    "labels = np.array(labels)"
   ]
  },
  {
   "cell_type": "code",
   "execution_count": 114,
   "metadata": {},
   "outputs": [
    {
     "name": "stdout",
     "output_type": "stream",
     "text": [
      "['jeruknipis' 'jeruknipis' 'jeruknipis' 'jeruknipis' 'jeruknipis'\n",
      " 'jeruknipis' 'jeruknipis' 'jeruknipis' 'jeruknipis' 'jeruknipis'\n",
      " 'jeruknipis' 'jeruknipis' 'jeruknipis' 'jeruknipis' 'jeruknipis'\n",
      " 'jeruknipis' 'jeruknipis' 'jeruknipis' 'jeruknipis' 'jeruknipis'\n",
      " 'jeruknipis' 'jeruknipis' 'jeruknipis' 'jeruknipis' 'jeruknipis'\n",
      " 'jeruknipis' 'jeruknipis' 'jeruknipis' 'jeruknipis' 'jeruknipis'\n",
      " 'jeruknipis' 'jeruknipis' 'jeruknipis' 'jeruknipis' 'jeruknipis'\n",
      " 'jeruknipis' 'jeruknipis' 'jeruknipis' 'jeruknipis' 'jeruknipis'\n",
      " 'jeruknipis' 'jeruknipis' 'jeruknipis' 'jeruknipis' 'jeruknipis'\n",
      " 'jeruknipis' 'jeruknipis' 'jeruknipis' 'jeruknipis' 'jeruknipis'\n",
      " 'Seledri' 'Seledri' 'Seledri' 'Seledri' 'Seledri' 'Seledri' 'Seledri'\n",
      " 'Seledri' 'Seledri' 'Seledri' 'Seledri' 'Seledri' 'Seledri' 'Seledri'\n",
      " 'Seledri' 'Seledri' 'Seledri' 'Seledri' 'Seledri' 'Seledri' 'Seledri'\n",
      " 'Seledri' 'Seledri' 'Seledri' 'Seledri' 'Seledri' 'Seledri' 'Seledri'\n",
      " 'Seledri' 'Seledri' 'Seledri' 'Seledri' 'Seledri' 'Seledri' 'Seledri'\n",
      " 'Seledri' 'Seledri' 'Seledri' 'Seledri' 'Seledri' 'Seledri' 'Seledri'\n",
      " 'Seledri' 'Seledri' 'Seledri' 'Seledri' 'Seledri' 'Seledri' 'Seledri'\n",
      " 'Seledri']\n"
     ]
    }
   ],
   "source": [
    "print(labels)"
   ]
  },
  {
   "cell_type": "code",
   "execution_count": 115,
   "metadata": {},
   "outputs": [
    {
     "name": "stdout",
     "output_type": "stream",
     "text": [
      "[1 1 1 1 1 1 1 1 1 1 1 1 1 1 1 1 1 1 1 1 1 1 1 1 1 1 1 1 1 1 1 1 1 1 1 1 1\n",
      " 1 1 1 1 1 1 1 1 1 1 1 1 1 0 0 0 0 0 0 0 0 0 0 0 0 0 0 0 0 0 0 0 0 0 0 0 0\n",
      " 0 0 0 0 0 0 0 0 0 0 0 0 0 0 0 0 0 0 0 0 0 0 0 0 0 0]\n"
     ]
    }
   ],
   "source": [
    "lb = LabelEncoder()\n",
    "labels = lb.fit_transform(labels)\n",
    "print(labels)"
   ]
  },
  {
   "cell_type": "markdown",
   "metadata": {},
   "source": [
    "<h1> Split Data </h1>"
   ]
  },
  {
   "cell_type": "code",
   "execution_count": 116,
   "metadata": {},
   "outputs": [],
   "source": [
    "x_train, x_test, y_train, y_test = train_test_split(data, labels, test_size=0.2, random_state=42)"
   ]
  },
  {
   "cell_type": "code",
   "execution_count": 117,
   "metadata": {},
   "outputs": [
    {
     "name": "stdout",
     "output_type": "stream",
     "text": [
      "Ukuran data train = (80, 32, 32, 3)\n",
      "Ukuran data test = (20, 32, 32, 3)\n"
     ]
    }
   ],
   "source": [
    "print('Ukuran data train =', x_train.shape)\n",
    "print('Ukuran data test =', x_test.shape)"
   ]
  },
  {
   "cell_type": "markdown",
   "metadata": {},
   "source": [
    "<h1>Build ANN</h1>"
   ]
  },
  {
   "cell_type": "code",
   "execution_count": 118,
   "metadata": {},
   "outputs": [],
   "source": [
    "model = Sequential()\n",
    "model.add(Flatten(input_shape=(32,32,3)))\n",
    "model.add(Dense(1024, activation=\"relu\"))\n",
    "model.add(Dense(1024, activation=\"relu\"))\n",
    "model.add(Dense(1, activation=\"sigmoid\"))"
   ]
  },
  {
   "cell_type": "code",
   "execution_count": 119,
   "metadata": {},
   "outputs": [
    {
     "name": "stdout",
     "output_type": "stream",
     "text": [
      "Model: \"sequential_6\"\n",
      "_________________________________________________________________\n",
      " Layer (type)                Output Shape              Param #   \n",
      "=================================================================\n",
      " flatten_6 (Flatten)         (None, 3072)              0         \n",
      "                                                                 \n",
      " dense_18 (Dense)            (None, 1024)              3146752   \n",
      "                                                                 \n",
      " dense_19 (Dense)            (None, 1024)              1049600   \n",
      "                                                                 \n",
      " dense_20 (Dense)            (None, 1)                 1025      \n",
      "                                                                 \n",
      "=================================================================\n",
      "Total params: 4,197,377\n",
      "Trainable params: 4,197,377\n",
      "Non-trainable params: 0\n",
      "_________________________________________________________________\n"
     ]
    }
   ],
   "source": [
    "model.summary()"
   ]
  },
  {
   "cell_type": "code",
   "execution_count": 120,
   "metadata": {},
   "outputs": [],
   "source": [
    "lr = 0.01\n",
    "max_epochs = 100\n",
    "opt_funct = SGD(learning_rate=lr)"
   ]
  },
  {
   "cell_type": "code",
   "execution_count": 121,
   "metadata": {},
   "outputs": [],
   "source": [
    "model.compile(loss = 'binary_crossentropy', \n",
    "              optimizer = opt_funct, \n",
    "              metrics = ['accuracy'])"
   ]
  },
  {
   "cell_type": "markdown",
   "metadata": {},
   "source": [
    "<h1> Train Model </h1>"
   ]
  },
  {
   "cell_type": "code",
   "execution_count": 122,
   "metadata": {},
   "outputs": [
    {
     "name": "stdout",
     "output_type": "stream",
     "text": [
      "Epoch 1/100\n",
      "3/3 [==============================] - 1s 114ms/step - loss: 1.3681 - accuracy: 0.5250 - val_loss: 1.0224 - val_accuracy: 0.6000\n",
      "Epoch 2/100\n",
      "3/3 [==============================] - 0s 50ms/step - loss: 0.9792 - accuracy: 0.5500 - val_loss: 1.4850 - val_accuracy: 0.4000\n",
      "Epoch 3/100\n",
      "3/3 [==============================] - 0s 37ms/step - loss: 1.2448 - accuracy: 0.5250 - val_loss: 1.1289 - val_accuracy: 0.4000\n",
      "Epoch 4/100\n",
      "3/3 [==============================] - 0s 40ms/step - loss: 0.6860 - accuracy: 0.6625 - val_loss: 0.6341 - val_accuracy: 0.6000\n",
      "Epoch 5/100\n",
      "3/3 [==============================] - 0s 40ms/step - loss: 0.6443 - accuracy: 0.5250 - val_loss: 0.7739 - val_accuracy: 0.6000\n",
      "Epoch 6/100\n",
      "3/3 [==============================] - 0s 36ms/step - loss: 1.1402 - accuracy: 0.4000 - val_loss: 0.8765 - val_accuracy: 0.4000\n",
      "Epoch 7/100\n",
      "3/3 [==============================] - 0s 43ms/step - loss: 0.8579 - accuracy: 0.4000 - val_loss: 0.6349 - val_accuracy: 0.6000\n",
      "Epoch 8/100\n",
      "3/3 [==============================] - 0s 34ms/step - loss: 0.6328 - accuracy: 0.6625 - val_loss: 0.6279 - val_accuracy: 0.6000\n",
      "Epoch 9/100\n",
      "3/3 [==============================] - 0s 29ms/step - loss: 0.6318 - accuracy: 0.5250 - val_loss: 0.6548 - val_accuracy: 0.7000\n",
      "Epoch 10/100\n",
      "3/3 [==============================] - 0s 32ms/step - loss: 0.5957 - accuracy: 0.7125 - val_loss: 0.6209 - val_accuracy: 0.7500\n",
      "Epoch 11/100\n",
      "3/3 [==============================] - 0s 49ms/step - loss: 0.6251 - accuracy: 0.5875 - val_loss: 0.8601 - val_accuracy: 0.4000\n",
      "Epoch 12/100\n",
      "3/3 [==============================] - 0s 42ms/step - loss: 0.6408 - accuracy: 0.5625 - val_loss: 0.6162 - val_accuracy: 0.7500\n",
      "Epoch 13/100\n",
      "3/3 [==============================] - 0s 33ms/step - loss: 0.5788 - accuracy: 0.7000 - val_loss: 0.6261 - val_accuracy: 0.7500\n",
      "Epoch 14/100\n",
      "3/3 [==============================] - 0s 31ms/step - loss: 0.5653 - accuracy: 0.7125 - val_loss: 0.5991 - val_accuracy: 0.7500\n",
      "Epoch 15/100\n",
      "3/3 [==============================] - 0s 30ms/step - loss: 0.5449 - accuracy: 0.8375 - val_loss: 0.6482 - val_accuracy: 0.6500\n",
      "Epoch 16/100\n",
      "3/3 [==============================] - 0s 41ms/step - loss: 0.6917 - accuracy: 0.6250 - val_loss: 0.5949 - val_accuracy: 0.7000\n",
      "Epoch 17/100\n",
      "3/3 [==============================] - 0s 38ms/step - loss: 0.5456 - accuracy: 0.7875 - val_loss: 1.0694 - val_accuracy: 0.4000\n",
      "Epoch 18/100\n",
      "3/3 [==============================] - 0s 32ms/step - loss: 0.7969 - accuracy: 0.5000 - val_loss: 0.5923 - val_accuracy: 0.7000\n",
      "Epoch 19/100\n",
      "3/3 [==============================] - 0s 39ms/step - loss: 0.6090 - accuracy: 0.5875 - val_loss: 0.7948 - val_accuracy: 0.4000\n",
      "Epoch 20/100\n",
      "3/3 [==============================] - 0s 25ms/step - loss: 0.5192 - accuracy: 0.8125 - val_loss: 0.6519 - val_accuracy: 0.6000\n",
      "Epoch 21/100\n",
      "3/3 [==============================] - 0s 32ms/step - loss: 0.6754 - accuracy: 0.4500 - val_loss: 1.5343 - val_accuracy: 0.4000\n",
      "Epoch 22/100\n",
      "3/3 [==============================] - 0s 44ms/step - loss: 0.7925 - accuracy: 0.6500 - val_loss: 0.6847 - val_accuracy: 0.4500\n",
      "Epoch 23/100\n",
      "3/3 [==============================] - 0s 37ms/step - loss: 0.5888 - accuracy: 0.5625 - val_loss: 0.6073 - val_accuracy: 0.6000\n",
      "Epoch 24/100\n",
      "3/3 [==============================] - 0s 31ms/step - loss: 0.5249 - accuracy: 0.8500 - val_loss: 0.7778 - val_accuracy: 0.4000\n",
      "Epoch 25/100\n",
      "3/3 [==============================] - 0s 33ms/step - loss: 0.6372 - accuracy: 0.5125 - val_loss: 0.5705 - val_accuracy: 0.7000\n",
      "Epoch 26/100\n",
      "3/3 [==============================] - 0s 31ms/step - loss: 0.6842 - accuracy: 0.5125 - val_loss: 0.6182 - val_accuracy: 0.8000\n",
      "Epoch 27/100\n",
      "3/3 [==============================] - 0s 40ms/step - loss: 0.5241 - accuracy: 0.8875 - val_loss: 0.5782 - val_accuracy: 0.6000\n",
      "Epoch 28/100\n",
      "3/3 [==============================] - 0s 29ms/step - loss: 0.5535 - accuracy: 0.6000 - val_loss: 0.6734 - val_accuracy: 0.4500\n",
      "Epoch 29/100\n",
      "3/3 [==============================] - 0s 37ms/step - loss: 0.6253 - accuracy: 0.5625 - val_loss: 0.8293 - val_accuracy: 0.6000\n",
      "Epoch 30/100\n",
      "3/3 [==============================] - 0s 37ms/step - loss: 0.7319 - accuracy: 0.5625 - val_loss: 0.7741 - val_accuracy: 0.4000\n",
      "Epoch 31/100\n",
      "3/3 [==============================] - 0s 37ms/step - loss: 0.5359 - accuracy: 0.7750 - val_loss: 0.6440 - val_accuracy: 0.6000\n",
      "Epoch 32/100\n",
      "3/3 [==============================] - 0s 32ms/step - loss: 0.5897 - accuracy: 0.6500 - val_loss: 1.1312 - val_accuracy: 0.4000\n",
      "Epoch 33/100\n",
      "3/3 [==============================] - 0s 40ms/step - loss: 0.7177 - accuracy: 0.5875 - val_loss: 0.7395 - val_accuracy: 0.4000\n",
      "Epoch 34/100\n",
      "3/3 [==============================] - 0s 48ms/step - loss: 0.4967 - accuracy: 0.7875 - val_loss: 0.5512 - val_accuracy: 0.7000\n",
      "Epoch 35/100\n",
      "3/3 [==============================] - 0s 39ms/step - loss: 0.4778 - accuracy: 0.8625 - val_loss: 0.5375 - val_accuracy: 0.7500\n",
      "Epoch 36/100\n",
      "3/3 [==============================] - 0s 36ms/step - loss: 0.5967 - accuracy: 0.6375 - val_loss: 1.1936 - val_accuracy: 0.4000\n",
      "Epoch 37/100\n",
      "3/3 [==============================] - 0s 33ms/step - loss: 0.7277 - accuracy: 0.5750 - val_loss: 0.6725 - val_accuracy: 0.4500\n",
      "Epoch 38/100\n",
      "3/3 [==============================] - 0s 37ms/step - loss: 0.5227 - accuracy: 0.7750 - val_loss: 0.7402 - val_accuracy: 0.6000\n",
      "Epoch 39/100\n",
      "3/3 [==============================] - 0s 29ms/step - loss: 0.5856 - accuracy: 0.7750 - val_loss: 0.5730 - val_accuracy: 0.8000\n",
      "Epoch 40/100\n",
      "3/3 [==============================] - 0s 28ms/step - loss: 0.4777 - accuracy: 0.8000 - val_loss: 0.6235 - val_accuracy: 0.6500\n",
      "Epoch 41/100\n",
      "3/3 [==============================] - 0s 30ms/step - loss: 0.4709 - accuracy: 0.8750 - val_loss: 0.7225 - val_accuracy: 0.6000\n",
      "Epoch 42/100\n",
      "3/3 [==============================] - 0s 40ms/step - loss: 0.5432 - accuracy: 0.7750 - val_loss: 0.5246 - val_accuracy: 0.8000\n",
      "Epoch 43/100\n",
      "3/3 [==============================] - 0s 38ms/step - loss: 0.4752 - accuracy: 0.7750 - val_loss: 0.5410 - val_accuracy: 0.8000\n",
      "Epoch 44/100\n",
      "3/3 [==============================] - 0s 30ms/step - loss: 0.5626 - accuracy: 0.7125 - val_loss: 0.5865 - val_accuracy: 0.6000\n",
      "Epoch 45/100\n",
      "3/3 [==============================] - 0s 33ms/step - loss: 0.5702 - accuracy: 0.6250 - val_loss: 1.2589 - val_accuracy: 0.4000\n",
      "Epoch 46/100\n",
      "3/3 [==============================] - 0s 38ms/step - loss: 0.7030 - accuracy: 0.6125 - val_loss: 0.6233 - val_accuracy: 0.6500\n",
      "Epoch 47/100\n",
      "3/3 [==============================] - 0s 29ms/step - loss: 0.4472 - accuracy: 0.9375 - val_loss: 0.6183 - val_accuracy: 0.6500\n",
      "Epoch 48/100\n",
      "3/3 [==============================] - 0s 31ms/step - loss: 0.5001 - accuracy: 0.7000 - val_loss: 0.5124 - val_accuracy: 0.8000\n",
      "Epoch 49/100\n",
      "3/3 [==============================] - 0s 31ms/step - loss: 0.4838 - accuracy: 0.7625 - val_loss: 0.9300 - val_accuracy: 0.4000\n",
      "Epoch 50/100\n",
      "3/3 [==============================] - 0s 32ms/step - loss: 0.5670 - accuracy: 0.5875 - val_loss: 0.5202 - val_accuracy: 0.7000\n",
      "Epoch 51/100\n",
      "3/3 [==============================] - 0s 35ms/step - loss: 0.5403 - accuracy: 0.6875 - val_loss: 1.0788 - val_accuracy: 0.4000\n",
      "Epoch 52/100\n",
      "3/3 [==============================] - 0s 32ms/step - loss: 0.7058 - accuracy: 0.5125 - val_loss: 0.6056 - val_accuracy: 0.6000\n",
      "Epoch 53/100\n",
      "3/3 [==============================] - 0s 34ms/step - loss: 0.6697 - accuracy: 0.5000 - val_loss: 0.6102 - val_accuracy: 0.6500\n",
      "Epoch 54/100\n",
      "3/3 [==============================] - 0s 39ms/step - loss: 0.4717 - accuracy: 0.8000 - val_loss: 0.6129 - val_accuracy: 0.6000\n",
      "Epoch 55/100\n",
      "3/3 [==============================] - 0s 34ms/step - loss: 0.4766 - accuracy: 0.7250 - val_loss: 0.5149 - val_accuracy: 0.7500\n",
      "Epoch 56/100\n",
      "3/3 [==============================] - 0s 40ms/step - loss: 0.4348 - accuracy: 0.8875 - val_loss: 0.5079 - val_accuracy: 0.7000\n",
      "Epoch 57/100\n",
      "3/3 [==============================] - 0s 34ms/step - loss: 0.4391 - accuracy: 0.7875 - val_loss: 0.9973 - val_accuracy: 0.4000\n",
      "Epoch 58/100\n",
      "3/3 [==============================] - 0s 25ms/step - loss: 0.5718 - accuracy: 0.6000 - val_loss: 0.7168 - val_accuracy: 0.6000\n",
      "Epoch 59/100\n",
      "3/3 [==============================] - 0s 33ms/step - loss: 0.7367 - accuracy: 0.4625 - val_loss: 1.1902 - val_accuracy: 0.4000\n",
      "Epoch 60/100\n",
      "3/3 [==============================] - 0s 31ms/step - loss: 0.6285 - accuracy: 0.7000 - val_loss: 0.5304 - val_accuracy: 0.8000\n",
      "Epoch 61/100\n",
      "3/3 [==============================] - 0s 29ms/step - loss: 0.4305 - accuracy: 0.8875 - val_loss: 0.5475 - val_accuracy: 0.7000\n",
      "Epoch 62/100\n",
      "3/3 [==============================] - 0s 28ms/step - loss: 0.4101 - accuracy: 0.8375 - val_loss: 0.6895 - val_accuracy: 0.4500\n",
      "Epoch 63/100\n",
      "3/3 [==============================] - 0s 35ms/step - loss: 0.5723 - accuracy: 0.5875 - val_loss: 0.5119 - val_accuracy: 0.7000\n",
      "Epoch 64/100\n",
      "3/3 [==============================] - 0s 41ms/step - loss: 0.4465 - accuracy: 0.8000 - val_loss: 0.6050 - val_accuracy: 0.6500\n",
      "Epoch 65/100\n",
      "3/3 [==============================] - 0s 39ms/step - loss: 0.5686 - accuracy: 0.6625 - val_loss: 0.6752 - val_accuracy: 0.6000\n",
      "Epoch 66/100\n",
      "3/3 [==============================] - 0s 30ms/step - loss: 0.5936 - accuracy: 0.5750 - val_loss: 0.6760 - val_accuracy: 0.5000\n",
      "Epoch 67/100\n",
      "3/3 [==============================] - 0s 36ms/step - loss: 0.4273 - accuracy: 0.8250 - val_loss: 0.4948 - val_accuracy: 0.7500\n",
      "Epoch 68/100\n",
      "3/3 [==============================] - 0s 38ms/step - loss: 0.5290 - accuracy: 0.6375 - val_loss: 0.8575 - val_accuracy: 0.4000\n",
      "Epoch 69/100\n",
      "3/3 [==============================] - 0s 43ms/step - loss: 0.4684 - accuracy: 0.7000 - val_loss: 0.4706 - val_accuracy: 0.8000\n",
      "Epoch 70/100\n",
      "3/3 [==============================] - 0s 39ms/step - loss: 0.3711 - accuracy: 0.9125 - val_loss: 0.4804 - val_accuracy: 0.7500\n",
      "Epoch 71/100\n",
      "3/3 [==============================] - 0s 41ms/step - loss: 0.4525 - accuracy: 0.6875 - val_loss: 0.5199 - val_accuracy: 0.8500\n",
      "Epoch 72/100\n",
      "3/3 [==============================] - 0s 39ms/step - loss: 0.3623 - accuracy: 0.9125 - val_loss: 0.6618 - val_accuracy: 0.5500\n",
      "Epoch 73/100\n",
      "3/3 [==============================] - 0s 33ms/step - loss: 0.3485 - accuracy: 0.9000 - val_loss: 0.4430 - val_accuracy: 0.8500\n",
      "Epoch 74/100\n",
      "3/3 [==============================] - 0s 34ms/step - loss: 0.3277 - accuracy: 0.9625 - val_loss: 0.4630 - val_accuracy: 0.8000\n",
      "Epoch 75/100\n",
      "3/3 [==============================] - 0s 38ms/step - loss: 0.6473 - accuracy: 0.7000 - val_loss: 0.5304 - val_accuracy: 0.8000\n",
      "Epoch 76/100\n",
      "3/3 [==============================] - 0s 58ms/step - loss: 0.4470 - accuracy: 0.7625 - val_loss: 0.8372 - val_accuracy: 0.6000\n",
      "Epoch 77/100\n",
      "3/3 [==============================] - 0s 46ms/step - loss: 0.5804 - accuracy: 0.7125 - val_loss: 0.4756 - val_accuracy: 0.8000\n",
      "Epoch 78/100\n",
      "3/3 [==============================] - 0s 33ms/step - loss: 0.3408 - accuracy: 0.9500 - val_loss: 0.4427 - val_accuracy: 0.8500\n",
      "Epoch 79/100\n",
      "3/3 [==============================] - 0s 34ms/step - loss: 0.4642 - accuracy: 0.7875 - val_loss: 1.3505 - val_accuracy: 0.4000\n",
      "Epoch 80/100\n",
      "3/3 [==============================] - 0s 32ms/step - loss: 0.6165 - accuracy: 0.6375 - val_loss: 0.9375 - val_accuracy: 0.6000\n",
      "Epoch 81/100\n",
      "3/3 [==============================] - 0s 33ms/step - loss: 0.7516 - accuracy: 0.7125 - val_loss: 0.4878 - val_accuracy: 0.8000\n",
      "Epoch 82/100\n",
      "3/3 [==============================] - 0s 31ms/step - loss: 0.3602 - accuracy: 0.9375 - val_loss: 0.5973 - val_accuracy: 0.6500\n",
      "Epoch 83/100\n",
      "3/3 [==============================] - 0s 21ms/step - loss: 0.4535 - accuracy: 0.7750 - val_loss: 0.5046 - val_accuracy: 0.8500\n",
      "Epoch 84/100\n",
      "3/3 [==============================] - 0s 37ms/step - loss: 0.3731 - accuracy: 0.8625 - val_loss: 0.4548 - val_accuracy: 0.8000\n",
      "Epoch 85/100\n",
      "3/3 [==============================] - 0s 35ms/step - loss: 0.4554 - accuracy: 0.7625 - val_loss: 0.9352 - val_accuracy: 0.4000\n",
      "Epoch 86/100\n",
      "3/3 [==============================] - 0s 35ms/step - loss: 0.8099 - accuracy: 0.4625 - val_loss: 0.5275 - val_accuracy: 0.7000\n",
      "Epoch 87/100\n",
      "3/3 [==============================] - 0s 33ms/step - loss: 0.3641 - accuracy: 0.8750 - val_loss: 0.6046 - val_accuracy: 0.6000\n",
      "Epoch 88/100\n",
      "3/3 [==============================] - 0s 35ms/step - loss: 0.3354 - accuracy: 0.8875 - val_loss: 0.4364 - val_accuracy: 0.8000\n",
      "Epoch 89/100\n",
      "3/3 [==============================] - 0s 34ms/step - loss: 0.3242 - accuracy: 0.9250 - val_loss: 0.4728 - val_accuracy: 0.7500\n",
      "Epoch 90/100\n",
      "3/3 [==============================] - 0s 34ms/step - loss: 0.6661 - accuracy: 0.5625 - val_loss: 0.8544 - val_accuracy: 0.4000\n",
      "Epoch 91/100\n",
      "3/3 [==============================] - 0s 29ms/step - loss: 0.4839 - accuracy: 0.7250 - val_loss: 0.4501 - val_accuracy: 0.8000\n",
      "Epoch 92/100\n",
      "3/3 [==============================] - 0s 35ms/step - loss: 0.3835 - accuracy: 0.8500 - val_loss: 0.7591 - val_accuracy: 0.4500\n",
      "Epoch 93/100\n",
      "3/3 [==============================] - 0s 43ms/step - loss: 0.4167 - accuracy: 0.7500 - val_loss: 0.6775 - val_accuracy: 0.6000\n",
      "Epoch 94/100\n",
      "3/3 [==============================] - 0s 31ms/step - loss: 0.7358 - accuracy: 0.5125 - val_loss: 1.1407 - val_accuracy: 0.4000\n",
      "Epoch 95/100\n",
      "3/3 [==============================] - 0s 35ms/step - loss: 0.6184 - accuracy: 0.6375 - val_loss: 0.4722 - val_accuracy: 0.8000\n",
      "Epoch 96/100\n",
      "3/3 [==============================] - 0s 33ms/step - loss: 0.3397 - accuracy: 0.9250 - val_loss: 0.4415 - val_accuracy: 0.8000\n",
      "Epoch 97/100\n",
      "3/3 [==============================] - 0s 42ms/step - loss: 0.3101 - accuracy: 0.9375 - val_loss: 0.6580 - val_accuracy: 0.5500\n",
      "Epoch 98/100\n",
      "3/3 [==============================] - 0s 40ms/step - loss: 0.3963 - accuracy: 0.8125 - val_loss: 0.5571 - val_accuracy: 0.7000\n",
      "Epoch 99/100\n",
      "3/3 [==============================] - 0s 35ms/step - loss: 0.5438 - accuracy: 0.5750 - val_loss: 0.7655 - val_accuracy: 0.4500\n",
      "Epoch 100/100\n",
      "3/3 [==============================] - 0s 47ms/step - loss: 0.4806 - accuracy: 0.7000 - val_loss: 0.4757 - val_accuracy: 0.7500\n"
     ]
    }
   ],
   "source": [
    "H = model.fit(x_train, y_train, validation_data=(x_test, y_test), \n",
    "          epochs=max_epochs, batch_size=32)"
   ]
  },
  {
   "cell_type": "code",
   "execution_count": 123,
   "metadata": {},
   "outputs": [
    {
     "data": {
      "image/png": "[encoded data removed]",
      "text/plain": [
       "<Figure size 432x288 with 1 Axes>"
      ]
     },
     "metadata": {},
     "output_type": "display_data"
    }
   ],
   "source": [
    "N = np.arange(0, max_epochs)\n",
    "plt.style.use(\"ggplot\")\n",
    "plt.figure()\n",
    "plt.plot(N, H.history[\"loss\"], label=\"train_loss\")\n",
    "plt.plot(N, H.history[\"val_loss\"], label=\"val_loss\")\n",
    "#plt.plot(N, H.history[\"accuracy\"], label=\"train_acc\")\n",
    "#plt.plot(N, H.history[\"val_accuracy\"], label=\"val_acc\")\n",
    "plt.xlabel(\"Epoch #\")\n",
    "plt.legend()\n",
    "plt.show()"
   ]
  },
  {
   "cell_type": "markdown",
   "metadata": {},
   "source": [
    "<h1>Evaluasi</h1>"
   ]
  },
  {
   "cell_type": "code",
   "execution_count": 124,
   "metadata": {},
   "outputs": [
    {
     "name": "stdout",
     "output_type": "stream",
     "text": [
      "              precision    recall  f1-score   support\n",
      "\n",
      "  jeruknipis       1.00      0.38      0.55         8\n",
      "     Seledri       0.71      1.00      0.83        12\n",
      "\n",
      "    accuracy                           0.75        20\n",
      "   macro avg       0.85      0.69      0.69        20\n",
      "weighted avg       0.82      0.75      0.71        20\n",
      "\n"
     ]
    }
   ],
   "source": [
    "predictions = model.predict(x_test, batch_size=32)\n",
    "target = (predictions > 0.5).astype(np.int64)\n",
    "print(classification_report(y_test, target, target_names=label_list))"
   ]
  },
  {
   "cell_type": "code",
   "execution_count": 125,
   "metadata": {},
   "outputs": [
    {
     "name": "stdout",
     "output_type": "stream",
     "text": [
      "[[0.850978]]\n"
     ]
    }
   ],
   "source": [
    "# uji model menggunakan image lain\n",
    "queryPath = imagePaths+'tes.jpg'\n",
    "query = cv2.imread(queryPath)\n",
    "output = query.copy()\n",
    "query = cv2.resize(query, (32, 32))\n",
    "q = []\n",
    "q.append(query)\n",
    "q = np.array(q, dtype='float') / 255.0\n",
    "\n",
    "q_pred = model.predict(q)\n",
    "print(q_pred)"
   ]
  },
  {
   "cell_type": "code",
   "execution_count": 126,
   "metadata": {},
   "outputs": [],
   "source": [
    "if q_pred<=0.5 :\n",
    "    target = \"Foto = Jeruk Nipis\"\n",
    "else :\n",
    "    target = \"Foto = Seledri\"\n",
    "text = \"{}\".format(target)\n",
    "cv2.putText(output, text, (10, 30), cv2.FONT_HERSHEY_SIMPLEX, 0.7, (0, 0, 255), 2)\n",
    " \n",
    "# menampilkan output image\n",
    "cv2.imshow('Output', output)\n",
    "cv2.waitKey() # image tidak akan diclose,sebelum user menekan sembarang tombol\n",
    "cv2.destroyWindow('Output') # image akan diclose"
   ]
  }
 ],
 "metadata": {
  "interpreter": {
   "hash": "8da01e5a71448ea74f54d88afa8911010d1d12e23bc7e103d40d5def4a09152c"
  },
  "kernelspec": {
   "display_name": "Python 3.9.5 64-bit",
   "language": "python",
   "name": "python3"
  },
  "language_info": {
   "codemirror_mode": {
    "name": "ipython",
    "version": 3
   },
   "file_extension": ".py",
   "mimetype": "text/x-python",
   "name": "python",
   "nbconvert_exporter": "python",
   "pygments_lexer": "ipython3",
   "version": "3.9.5"
  },
  "orig_nbformat": 4
 },
 "nbformat": 4,
 "nbformat_minor": 2
}
