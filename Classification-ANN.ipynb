{
 "cells": [
  {
   "cell_type": "markdown",
   "metadata": {},
   "source": [
    "<h1>Tugas Pertemuan 5</h1>\n",
    "<h1>Mencoba ANN</h1>"
   ]
  },
  {
   "cell_type": "code",
   "execution_count": 47,
   "metadata": {},
   "outputs": [],
   "source": [
    "from sklearn.model_selection import train_test_split\n",
    "from sklearn.preprocessing import LabelEncoder\n",
    "from sklearn.metrics import classification_report\n",
    "from tensorflow.keras.models import Sequential\n",
    "from tensorflow.keras.layers import Flatten, Dense\n",
    "from tensorflow.keras.optimizers import SGD\n",
    "import numpy as np\n",
    "import cv2\n",
    "import glob\n",
    "import matplotlib.pyplot as plt"
   ]
  },
  {
   "cell_type": "markdown",
   "metadata": {},
   "source": [
    "<h1> Load Data </h1> "
   ]
  },
  {
   "cell_type": "code",
   "execution_count": 48,
   "metadata": {},
   "outputs": [],
   "source": [
    "imagePaths = 'Dataset\\\\'\n",
    "label_list = ['jeruknipis', 'Seledri']\n",
    "data = []\n",
    "labels = []"
   ]
  },
  {
   "cell_type": "code",
   "execution_count": 49,
   "metadata": {},
   "outputs": [],
   "source": [
    "for label in label_list:\n",
    "    for imagePath in glob.glob(imagePaths+label+'\\\\*.jpg'):\n",
    "        #print(imagePath)\n",
    "        image = cv2.imread(imagePath)\n",
    "        image = cv2.resize(image, (32, 32))\n",
    "        data.append(image)\n",
    "        labels.append(label)"
   ]
  },
  {
   "cell_type": "code",
   "execution_count": 50,
   "metadata": {},
   "outputs": [
    {
     "data": {
      "text/plain": [
       "(100, 32, 32, 3)"
      ]
     },
     "execution_count": 50,
     "metadata": {},
     "output_type": "execute_result"
    }
   ],
   "source": [
    "np.array(data).shape"
   ]
  },
  {
   "cell_type": "markdown",
   "metadata": {},
   "source": [
    "<h1>Proses Data</h1>"
   ]
  },
  {
   "cell_type": "code",
   "execution_count": 51,
   "metadata": {},
   "outputs": [],
   "source": [
    "# ubah type data dari list menjadi array\n",
    "# ubah nilai dari tiap pixel menjadi range [0..1]\n",
    "data = np.array(data, dtype='float') / 255.0\n",
    "labels = np.array(labels)"
   ]
  },
  {
   "cell_type": "code",
   "execution_count": 52,
   "metadata": {},
   "outputs": [
    {
     "name": "stdout",
     "output_type": "stream",
     "text": [
      "['jeruknipis' 'jeruknipis' 'jeruknipis' 'jeruknipis' 'jeruknipis'\n",
      " 'jeruknipis' 'jeruknipis' 'jeruknipis' 'jeruknipis' 'jeruknipis'\n",
      " 'jeruknipis' 'jeruknipis' 'jeruknipis' 'jeruknipis' 'jeruknipis'\n",
      " 'jeruknipis' 'jeruknipis' 'jeruknipis' 'jeruknipis' 'jeruknipis'\n",
      " 'jeruknipis' 'jeruknipis' 'jeruknipis' 'jeruknipis' 'jeruknipis'\n",
      " 'jeruknipis' 'jeruknipis' 'jeruknipis' 'jeruknipis' 'jeruknipis'\n",
      " 'jeruknipis' 'jeruknipis' 'jeruknipis' 'jeruknipis' 'jeruknipis'\n",
      " 'jeruknipis' 'jeruknipis' 'jeruknipis' 'jeruknipis' 'jeruknipis'\n",
      " 'jeruknipis' 'jeruknipis' 'jeruknipis' 'jeruknipis' 'jeruknipis'\n",
      " 'jeruknipis' 'jeruknipis' 'jeruknipis' 'jeruknipis' 'jeruknipis'\n",
      " 'Seledri' 'Seledri' 'Seledri' 'Seledri' 'Seledri' 'Seledri' 'Seledri'\n",
      " 'Seledri' 'Seledri' 'Seledri' 'Seledri' 'Seledri' 'Seledri' 'Seledri'\n",
      " 'Seledri' 'Seledri' 'Seledri' 'Seledri' 'Seledri' 'Seledri' 'Seledri'\n",
      " 'Seledri' 'Seledri' 'Seledri' 'Seledri' 'Seledri' 'Seledri' 'Seledri'\n",
      " 'Seledri' 'Seledri' 'Seledri' 'Seledri' 'Seledri' 'Seledri' 'Seledri'\n",
      " 'Seledri' 'Seledri' 'Seledri' 'Seledri' 'Seledri' 'Seledri' 'Seledri'\n",
      " 'Seledri' 'Seledri' 'Seledri' 'Seledri' 'Seledri' 'Seledri' 'Seledri'\n",
      " 'Seledri']\n"
     ]
    }
   ],
   "source": [
    "print(labels)"
   ]
  },
  {
   "cell_type": "code",
   "execution_count": 53,
   "metadata": {},
   "outputs": [
    {
     "name": "stdout",
     "output_type": "stream",
     "text": [
      "[1 1 1 1 1 1 1 1 1 1 1 1 1 1 1 1 1 1 1 1 1 1 1 1 1 1 1 1 1 1 1 1 1 1 1 1 1\n",
      " 1 1 1 1 1 1 1 1 1 1 1 1 1 0 0 0 0 0 0 0 0 0 0 0 0 0 0 0 0 0 0 0 0 0 0 0 0\n",
      " 0 0 0 0 0 0 0 0 0 0 0 0 0 0 0 0 0 0 0 0 0 0 0 0 0 0]\n"
     ]
    }
   ],
   "source": [
    "lb = LabelEncoder()\n",
    "labels = lb.fit_transform(labels)\n",
    "print(labels)"
   ]
  },
  {
   "cell_type": "markdown",
   "metadata": {},
   "source": [
    "<h1> Split Data </h1>"
   ]
  },
  {
   "cell_type": "code",
   "execution_count": 54,
   "metadata": {},
   "outputs": [],
   "source": [
    "x_train, x_test, y_train, y_test = train_test_split(data, labels, test_size=0.2, random_state=42)"
   ]
  },
  {
   "cell_type": "code",
   "execution_count": 55,
   "metadata": {},
   "outputs": [
    {
     "name": "stdout",
     "output_type": "stream",
     "text": [
      "Ukuran data train = (80, 32, 32, 3)\n",
      "Ukuran data test = (20, 32, 32, 3)\n"
     ]
    }
   ],
   "source": [
    "print('Ukuran data train =', x_train.shape)\n",
    "print('Ukuran data test =', x_test.shape)"
   ]
  },
  {
   "cell_type": "markdown",
   "metadata": {},
   "source": [
    "<h1>Build ANN</h1>"
   ]
  },
  {
   "cell_type": "code",
   "execution_count": 56,
   "metadata": {},
   "outputs": [],
   "source": [
    "model = Sequential()\n",
    "model.add(Flatten(input_shape=(32,32,3)))\n",
    "model.add(Dense(1024, activation=\"relu\"))\n",
    "model.add(Dense(1024, activation=\"relu\"))\n",
    "model.add(Dense(1, activation=\"sigmoid\"))"
   ]
  },
  {
   "cell_type": "code",
   "execution_count": 57,
   "metadata": {},
   "outputs": [
    {
     "name": "stdout",
     "output_type": "stream",
     "text": [
      "Model: \"sequential_3\"\n",
      "_________________________________________________________________\n",
      " Layer (type)                Output Shape              Param #   \n",
      "=================================================================\n",
      " flatten_1 (Flatten)         (None, 3072)              0         \n",
      "                                                                 \n",
      " dense_9 (Dense)             (None, 1024)              3146752   \n",
      "                                                                 \n",
      " dense_10 (Dense)            (None, 1024)              1049600   \n",
      "                                                                 \n",
      " dense_11 (Dense)            (None, 1)                 1025      \n",
      "                                                                 \n",
      "=================================================================\n",
      "Total params: 4,197,377\n",
      "Trainable params: 4,197,377\n",
      "Non-trainable params: 0\n",
      "_________________________________________________________________\n"
     ]
    }
   ],
   "source": [
    "model.summary()"
   ]
  },
  {
   "cell_type": "code",
   "execution_count": 58,
   "metadata": {},
   "outputs": [],
   "source": [
    "lr = 0.01\n",
    "max_epochs = 100\n",
    "opt_funct = SGD(learning_rate=lr)"
   ]
  },
  {
   "cell_type": "code",
   "execution_count": 59,
   "metadata": {},
   "outputs": [],
   "source": [
    "model.compile(loss = 'binary_crossentropy', \n",
    "              optimizer = opt_funct, \n",
    "              metrics = ['accuracy'])"
   ]
  },
  {
   "cell_type": "markdown",
   "metadata": {},
   "source": [
    "<h1> Train Model </h1>"
   ]
  },
  {
   "cell_type": "code",
   "execution_count": 60,
   "metadata": {},
   "outputs": [
    {
     "name": "stdout",
     "output_type": "stream",
     "text": [
      "Epoch 1/100\n",
      "3/3 [==============================] - 1s 206ms/step - loss: 1.7318 - accuracy: 0.5250 - val_loss: 1.0236 - val_accuracy: 0.6000\n",
      "Epoch 2/100\n",
      "3/3 [==============================] - 0s 29ms/step - loss: 1.5583 - accuracy: 0.4250 - val_loss: 1.0603 - val_accuracy: 0.4000\n",
      "Epoch 3/100\n",
      "3/3 [==============================] - 0s 42ms/step - loss: 0.6766 - accuracy: 0.5625 - val_loss: 0.6415 - val_accuracy: 0.7500\n",
      "Epoch 4/100\n",
      "3/3 [==============================] - 0s 30ms/step - loss: 0.6494 - accuracy: 0.6000 - val_loss: 0.6614 - val_accuracy: 0.6000\n",
      "Epoch 5/100\n",
      "3/3 [==============================] - 0s 25ms/step - loss: 0.7352 - accuracy: 0.5000 - val_loss: 0.8866 - val_accuracy: 0.4000\n",
      "Epoch 6/100\n",
      "3/3 [==============================] - 0s 27ms/step - loss: 0.8225 - accuracy: 0.4500 - val_loss: 0.7160 - val_accuracy: 0.6000\n",
      "Epoch 7/100\n",
      "3/3 [==============================] - 0s 32ms/step - loss: 0.7363 - accuracy: 0.5250 - val_loss: 0.7424 - val_accuracy: 0.4000\n",
      "Epoch 8/100\n",
      "3/3 [==============================] - 0s 36ms/step - loss: 0.6106 - accuracy: 0.7250 - val_loss: 0.6523 - val_accuracy: 0.5500\n",
      "Epoch 9/100\n",
      "3/3 [==============================] - 0s 42ms/step - loss: 0.5928 - accuracy: 0.8000 - val_loss: 0.6260 - val_accuracy: 0.8500\n",
      "Epoch 10/100\n",
      "3/3 [==============================] - 0s 41ms/step - loss: 0.6230 - accuracy: 0.7625 - val_loss: 0.7370 - val_accuracy: 0.6000\n",
      "Epoch 11/100\n",
      "3/3 [==============================] - 0s 43ms/step - loss: 0.9494 - accuracy: 0.4250 - val_loss: 0.7336 - val_accuracy: 0.4000\n",
      "Epoch 12/100\n",
      "3/3 [==============================] - 0s 43ms/step - loss: 0.6265 - accuracy: 0.6125 - val_loss: 1.0006 - val_accuracy: 0.4000\n",
      "Epoch 13/100\n",
      "3/3 [==============================] - 0s 40ms/step - loss: 0.6845 - accuracy: 0.5625 - val_loss: 0.5963 - val_accuracy: 0.8000\n",
      "Epoch 14/100\n",
      "3/3 [==============================] - 0s 46ms/step - loss: 0.6728 - accuracy: 0.6125 - val_loss: 0.8723 - val_accuracy: 0.4000\n",
      "Epoch 15/100\n",
      "3/3 [==============================] - 0s 28ms/step - loss: 0.6104 - accuracy: 0.6625 - val_loss: 0.7709 - val_accuracy: 0.4000\n",
      "Epoch 16/100\n",
      "3/3 [==============================] - 0s 33ms/step - loss: 0.6183 - accuracy: 0.5875 - val_loss: 0.6747 - val_accuracy: 0.4000\n",
      "Epoch 17/100\n",
      "3/3 [==============================] - 0s 41ms/step - loss: 0.5706 - accuracy: 0.5625 - val_loss: 0.6093 - val_accuracy: 0.8500\n",
      "Epoch 18/100\n",
      "3/3 [==============================] - 0s 37ms/step - loss: 0.5478 - accuracy: 0.8875 - val_loss: 0.8667 - val_accuracy: 0.4000\n",
      "Epoch 19/100\n",
      "3/3 [==============================] - 0s 45ms/step - loss: 0.7828 - accuracy: 0.4750 - val_loss: 0.5954 - val_accuracy: 0.8000\n",
      "Epoch 20/100\n",
      "3/3 [==============================] - 0s 36ms/step - loss: 0.5724 - accuracy: 0.8000 - val_loss: 0.6211 - val_accuracy: 0.6000\n",
      "Epoch 21/100\n",
      "3/3 [==============================] - 0s 34ms/step - loss: 0.6069 - accuracy: 0.6000 - val_loss: 0.5574 - val_accuracy: 0.8000\n",
      "Epoch 22/100\n",
      "3/3 [==============================] - 0s 32ms/step - loss: 0.5262 - accuracy: 0.9250 - val_loss: 0.6087 - val_accuracy: 0.6000\n",
      "Epoch 23/100\n",
      "3/3 [==============================] - 0s 44ms/step - loss: 0.5513 - accuracy: 0.7250 - val_loss: 0.6121 - val_accuracy: 0.6000\n",
      "Epoch 24/100\n",
      "3/3 [==============================] - 0s 45ms/step - loss: 0.5593 - accuracy: 0.6500 - val_loss: 0.8594 - val_accuracy: 0.4000\n",
      "Epoch 25/100\n",
      "3/3 [==============================] - 0s 45ms/step - loss: 0.6578 - accuracy: 0.5125 - val_loss: 0.5752 - val_accuracy: 0.6000\n",
      "Epoch 26/100\n",
      "3/3 [==============================] - 0s 45ms/step - loss: 0.8039 - accuracy: 0.4375 - val_loss: 0.8112 - val_accuracy: 0.4000\n",
      "Epoch 27/100\n",
      "3/3 [==============================] - 0s 41ms/step - loss: 0.6082 - accuracy: 0.6000 - val_loss: 0.5626 - val_accuracy: 0.8500\n",
      "Epoch 28/100\n",
      "3/3 [==============================] - 0s 37ms/step - loss: 0.5099 - accuracy: 0.8375 - val_loss: 1.1828 - val_accuracy: 0.4000\n",
      "Epoch 29/100\n",
      "3/3 [==============================] - 0s 41ms/step - loss: 0.5747 - accuracy: 0.7750 - val_loss: 0.5479 - val_accuracy: 0.8500\n",
      "Epoch 30/100\n",
      "3/3 [==============================] - 0s 37ms/step - loss: 0.5033 - accuracy: 0.8125 - val_loss: 0.5869 - val_accuracy: 0.7500\n",
      "Epoch 31/100\n",
      "3/3 [==============================] - 0s 33ms/step - loss: 0.5279 - accuracy: 0.7375 - val_loss: 0.5329 - val_accuracy: 0.7000\n",
      "Epoch 32/100\n",
      "3/3 [==============================] - 0s 41ms/step - loss: 0.6000 - accuracy: 0.5750 - val_loss: 0.5808 - val_accuracy: 0.8500\n",
      "Epoch 33/100\n",
      "3/3 [==============================] - 0s 42ms/step - loss: 0.4783 - accuracy: 0.8625 - val_loss: 0.7155 - val_accuracy: 0.4000\n",
      "Epoch 34/100\n",
      "3/3 [==============================] - 0s 33ms/step - loss: 0.6956 - accuracy: 0.4750 - val_loss: 0.5455 - val_accuracy: 0.6500\n",
      "Epoch 35/100\n",
      "3/3 [==============================] - 0s 36ms/step - loss: 0.6245 - accuracy: 0.5375 - val_loss: 0.5770 - val_accuracy: 0.8500\n",
      "Epoch 36/100\n",
      "3/3 [==============================] - 0s 40ms/step - loss: 0.4734 - accuracy: 0.9125 - val_loss: 0.8469 - val_accuracy: 0.4000\n",
      "Epoch 37/100\n",
      "3/3 [==============================] - 0s 42ms/step - loss: 0.7852 - accuracy: 0.4500 - val_loss: 0.5346 - val_accuracy: 0.7000\n",
      "Epoch 38/100\n",
      "3/3 [==============================] - 0s 30ms/step - loss: 0.4996 - accuracy: 0.7750 - val_loss: 0.5696 - val_accuracy: 0.6000\n",
      "Epoch 39/100\n",
      "3/3 [==============================] - 0s 32ms/step - loss: 0.6471 - accuracy: 0.5000 - val_loss: 0.8611 - val_accuracy: 0.4000\n",
      "Epoch 40/100\n",
      "3/3 [==============================] - 0s 37ms/step - loss: 0.5914 - accuracy: 0.5875 - val_loss: 0.5298 - val_accuracy: 0.7000\n",
      "Epoch 41/100\n",
      "3/3 [==============================] - 0s 28ms/step - loss: 0.5825 - accuracy: 0.5750 - val_loss: 0.5477 - val_accuracy: 0.8500\n",
      "Epoch 42/100\n",
      "3/3 [==============================] - 0s 34ms/step - loss: 0.4626 - accuracy: 0.9125 - val_loss: 0.8855 - val_accuracy: 0.4000\n",
      "Epoch 43/100\n",
      "3/3 [==============================] - 0s 40ms/step - loss: 0.5984 - accuracy: 0.5500 - val_loss: 0.5797 - val_accuracy: 0.6000\n",
      "Epoch 44/100\n",
      "3/3 [==============================] - 0s 37ms/step - loss: 0.5008 - accuracy: 0.7500 - val_loss: 0.5119 - val_accuracy: 0.8000\n",
      "Epoch 45/100\n",
      "3/3 [==============================] - 0s 26ms/step - loss: 0.4287 - accuracy: 0.9750 - val_loss: 0.4879 - val_accuracy: 0.8000\n",
      "Epoch 46/100\n",
      "3/3 [==============================] - 0s 33ms/step - loss: 0.4480 - accuracy: 0.8125 - val_loss: 0.8856 - val_accuracy: 0.4000\n",
      "Epoch 47/100\n",
      "3/3 [==============================] - 0s 42ms/step - loss: 0.9144 - accuracy: 0.5250 - val_loss: 0.7964 - val_accuracy: 0.4000\n",
      "Epoch 48/100\n",
      "3/3 [==============================] - 0s 43ms/step - loss: 0.5544 - accuracy: 0.6750 - val_loss: 0.5317 - val_accuracy: 0.8500\n",
      "Epoch 49/100\n",
      "3/3 [==============================] - 0s 35ms/step - loss: 0.4314 - accuracy: 0.9375 - val_loss: 0.6195 - val_accuracy: 0.5500\n",
      "Epoch 50/100\n",
      "3/3 [==============================] - 0s 47ms/step - loss: 0.5424 - accuracy: 0.6375 - val_loss: 0.6916 - val_accuracy: 0.6000\n",
      "Epoch 51/100\n",
      "3/3 [==============================] - 0s 46ms/step - loss: 0.4760 - accuracy: 0.8000 - val_loss: 0.5418 - val_accuracy: 0.8500\n",
      "Epoch 52/100\n",
      "3/3 [==============================] - 0s 26ms/step - loss: 0.4660 - accuracy: 0.7375 - val_loss: 0.5128 - val_accuracy: 0.7000\n",
      "Epoch 53/100\n",
      "3/3 [==============================] - 0s 28ms/step - loss: 0.3885 - accuracy: 0.9000 - val_loss: 0.7070 - val_accuracy: 0.4500\n",
      "Epoch 54/100\n",
      "3/3 [==============================] - 0s 31ms/step - loss: 0.6949 - accuracy: 0.5250 - val_loss: 0.6452 - val_accuracy: 0.6000\n",
      "Epoch 55/100\n",
      "3/3 [==============================] - 0s 42ms/step - loss: 0.8206 - accuracy: 0.4875 - val_loss: 0.5071 - val_accuracy: 0.8000\n",
      "Epoch 56/100\n",
      "3/3 [==============================] - 0s 37ms/step - loss: 0.5531 - accuracy: 0.7625 - val_loss: 1.0393 - val_accuracy: 0.4000\n",
      "Epoch 57/100\n",
      "3/3 [==============================] - 0s 36ms/step - loss: 0.5298 - accuracy: 0.7875 - val_loss: 0.6430 - val_accuracy: 0.5000\n",
      "Epoch 58/100\n",
      "3/3 [==============================] - 0s 32ms/step - loss: 0.4265 - accuracy: 0.8875 - val_loss: 0.6162 - val_accuracy: 0.6000\n",
      "Epoch 59/100\n",
      "3/3 [==============================] - 0s 32ms/step - loss: 0.4054 - accuracy: 0.9500 - val_loss: 0.6537 - val_accuracy: 0.4500\n",
      "Epoch 60/100\n",
      "3/3 [==============================] - 0s 42ms/step - loss: 0.4538 - accuracy: 0.7375 - val_loss: 0.5507 - val_accuracy: 0.7500\n",
      "Epoch 61/100\n",
      "3/3 [==============================] - 0s 34ms/step - loss: 0.3768 - accuracy: 0.9125 - val_loss: 0.4954 - val_accuracy: 0.8500\n",
      "Epoch 62/100\n",
      "3/3 [==============================] - 0s 42ms/step - loss: 0.4354 - accuracy: 0.7875 - val_loss: 0.4597 - val_accuracy: 0.8000\n",
      "Epoch 63/100\n",
      "3/3 [==============================] - 0s 43ms/step - loss: 0.5116 - accuracy: 0.7375 - val_loss: 1.4600 - val_accuracy: 0.4000\n",
      "Epoch 64/100\n",
      "3/3 [==============================] - 0s 43ms/step - loss: 0.6597 - accuracy: 0.6500 - val_loss: 0.6225 - val_accuracy: 0.6000\n",
      "Epoch 65/100\n",
      "3/3 [==============================] - 0s 42ms/step - loss: 0.9270 - accuracy: 0.4625 - val_loss: 0.5104 - val_accuracy: 0.8000\n",
      "Epoch 66/100\n",
      "3/3 [==============================] - 0s 42ms/step - loss: 0.4762 - accuracy: 0.8500 - val_loss: 0.7094 - val_accuracy: 0.4000\n",
      "Epoch 67/100\n",
      "3/3 [==============================] - 0s 37ms/step - loss: 0.4406 - accuracy: 0.8000 - val_loss: 1.0132 - val_accuracy: 0.4000\n",
      "Epoch 68/100\n",
      "3/3 [==============================] - 0s 42ms/step - loss: 0.6246 - accuracy: 0.6250 - val_loss: 0.5745 - val_accuracy: 0.7000\n",
      "Epoch 69/100\n",
      "3/3 [==============================] - 0s 41ms/step - loss: 0.4541 - accuracy: 0.7375 - val_loss: 0.4562 - val_accuracy: 0.9000\n",
      "Epoch 70/100\n",
      "3/3 [==============================] - 0s 32ms/step - loss: 0.4849 - accuracy: 0.7125 - val_loss: 0.4792 - val_accuracy: 0.8000\n",
      "Epoch 71/100\n",
      "3/3 [==============================] - 0s 44ms/step - loss: 0.4150 - accuracy: 0.8375 - val_loss: 0.7582 - val_accuracy: 0.4000\n",
      "Epoch 72/100\n",
      "3/3 [==============================] - 0s 42ms/step - loss: 0.5850 - accuracy: 0.5750 - val_loss: 0.4556 - val_accuracy: 0.9000\n",
      "Epoch 73/100\n",
      "3/3 [==============================] - 0s 45ms/step - loss: 0.3648 - accuracy: 0.9250 - val_loss: 0.4580 - val_accuracy: 0.8500\n",
      "Epoch 74/100\n",
      "3/3 [==============================] - 0s 43ms/step - loss: 0.5090 - accuracy: 0.7375 - val_loss: 0.6796 - val_accuracy: 0.6000\n",
      "Epoch 75/100\n",
      "3/3 [==============================] - 0s 43ms/step - loss: 0.4957 - accuracy: 0.7625 - val_loss: 0.5379 - val_accuracy: 0.8500\n",
      "Epoch 76/100\n",
      "3/3 [==============================] - 0s 41ms/step - loss: 0.3532 - accuracy: 0.9375 - val_loss: 0.4870 - val_accuracy: 0.8500\n",
      "Epoch 77/100\n",
      "3/3 [==============================] - 0s 39ms/step - loss: 0.3988 - accuracy: 0.8500 - val_loss: 0.7104 - val_accuracy: 0.6000\n",
      "Epoch 78/100\n",
      "3/3 [==============================] - 0s 43ms/step - loss: 0.4453 - accuracy: 0.8250 - val_loss: 0.6996 - val_accuracy: 0.5000\n",
      "Epoch 79/100\n",
      "3/3 [==============================] - 0s 44ms/step - loss: 0.4091 - accuracy: 0.7875 - val_loss: 0.4344 - val_accuracy: 0.8000\n",
      "Epoch 80/100\n",
      "3/3 [==============================] - 0s 41ms/step - loss: 0.3331 - accuracy: 0.9250 - val_loss: 0.4371 - val_accuracy: 0.8500\n",
      "Epoch 81/100\n",
      "3/3 [==============================] - 0s 41ms/step - loss: 0.3361 - accuracy: 0.9125 - val_loss: 0.7246 - val_accuracy: 0.6000\n",
      "Epoch 82/100\n",
      "3/3 [==============================] - 0s 44ms/step - loss: 0.7282 - accuracy: 0.5250 - val_loss: 1.4252 - val_accuracy: 0.4000\n",
      "Epoch 83/100\n",
      "3/3 [==============================] - 0s 42ms/step - loss: 0.6101 - accuracy: 0.7500 - val_loss: 0.4314 - val_accuracy: 0.9000\n",
      "Epoch 84/100\n",
      "3/3 [==============================] - 0s 43ms/step - loss: 0.3987 - accuracy: 0.8750 - val_loss: 0.8744 - val_accuracy: 0.4000\n",
      "Epoch 85/100\n",
      "3/3 [==============================] - 0s 35ms/step - loss: 0.5310 - accuracy: 0.6000 - val_loss: 0.8237 - val_accuracy: 0.6000\n",
      "Epoch 86/100\n",
      "3/3 [==============================] - 0s 35ms/step - loss: 0.7372 - accuracy: 0.5750 - val_loss: 0.4791 - val_accuracy: 0.7000\n",
      "Epoch 87/100\n",
      "3/3 [==============================] - 0s 33ms/step - loss: 0.4063 - accuracy: 0.8125 - val_loss: 0.7545 - val_accuracy: 0.4500\n",
      "Epoch 88/100\n",
      "3/3 [==============================] - 0s 29ms/step - loss: 0.4740 - accuracy: 0.6625 - val_loss: 0.4435 - val_accuracy: 0.8000\n",
      "Epoch 89/100\n",
      "3/3 [==============================] - 0s 31ms/step - loss: 0.3963 - accuracy: 0.8250 - val_loss: 0.4986 - val_accuracy: 0.8500\n",
      "Epoch 90/100\n",
      "3/3 [==============================] - 0s 42ms/step - loss: 0.3630 - accuracy: 0.8875 - val_loss: 0.7100 - val_accuracy: 0.6000\n",
      "Epoch 91/100\n",
      "3/3 [==============================] - 0s 42ms/step - loss: 0.7472 - accuracy: 0.5250 - val_loss: 0.6672 - val_accuracy: 0.5000\n",
      "Epoch 92/100\n",
      "3/3 [==============================] - 0s 38ms/step - loss: 0.3699 - accuracy: 0.8875 - val_loss: 0.7972 - val_accuracy: 0.4500\n",
      "Epoch 93/100\n",
      "3/3 [==============================] - 0s 41ms/step - loss: 0.4936 - accuracy: 0.6500 - val_loss: 0.4243 - val_accuracy: 0.8500\n",
      "Epoch 94/100\n",
      "3/3 [==============================] - 0s 42ms/step - loss: 0.4398 - accuracy: 0.7750 - val_loss: 0.4421 - val_accuracy: 0.8500\n",
      "Epoch 95/100\n",
      "3/3 [==============================] - 0s 42ms/step - loss: 0.3326 - accuracy: 0.9250 - val_loss: 0.4268 - val_accuracy: 0.8500\n",
      "Epoch 96/100\n",
      "3/3 [==============================] - 0s 42ms/step - loss: 0.2919 - accuracy: 0.9500 - val_loss: 0.4169 - val_accuracy: 0.8500\n",
      "Epoch 97/100\n",
      "3/3 [==============================] - 0s 43ms/step - loss: 0.2932 - accuracy: 0.9250 - val_loss: 0.4943 - val_accuracy: 0.7000\n",
      "Epoch 98/100\n",
      "3/3 [==============================] - 0s 33ms/step - loss: 0.7154 - accuracy: 0.5750 - val_loss: 0.7834 - val_accuracy: 0.4000\n",
      "Epoch 99/100\n",
      "3/3 [==============================] - 0s 43ms/step - loss: 0.4969 - accuracy: 0.6750 - val_loss: 0.5382 - val_accuracy: 0.7000\n",
      "Epoch 100/100\n",
      "3/3 [==============================] - 0s 42ms/step - loss: 0.7063 - accuracy: 0.4875 - val_loss: 0.4986 - val_accuracy: 0.8000\n"
     ]
    }
   ],
   "source": [
    "H = model.fit(x_train, y_train, validation_data=(x_test, y_test), \n",
    "          epochs=max_epochs, batch_size=32)"
   ]
  },
  {
   "cell_type": "code",
   "execution_count": 61,
   "metadata": {},
   "outputs": [
    {
     "data": {
      "image/png": "[encoded data removed]",
      "text/plain": [
       "<Figure size 432x288 with 1 Axes>"
      ]
     },
     "metadata": {},
     "output_type": "display_data"
    }
   ],
   "source": [
    "N = np.arange(0, max_epochs)\n",
    "plt.style.use(\"ggplot\")\n",
    "plt.figure()\n",
    "plt.plot(N, H.history[\"loss\"], label=\"train_loss\")\n",
    "plt.plot(N, H.history[\"val_loss\"], label=\"val_loss\")\n",
    "#plt.plot(N, H.history[\"accuracy\"], label=\"train_acc\")\n",
    "#plt.plot(N, H.history[\"val_accuracy\"], label=\"val_acc\")\n",
    "plt.xlabel(\"Epoch #\")\n",
    "plt.legend()\n",
    "plt.show()"
   ]
  },
  {
   "cell_type": "markdown",
   "metadata": {},
   "source": [
    "<h1>Evaluasi</h1>"
   ]
  },
  {
   "cell_type": "code",
   "execution_count": 62,
   "metadata": {},
   "outputs": [
    {
     "name": "stdout",
     "output_type": "stream",
     "text": [
      "              precision    recall  f1-score   support\n",
      "\n",
      "  jeruknipis       0.75      0.75      0.75         8\n",
      "     Seledri       0.83      0.83      0.83        12\n",
      "\n",
      "    accuracy                           0.80        20\n",
      "   macro avg       0.79      0.79      0.79        20\n",
      "weighted avg       0.80      0.80      0.80        20\n",
      "\n"
     ]
    },
    {
     "name": "stderr",
     "output_type": "stream",
     "text": [
      "C:\\Users\\LENOVO\\AppData\\Local\\Temp/ipykernel_5740/2175272745.py:2: DeprecationWarning: `np.int` is a deprecated alias for the builtin `int`. To silence this warning, use `int` by itself. Doing this will not modify any behavior and is safe. When replacing `np.int`, you may wish to use e.g. `np.int64` or `np.int32` to specify the precision. If you wish to review your current use, check the release note link for additional information.\n",
      "Deprecated in NumPy 1.20; for more details and guidance: https://numpy.org/devdocs/release/1.20.0-notes.html#deprecations\n",
      "  target = (predictions > 0.5).astype(np.int)\n"
     ]
    }
   ],
   "source": [
    "predictions = model.predict(x_test, batch_size=32)\n",
    "target = (predictions > 0.5).astype(np.int)\n",
    "print(classification_report(y_test, target, target_names=label_list))"
   ]
  }
 ],
 "metadata": {
  "interpreter": {
   "hash": "8da01e5a71448ea74f54d88afa8911010d1d12e23bc7e103d40d5def4a09152c"
  },
  "kernelspec": {
   "display_name": "Python 3.9.5 64-bit",
   "language": "python",
   "name": "python3"
  },
  "language_info": {
   "codemirror_mode": {
    "name": "ipython",
    "version": 3
   },
   "file_extension": ".py",
   "mimetype": "text/x-python",
   "name": "python",
   "nbconvert_exporter": "python",
   "pygments_lexer": "ipython3",
   "version": "3.9.5"
  },
  "orig_nbformat": 4
 },
 "nbformat": 4,
 "nbformat_minor": 2
}
