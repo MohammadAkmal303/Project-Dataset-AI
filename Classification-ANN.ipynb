{
 "cells": [
  {
   "cell_type": "markdown",
   "metadata": {},
   "source": [
    "<h1>Tugas Pertemuan 5</h1>\n",
    "<h1>Mencoba ANN</h1>"
   ]
  },
  {
   "cell_type": "code",
   "execution_count": 34,
   "metadata": {},
   "outputs": [],
   "source": [
    "from sklearn.model_selection import train_test_split\n",
    "from sklearn.preprocessing import LabelEncoder\n",
    "from sklearn.metrics import classification_report\n",
    "from tensorflow.keras.models import Sequential\n",
    "from tensorflow.keras.layers import Flatten, Dense\n",
    "from tensorflow.keras.optimizers import SGD\n",
    "import numpy as np\n",
    "import cv2\n",
    "import glob\n",
    "import matplotlib.pyplot as plt"
   ]
  },
  {
   "cell_type": "markdown",
   "metadata": {},
   "source": [
    "<h1> Load Data </h1> "
   ]
  },
  {
   "cell_type": "code",
   "execution_count": 35,
   "metadata": {},
   "outputs": [],
   "source": [
    "imagePaths = 'Dataset\\\\'\n",
    "label_list = ['jeruknipis', 'Seledri']\n",
    "data = []\n",
    "labels = []"
   ]
  },
  {
   "cell_type": "code",
   "execution_count": 36,
   "metadata": {},
   "outputs": [],
   "source": [
    "for label in label_list:\n",
    "    for imagePath in glob.glob(imagePaths+label+'\\\\*.jpg'):\n",
    "        #print(imagePath)\n",
    "        image = cv2.imread(imagePath)\n",
    "        image = cv2.resize(image, (32, 32))\n",
    "        data.append(image)\n",
    "        labels.append(label)"
   ]
  },
  {
   "cell_type": "code",
   "execution_count": 37,
   "metadata": {},
   "outputs": [
    {
     "data": {
      "text/plain": [
       "(100, 32, 32, 3)"
      ]
     },
     "execution_count": 37,
     "metadata": {},
     "output_type": "execute_result"
    }
   ],
   "source": [
    "np.array(data).shape"
   ]
  },
  {
   "cell_type": "markdown",
   "metadata": {},
   "source": [
    "<h1>Proses Data</h1>"
   ]
  },
  {
   "cell_type": "code",
   "execution_count": 38,
   "metadata": {},
   "outputs": [],
   "source": [
    "# ubah type data dari list menjadi array\n",
    "# ubah nilai dari tiap pixel menjadi range [0..1]\n",
    "data = np.array(data, dtype='float') / 255.0\n",
    "labels = np.array(labels)"
   ]
  },
  {
   "cell_type": "code",
   "execution_count": 39,
   "metadata": {},
   "outputs": [
    {
     "name": "stdout",
     "output_type": "stream",
     "text": [
      "['jeruknipis' 'jeruknipis' 'jeruknipis' 'jeruknipis' 'jeruknipis'\n",
      " 'jeruknipis' 'jeruknipis' 'jeruknipis' 'jeruknipis' 'jeruknipis'\n",
      " 'jeruknipis' 'jeruknipis' 'jeruknipis' 'jeruknipis' 'jeruknipis'\n",
      " 'jeruknipis' 'jeruknipis' 'jeruknipis' 'jeruknipis' 'jeruknipis'\n",
      " 'jeruknipis' 'jeruknipis' 'jeruknipis' 'jeruknipis' 'jeruknipis'\n",
      " 'jeruknipis' 'jeruknipis' 'jeruknipis' 'jeruknipis' 'jeruknipis'\n",
      " 'jeruknipis' 'jeruknipis' 'jeruknipis' 'jeruknipis' 'jeruknipis'\n",
      " 'jeruknipis' 'jeruknipis' 'jeruknipis' 'jeruknipis' 'jeruknipis'\n",
      " 'jeruknipis' 'jeruknipis' 'jeruknipis' 'jeruknipis' 'jeruknipis'\n",
      " 'jeruknipis' 'jeruknipis' 'jeruknipis' 'jeruknipis' 'jeruknipis'\n",
      " 'Seledri' 'Seledri' 'Seledri' 'Seledri' 'Seledri' 'Seledri' 'Seledri'\n",
      " 'Seledri' 'Seledri' 'Seledri' 'Seledri' 'Seledri' 'Seledri' 'Seledri'\n",
      " 'Seledri' 'Seledri' 'Seledri' 'Seledri' 'Seledri' 'Seledri' 'Seledri'\n",
      " 'Seledri' 'Seledri' 'Seledri' 'Seledri' 'Seledri' 'Seledri' 'Seledri'\n",
      " 'Seledri' 'Seledri' 'Seledri' 'Seledri' 'Seledri' 'Seledri' 'Seledri'\n",
      " 'Seledri' 'Seledri' 'Seledri' 'Seledri' 'Seledri' 'Seledri' 'Seledri'\n",
      " 'Seledri' 'Seledri' 'Seledri' 'Seledri' 'Seledri' 'Seledri' 'Seledri'\n",
      " 'Seledri']\n"
     ]
    }
   ],
   "source": [
    "print(labels)"
   ]
  },
  {
   "cell_type": "code",
   "execution_count": 40,
   "metadata": {},
   "outputs": [
    {
     "name": "stdout",
     "output_type": "stream",
     "text": [
      "[1 1 1 1 1 1 1 1 1 1 1 1 1 1 1 1 1 1 1 1 1 1 1 1 1 1 1 1 1 1 1 1 1 1 1 1 1\n",
      " 1 1 1 1 1 1 1 1 1 1 1 1 1 0 0 0 0 0 0 0 0 0 0 0 0 0 0 0 0 0 0 0 0 0 0 0 0\n",
      " 0 0 0 0 0 0 0 0 0 0 0 0 0 0 0 0 0 0 0 0 0 0 0 0 0 0]\n"
     ]
    }
   ],
   "source": [
    "lb = LabelEncoder()\n",
    "labels = lb.fit_transform(labels)\n",
    "print(labels)"
   ]
  },
  {
   "cell_type": "markdown",
   "metadata": {},
   "source": [
    "<h1> Split Data </h1>"
   ]
  },
  {
   "cell_type": "code",
   "execution_count": 41,
   "metadata": {},
   "outputs": [],
   "source": [
    "x_train, x_test, y_train, y_test = train_test_split(data, labels, test_size=0.2, random_state=42)"
   ]
  },
  {
   "cell_type": "code",
   "execution_count": 42,
   "metadata": {},
   "outputs": [
    {
     "name": "stdout",
     "output_type": "stream",
     "text": [
      "Ukuran data train = (80, 32, 32, 3)\n",
      "Ukuran data test = (20, 32, 32, 3)\n"
     ]
    }
   ],
   "source": [
    "print('Ukuran data train =', x_train.shape)\n",
    "print('Ukuran data test =', x_test.shape)"
   ]
  },
  {
   "cell_type": "markdown",
   "metadata": {},
   "source": [
    "<h1>Build ANN</h1>"
   ]
  },
  {
   "cell_type": "code",
   "execution_count": 43,
   "metadata": {},
   "outputs": [],
   "source": [
    "model = Sequential()\n",
    "model.add(Flatten(input_shape=(32,32,3)))\n",
    "model.add(Dense(1024, activation=\"relu\"))\n",
    "model.add(Dense(1024, activation=\"relu\"))\n",
    "model.add(Dense(1, activation=\"sigmoid\"))"
   ]
  },
  {
   "cell_type": "code",
   "execution_count": 44,
   "metadata": {},
   "outputs": [
    {
     "name": "stdout",
     "output_type": "stream",
     "text": [
      "Model: \"sequential_2\"\n",
      "_________________________________________________________________\n",
      " Layer (type)                Output Shape              Param #   \n",
      "=================================================================\n",
      " flatten_2 (Flatten)         (None, 3072)              0         \n",
      "                                                                 \n",
      " dense_6 (Dense)             (None, 1024)              3146752   \n",
      "                                                                 \n",
      " dense_7 (Dense)             (None, 1024)              1049600   \n",
      "                                                                 \n",
      " dense_8 (Dense)             (None, 1)                 1025      \n",
      "                                                                 \n",
      "=================================================================\n",
      "Total params: 4,197,377\n",
      "Trainable params: 4,197,377\n",
      "Non-trainable params: 0\n",
      "_________________________________________________________________\n"
     ]
    }
   ],
   "source": [
    "model.summary()"
   ]
  },
  {
   "cell_type": "code",
   "execution_count": 45,
   "metadata": {},
   "outputs": [],
   "source": [
    "lr = 0.01\n",
    "max_epochs = 100\n",
    "opt_funct = SGD(learning_rate=lr)"
   ]
  },
  {
   "cell_type": "code",
   "execution_count": 46,
   "metadata": {},
   "outputs": [],
   "source": [
    "model.compile(loss = 'binary_crossentropy', \n",
    "              optimizer = opt_funct, \n",
    "              metrics = ['accuracy'])"
   ]
  },
  {
   "cell_type": "markdown",
   "metadata": {},
   "source": [
    "<h1> Train Model </h1>"
   ]
  },
  {
   "cell_type": "code",
   "execution_count": 47,
   "metadata": {},
   "outputs": [
    {
     "name": "stdout",
     "output_type": "stream",
     "text": [
      "Epoch 1/100\n",
      "3/3 [==============================] - 1s 98ms/step - loss: 0.7224 - accuracy: 0.5750 - val_loss: 3.5277 - val_accuracy: 0.4000\n",
      "Epoch 2/100\n",
      "3/3 [==============================] - 0s 32ms/step - loss: 1.9949 - accuracy: 0.5000 - val_loss: 0.7443 - val_accuracy: 0.6000\n",
      "Epoch 3/100\n",
      "3/3 [==============================] - 0s 41ms/step - loss: 0.8081 - accuracy: 0.5250 - val_loss: 0.8216 - val_accuracy: 0.4000\n",
      "Epoch 4/100\n",
      "3/3 [==============================] - 0s 40ms/step - loss: 0.6989 - accuracy: 0.5250 - val_loss: 0.6258 - val_accuracy: 0.6000\n",
      "Epoch 5/100\n",
      "3/3 [==============================] - 0s 41ms/step - loss: 0.7417 - accuracy: 0.4750 - val_loss: 1.6595 - val_accuracy: 0.4000\n",
      "Epoch 6/100\n",
      "3/3 [==============================] - 0s 40ms/step - loss: 0.9761 - accuracy: 0.5250 - val_loss: 0.7008 - val_accuracy: 0.4000\n",
      "Epoch 7/100\n",
      "3/3 [==============================] - 0s 40ms/step - loss: 0.6334 - accuracy: 0.6750 - val_loss: 0.7269 - val_accuracy: 0.4000\n",
      "Epoch 8/100\n",
      "3/3 [==============================] - 0s 40ms/step - loss: 0.6912 - accuracy: 0.5000 - val_loss: 0.7311 - val_accuracy: 0.4000\n",
      "Epoch 9/100\n",
      "3/3 [==============================] - 0s 40ms/step - loss: 0.7898 - accuracy: 0.5250 - val_loss: 0.7315 - val_accuracy: 0.4000\n",
      "Epoch 10/100\n",
      "3/3 [==============================] - 0s 40ms/step - loss: 0.6583 - accuracy: 0.5250 - val_loss: 0.6943 - val_accuracy: 0.6000\n",
      "Epoch 11/100\n",
      "3/3 [==============================] - 0s 42ms/step - loss: 0.6965 - accuracy: 0.6750 - val_loss: 0.7154 - val_accuracy: 0.6000\n",
      "Epoch 12/100\n",
      "3/3 [==============================] - 0s 44ms/step - loss: 0.8468 - accuracy: 0.4250 - val_loss: 0.6447 - val_accuracy: 0.7500\n",
      "Epoch 13/100\n",
      "3/3 [==============================] - 0s 40ms/step - loss: 0.6525 - accuracy: 0.6875 - val_loss: 0.6639 - val_accuracy: 0.6000\n",
      "Epoch 14/100\n",
      "3/3 [==============================] - 0s 40ms/step - loss: 0.6821 - accuracy: 0.5375 - val_loss: 0.5983 - val_accuracy: 0.7000\n",
      "Epoch 15/100\n",
      "3/3 [==============================] - 0s 40ms/step - loss: 0.5998 - accuracy: 0.5750 - val_loss: 0.6294 - val_accuracy: 0.8000\n",
      "Epoch 16/100\n",
      "3/3 [==============================] - 0s 39ms/step - loss: 0.5721 - accuracy: 0.8250 - val_loss: 0.7818 - val_accuracy: 0.4000\n",
      "Epoch 17/100\n",
      "3/3 [==============================] - 0s 41ms/step - loss: 0.5605 - accuracy: 0.8125 - val_loss: 0.5903 - val_accuracy: 0.6000\n",
      "Epoch 18/100\n",
      "3/3 [==============================] - 0s 47ms/step - loss: 0.7037 - accuracy: 0.4750 - val_loss: 0.6762 - val_accuracy: 0.4000\n",
      "Epoch 19/100\n",
      "3/3 [==============================] - 0s 52ms/step - loss: 0.6399 - accuracy: 0.5125 - val_loss: 0.7784 - val_accuracy: 0.6000\n",
      "Epoch 20/100\n",
      "3/3 [==============================] - 0s 51ms/step - loss: 0.6808 - accuracy: 0.7625 - val_loss: 0.6342 - val_accuracy: 0.7000\n",
      "Epoch 21/100\n",
      "3/3 [==============================] - 0s 53ms/step - loss: 0.5709 - accuracy: 0.7000 - val_loss: 0.5893 - val_accuracy: 0.9000\n",
      "Epoch 22/100\n",
      "3/3 [==============================] - 0s 61ms/step - loss: 0.5428 - accuracy: 0.8875 - val_loss: 0.5779 - val_accuracy: 0.6000\n",
      "Epoch 23/100\n",
      "3/3 [==============================] - 0s 49ms/step - loss: 0.5921 - accuracy: 0.5500 - val_loss: 0.7460 - val_accuracy: 0.4000\n",
      "Epoch 24/100\n",
      "3/3 [==============================] - 0s 48ms/step - loss: 0.5274 - accuracy: 0.8125 - val_loss: 0.5765 - val_accuracy: 0.8500\n",
      "Epoch 25/100\n",
      "3/3 [==============================] - 0s 45ms/step - loss: 0.5215 - accuracy: 0.8875 - val_loss: 0.6198 - val_accuracy: 0.6000\n",
      "Epoch 26/100\n",
      "3/3 [==============================] - 0s 45ms/step - loss: 0.7246 - accuracy: 0.4875 - val_loss: 0.8172 - val_accuracy: 0.4000\n",
      "Epoch 27/100\n",
      "3/3 [==============================] - 0s 46ms/step - loss: 0.5978 - accuracy: 0.5750 - val_loss: 0.5974 - val_accuracy: 0.8000\n",
      "Epoch 28/100\n",
      "3/3 [==============================] - 0s 48ms/step - loss: 0.5338 - accuracy: 0.8125 - val_loss: 0.6373 - val_accuracy: 0.6000\n",
      "Epoch 29/100\n",
      "3/3 [==============================] - 0s 46ms/step - loss: 0.6479 - accuracy: 0.5125 - val_loss: 0.8686 - val_accuracy: 0.4000\n",
      "Epoch 30/100\n",
      "3/3 [==============================] - 0s 45ms/step - loss: 0.5465 - accuracy: 0.7000 - val_loss: 0.8334 - val_accuracy: 0.4000\n",
      "Epoch 31/100\n",
      "3/3 [==============================] - 0s 46ms/step - loss: 0.5266 - accuracy: 0.6750 - val_loss: 0.7380 - val_accuracy: 0.4000\n",
      "Epoch 32/100\n",
      "3/3 [==============================] - 0s 46ms/step - loss: 0.5857 - accuracy: 0.5500 - val_loss: 0.5400 - val_accuracy: 0.7500\n",
      "Epoch 33/100\n",
      "3/3 [==============================] - 0s 47ms/step - loss: 0.6239 - accuracy: 0.5375 - val_loss: 0.9619 - val_accuracy: 0.4000\n",
      "Epoch 34/100\n",
      "3/3 [==============================] - 0s 46ms/step - loss: 0.7374 - accuracy: 0.4750 - val_loss: 0.5772 - val_accuracy: 0.6000\n",
      "Epoch 35/100\n",
      "3/3 [==============================] - 0s 45ms/step - loss: 0.5431 - accuracy: 0.6750 - val_loss: 0.6167 - val_accuracy: 0.6000\n",
      "Epoch 36/100\n",
      "3/3 [==============================] - 0s 47ms/step - loss: 0.5638 - accuracy: 0.7250 - val_loss: 1.0267 - val_accuracy: 0.4000\n",
      "Epoch 37/100\n",
      "3/3 [==============================] - 0s 46ms/step - loss: 0.5974 - accuracy: 0.6875 - val_loss: 0.5665 - val_accuracy: 0.8500\n",
      "Epoch 38/100\n",
      "3/3 [==============================] - 0s 45ms/step - loss: 0.5177 - accuracy: 0.7625 - val_loss: 0.6340 - val_accuracy: 0.6000\n",
      "Epoch 39/100\n",
      "3/3 [==============================] - 0s 46ms/step - loss: 0.5980 - accuracy: 0.6125 - val_loss: 0.5265 - val_accuracy: 0.8000\n",
      "Epoch 40/100\n",
      "3/3 [==============================] - 0s 45ms/step - loss: 0.4803 - accuracy: 0.8375 - val_loss: 0.5456 - val_accuracy: 0.8500\n",
      "Epoch 41/100\n",
      "3/3 [==============================] - 0s 46ms/step - loss: 0.5095 - accuracy: 0.7875 - val_loss: 0.5155 - val_accuracy: 0.8500\n",
      "Epoch 42/100\n",
      "3/3 [==============================] - 0s 45ms/step - loss: 0.4615 - accuracy: 0.9000 - val_loss: 1.0101 - val_accuracy: 0.4000\n",
      "Epoch 43/100\n",
      "3/3 [==============================] - 0s 46ms/step - loss: 0.7562 - accuracy: 0.5625 - val_loss: 0.6534 - val_accuracy: 0.4500\n",
      "Epoch 44/100\n",
      "3/3 [==============================] - 0s 45ms/step - loss: 0.4537 - accuracy: 0.8750 - val_loss: 0.5138 - val_accuracy: 0.7500\n",
      "Epoch 45/100\n",
      "3/3 [==============================] - 0s 45ms/step - loss: 0.6499 - accuracy: 0.5125 - val_loss: 1.0284 - val_accuracy: 0.4000\n",
      "Epoch 46/100\n",
      "3/3 [==============================] - 0s 46ms/step - loss: 0.5760 - accuracy: 0.6875 - val_loss: 1.1130 - val_accuracy: 0.4000\n",
      "Epoch 47/100\n",
      "3/3 [==============================] - 0s 46ms/step - loss: 0.7860 - accuracy: 0.4500 - val_loss: 0.6195 - val_accuracy: 0.6000\n",
      "Epoch 48/100\n",
      "3/3 [==============================] - 0s 45ms/step - loss: 0.4975 - accuracy: 0.8000 - val_loss: 0.6679 - val_accuracy: 0.4500\n",
      "Epoch 49/100\n",
      "3/3 [==============================] - 0s 45ms/step - loss: 0.5002 - accuracy: 0.7375 - val_loss: 0.5256 - val_accuracy: 0.7000\n",
      "Epoch 50/100\n",
      "3/3 [==============================] - 0s 47ms/step - loss: 0.5566 - accuracy: 0.5875 - val_loss: 0.9500 - val_accuracy: 0.4000\n",
      "Epoch 51/100\n",
      "3/3 [==============================] - 0s 45ms/step - loss: 0.6140 - accuracy: 0.5250 - val_loss: 0.6334 - val_accuracy: 0.6000\n",
      "Epoch 52/100\n",
      "3/3 [==============================] - 0s 45ms/step - loss: 0.5074 - accuracy: 0.7625 - val_loss: 0.5660 - val_accuracy: 0.8000\n",
      "Epoch 53/100\n",
      "3/3 [==============================] - 0s 46ms/step - loss: 0.4556 - accuracy: 0.8500 - val_loss: 0.5316 - val_accuracy: 0.7000\n",
      "Epoch 54/100\n",
      "3/3 [==============================] - 0s 46ms/step - loss: 0.5613 - accuracy: 0.5875 - val_loss: 0.7871 - val_accuracy: 0.4000\n",
      "Epoch 55/100\n",
      "3/3 [==============================] - 0s 46ms/step - loss: 0.5778 - accuracy: 0.5500 - val_loss: 0.6071 - val_accuracy: 0.6000\n",
      "Epoch 56/100\n",
      "3/3 [==============================] - 0s 46ms/step - loss: 0.5042 - accuracy: 0.7875 - val_loss: 0.7307 - val_accuracy: 0.4000\n",
      "Epoch 57/100\n",
      "3/3 [==============================] - 0s 46ms/step - loss: 0.5097 - accuracy: 0.6500 - val_loss: 0.5061 - val_accuracy: 0.7000\n",
      "Epoch 58/100\n",
      "3/3 [==============================] - 0s 46ms/step - loss: 0.6374 - accuracy: 0.4875 - val_loss: 0.8786 - val_accuracy: 0.4000\n",
      "Epoch 59/100\n",
      "3/3 [==============================] - 0s 46ms/step - loss: 0.5715 - accuracy: 0.6625 - val_loss: 0.4937 - val_accuracy: 0.8000\n",
      "Epoch 60/100\n",
      "3/3 [==============================] - 0s 46ms/step - loss: 0.4104 - accuracy: 0.9375 - val_loss: 0.4784 - val_accuracy: 0.9000\n",
      "Epoch 61/100\n",
      "3/3 [==============================] - 0s 45ms/step - loss: 0.4386 - accuracy: 0.8375 - val_loss: 0.6757 - val_accuracy: 0.6000\n",
      "Epoch 62/100\n",
      "3/3 [==============================] - 0s 45ms/step - loss: 0.4775 - accuracy: 0.8000 - val_loss: 0.4741 - val_accuracy: 0.8000\n",
      "Epoch 63/100\n",
      "3/3 [==============================] - 0s 45ms/step - loss: 0.3815 - accuracy: 0.9375 - val_loss: 0.4580 - val_accuracy: 0.8000\n",
      "Epoch 64/100\n",
      "3/3 [==============================] - 0s 47ms/step - loss: 0.3690 - accuracy: 0.9000 - val_loss: 0.4598 - val_accuracy: 0.8000\n",
      "Epoch 65/100\n",
      "3/3 [==============================] - 0s 46ms/step - loss: 0.8020 - accuracy: 0.6250 - val_loss: 0.5215 - val_accuracy: 0.7500\n",
      "Epoch 66/100\n",
      "3/3 [==============================] - 0s 46ms/step - loss: 0.6097 - accuracy: 0.6125 - val_loss: 0.6423 - val_accuracy: 0.5500\n",
      "Epoch 67/100\n",
      "3/3 [==============================] - 0s 43ms/step - loss: 0.4755 - accuracy: 0.8125 - val_loss: 0.5263 - val_accuracy: 0.7000\n",
      "Epoch 68/100\n",
      "3/3 [==============================] - 0s 43ms/step - loss: 0.4725 - accuracy: 0.7125 - val_loss: 1.0874 - val_accuracy: 0.4000\n",
      "Epoch 69/100\n",
      "3/3 [==============================] - 0s 41ms/step - loss: 0.5447 - accuracy: 0.6875 - val_loss: 0.4768 - val_accuracy: 0.8000\n",
      "Epoch 70/100\n",
      "3/3 [==============================] - 0s 43ms/step - loss: 0.3643 - accuracy: 0.9625 - val_loss: 0.8927 - val_accuracy: 0.4000\n",
      "Epoch 71/100\n",
      "3/3 [==============================] - 0s 61ms/step - loss: 0.8293 - accuracy: 0.4500 - val_loss: 0.5591 - val_accuracy: 0.6500\n",
      "Epoch 72/100\n",
      "3/3 [==============================] - 0s 46ms/step - loss: 0.4924 - accuracy: 0.7750 - val_loss: 0.8650 - val_accuracy: 0.4000\n",
      "Epoch 73/100\n",
      "3/3 [==============================] - 0s 45ms/step - loss: 0.6682 - accuracy: 0.5375 - val_loss: 0.5044 - val_accuracy: 0.8000\n",
      "Epoch 74/100\n",
      "3/3 [==============================] - 0s 45ms/step - loss: 0.4061 - accuracy: 0.9250 - val_loss: 0.5225 - val_accuracy: 0.8000\n",
      "Epoch 75/100\n",
      "3/3 [==============================] - 0s 45ms/step - loss: 0.3685 - accuracy: 0.9375 - val_loss: 0.4588 - val_accuracy: 0.7500\n",
      "Epoch 76/100\n",
      "3/3 [==============================] - 0s 46ms/step - loss: 0.4443 - accuracy: 0.7000 - val_loss: 0.4760 - val_accuracy: 0.8500\n",
      "Epoch 77/100\n",
      "3/3 [==============================] - 0s 46ms/step - loss: 0.3416 - accuracy: 0.9250 - val_loss: 0.5819 - val_accuracy: 0.6500\n",
      "Epoch 78/100\n",
      "3/3 [==============================] - 0s 46ms/step - loss: 0.6030 - accuracy: 0.6250 - val_loss: 0.8055 - val_accuracy: 0.6000\n",
      "Epoch 79/100\n",
      "3/3 [==============================] - 0s 47ms/step - loss: 0.6075 - accuracy: 0.7625 - val_loss: 0.4646 - val_accuracy: 0.8000\n",
      "Epoch 80/100\n",
      "3/3 [==============================] - 0s 48ms/step - loss: 0.3791 - accuracy: 0.9000 - val_loss: 0.5346 - val_accuracy: 0.7000\n",
      "Epoch 81/100\n",
      "3/3 [==============================] - 0s 47ms/step - loss: 0.5637 - accuracy: 0.6000 - val_loss: 0.5368 - val_accuracy: 0.8000\n",
      "Epoch 82/100\n",
      "3/3 [==============================] - 0s 46ms/step - loss: 0.4477 - accuracy: 0.7750 - val_loss: 0.6110 - val_accuracy: 0.6000\n",
      "Epoch 83/100\n",
      "3/3 [==============================] - 0s 45ms/step - loss: 0.4780 - accuracy: 0.7375 - val_loss: 0.5557 - val_accuracy: 0.7000\n",
      "Epoch 84/100\n",
      "3/3 [==============================] - 0s 48ms/step - loss: 0.3947 - accuracy: 0.7875 - val_loss: 0.4367 - val_accuracy: 0.8000\n",
      "Epoch 85/100\n",
      "3/3 [==============================] - 0s 46ms/step - loss: 0.3406 - accuracy: 0.9375 - val_loss: 0.9259 - val_accuracy: 0.4000\n",
      "Epoch 86/100\n",
      "3/3 [==============================] - 0s 44ms/step - loss: 0.7399 - accuracy: 0.5250 - val_loss: 0.5066 - val_accuracy: 0.7000\n",
      "Epoch 87/100\n",
      "3/3 [==============================] - 0s 47ms/step - loss: 0.5553 - accuracy: 0.5875 - val_loss: 0.6071 - val_accuracy: 0.6000\n",
      "Epoch 88/100\n",
      "3/3 [==============================] - 0s 46ms/step - loss: 0.4908 - accuracy: 0.7125 - val_loss: 0.4413 - val_accuracy: 0.8000\n",
      "Epoch 89/100\n",
      "3/3 [==============================] - 0s 46ms/step - loss: 0.4294 - accuracy: 0.8000 - val_loss: 0.7433 - val_accuracy: 0.4500\n",
      "Epoch 90/100\n",
      "3/3 [==============================] - 0s 45ms/step - loss: 0.5524 - accuracy: 0.5875 - val_loss: 0.6272 - val_accuracy: 0.6000\n",
      "Epoch 91/100\n",
      "3/3 [==============================] - 0s 46ms/step - loss: 0.6014 - accuracy: 0.6500 - val_loss: 0.7185 - val_accuracy: 0.4500\n",
      "Epoch 92/100\n",
      "3/3 [==============================] - 0s 46ms/step - loss: 0.7157 - accuracy: 0.4875 - val_loss: 0.5029 - val_accuracy: 0.7000\n",
      "Epoch 93/100\n",
      "3/3 [==============================] - 0s 46ms/step - loss: 0.3963 - accuracy: 0.8375 - val_loss: 0.4752 - val_accuracy: 0.8500\n",
      "Epoch 94/100\n",
      "3/3 [==============================] - 0s 46ms/step - loss: 0.3356 - accuracy: 0.9500 - val_loss: 0.4276 - val_accuracy: 0.8500\n",
      "Epoch 95/100\n",
      "3/3 [==============================] - 0s 45ms/step - loss: 0.3063 - accuracy: 0.9625 - val_loss: 0.4101 - val_accuracy: 0.8000\n",
      "Epoch 96/100\n",
      "3/3 [==============================] - 0s 46ms/step - loss: 0.4472 - accuracy: 0.8250 - val_loss: 1.9322 - val_accuracy: 0.4000\n",
      "Epoch 97/100\n",
      "3/3 [==============================] - 0s 46ms/step - loss: 0.8784 - accuracy: 0.6500 - val_loss: 0.5660 - val_accuracy: 0.7000\n",
      "Epoch 98/100\n",
      "3/3 [==============================] - 0s 58ms/step - loss: 0.5796 - accuracy: 0.6000 - val_loss: 0.4978 - val_accuracy: 0.7000\n",
      "Epoch 99/100\n",
      "3/3 [==============================] - 0s 46ms/step - loss: 0.4220 - accuracy: 0.7625 - val_loss: 0.7212 - val_accuracy: 0.4500\n",
      "Epoch 100/100\n",
      "3/3 [==============================] - 0s 45ms/step - loss: 0.3666 - accuracy: 0.8750 - val_loss: 0.5973 - val_accuracy: 0.6500\n"
     ]
    }
   ],
   "source": [
    "H = model.fit(x_train, y_train, validation_data=(x_test, y_test), \n",
    "          epochs=max_epochs, batch_size=32)"
   ]
  },
  {
   "cell_type": "code",
   "execution_count": 48,
   "metadata": {},
   "outputs": [
    {
     "data": {
      "image/png": "[encoded data removed]",
      "text/plain": [
       "<Figure size 432x288 with 1 Axes>"
      ]
     },
     "metadata": {},
     "output_type": "display_data"
    }
   ],
   "source": [
    "N = np.arange(0, max_epochs)\n",
    "plt.style.use(\"ggplot\")\n",
    "plt.figure()\n",
    "plt.plot(N, H.history[\"loss\"], label=\"train_loss\")\n",
    "plt.plot(N, H.history[\"val_loss\"], label=\"val_loss\")\n",
    "#plt.plot(N, H.history[\"accuracy\"], label=\"train_acc\")\n",
    "#plt.plot(N, H.history[\"val_accuracy\"], label=\"val_acc\")\n",
    "plt.xlabel(\"Epoch #\")\n",
    "plt.legend()\n",
    "plt.show()"
   ]
  },
  {
   "cell_type": "markdown",
   "metadata": {},
   "source": [
    "<h1>Evaluasi</h1>"
   ]
  },
  {
   "cell_type": "code",
   "execution_count": 49,
   "metadata": {},
   "outputs": [
    {
     "name": "stdout",
     "output_type": "stream",
     "text": [
      "              precision    recall  f1-score   support\n",
      "\n",
      "  jeruknipis       0.53      1.00      0.70         8\n",
      "     Seledri       1.00      0.42      0.59        12\n",
      "\n",
      "    accuracy                           0.65        20\n",
      "   macro avg       0.77      0.71      0.64        20\n",
      "weighted avg       0.81      0.65      0.63        20\n",
      "\n"
     ]
    },
    {
     "name": "stderr",
     "output_type": "stream",
     "text": [
      "C:\\Users\\ASUS\\AppData\\Local\\Temp/ipykernel_7372/2175272745.py:2: DeprecationWarning: `np.int` is a deprecated alias for the builtin `int`. To silence this warning, use `int` by itself. Doing this will not modify any behavior and is safe. When replacing `np.int`, you may wish to use e.g. `np.int64` or `np.int32` to specify the precision. If you wish to review your current use, check the release note link for additional information.\n",
      "Deprecated in NumPy 1.20; for more details and guidance: https://numpy.org/devdocs/release/1.20.0-notes.html#deprecations\n",
      "  target = (predictions > 0.5).astype(np.int)\n"
     ]
    }
   ],
   "source": [
    "predictions = model.predict(x_test, batch_size=32)\n",
    "target = (predictions > 0.5).astype(np.int)\n",
    "print(classification_report(y_test, target, target_names=label_list))"
   ]
  },
  {
   "cell_type": "code",
   "execution_count": 50,
   "metadata": {},
   "outputs": [
    {
     "name": "stdout",
     "output_type": "stream",
     "text": [
      "[[0.13360009]]\n"
     ]
    }
   ],
   "source": [
    "# uji model menggunakan image lain\n",
    "queryPath = imagePaths+'tes.jpg'\n",
    "query = cv2.imread(queryPath)\n",
    "output = query.copy()\n",
    "query = cv2.resize(query, (32, 32))\n",
    "q = []\n",
    "q.append(query)\n",
    "q = np.array(q, dtype='float') / 255.0\n",
    "\n",
    "q_pred = model.predict(q)\n",
    "print(q_pred)"
   ]
  },
  {
   "cell_type": "code",
   "execution_count": 51,
   "metadata": {},
   "outputs": [],
   "source": [
    "if q_pred<=0.5 :\n",
    "    target = \"Jeruk Nipis\"\n",
    "else :\n",
    "    target = \"Seledri\"\n",
    "text = \"{}\".format(target)\n",
    "cv2.putText(output, text, (10, 30), cv2.FONT_HERSHEY_SIMPLEX, 0.7, (0, 0, 255), 2)\n",
    " \n",
    "# menampilkan output image\n",
    "cv2.imshow('Output', output)\n",
    "cv2.waitKey() # image tidak akan diclose,sebelum user menekan sembarang tombol\n",
    "cv2.destroyWindow('Output') # image akan diclose"
   ]
  }
 ],
 "metadata": {
  "interpreter": {
   "hash": "8da01e5a71448ea74f54d88afa8911010d1d12e23bc7e103d40d5def4a09152c"
  },
  "kernelspec": {
   "display_name": "Python 3.9.5 64-bit",
   "language": "python",
   "name": "python3"
  },
  "language_info": {
   "codemirror_mode": {
    "name": "ipython",
    "version": 3
   },
   "file_extension": ".py",
   "mimetype": "text/x-python",
   "name": "python",
   "nbconvert_exporter": "python",
   "pygments_lexer": "ipython3",
   "version": "3.9.5"
  },
  "orig_nbformat": 4
 },
 "nbformat": 4,
 "nbformat_minor": 2
}
